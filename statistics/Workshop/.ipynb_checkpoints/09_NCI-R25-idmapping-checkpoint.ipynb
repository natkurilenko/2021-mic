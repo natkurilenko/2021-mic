{
 "cells": [
  {
   "cell_type": "markdown",
   "id": "c7b363c2",
   "metadata": {},
   "source": [
    "# Query genomic annotation using the biomaRt package from Bioconductor"
   ]
  },
  {
   "cell_type": "code",
   "execution_count": null,
   "id": "d9076948",
   "metadata": {},
   "outputs": [],
   "source": [
    "library(biomaRt)\n",
    "library(tidyverse)"
   ]
  },
  {
   "cell_type": "code",
   "execution_count": null,
   "id": "2500676e",
   "metadata": {},
   "outputs": [],
   "source": [
    "mymart <- useMart(\"ENSEMBL_MART_ENSEMBL\", dataset=\"mmusculus_gene_ensembl\", version = \"Ensembl Genes 104\")"
   ]
  },
  {
   "cell_type": "markdown",
   "id": "b3766bf8",
   "metadata": {},
   "source": [
    "## Example: query entrez id, and MGI id and symbol for ensembl ids"
   ]
  },
  {
   "cell_type": "markdown",
   "id": "198d9825",
   "metadata": {},
   "source": [
    "### List filters"
   ]
  },
  {
   "cell_type": "code",
   "execution_count": null,
   "id": "ded7271b",
   "metadata": {},
   "outputs": [],
   "source": [
    "listFilters(mymart) %>% dplyr::filter(stringr::str_detect(name, \"ensembl\"))"
   ]
  },
  {
   "cell_type": "markdown",
   "id": "b860ff33",
   "metadata": {},
   "source": [
    "### List attributes"
   ]
  },
  {
   "cell_type": "code",
   "execution_count": null,
   "id": "79c91973",
   "metadata": {},
   "outputs": [],
   "source": [
    "listAttributes(mymart) %>% dplyr::filter(str_detect(name, \"ensembl|entrez|mgi\"))"
   ]
  },
  {
   "cell_type": "markdown",
   "id": "fa7f5150",
   "metadata": {},
   "source": [
    "### sample query for two genes"
   ]
  },
  {
   "cell_type": "markdown",
   "id": "3f2e5369",
   "metadata": {},
   "source": [
    "Query by ensembl id"
   ]
  },
  {
   "cell_type": "code",
   "execution_count": null,
   "id": "6fc3d7a3",
   "metadata": {
    "lines_to_next_cell": 0
   },
   "outputs": [],
   "source": [
    "biomaRt::getBM(\n",
    "    filters = \"ensembl_gene_id\",\n",
    "    attributes=c(\"ensembl_gene_id\", \"entrezgene_id\",\"mgi_id\", \"mgi_symbol\"),\n",
    "    values=c(\"ENSMUSG00000023951\", \"ENSMUSG00000041872\"),\n",
    "    mart=mymart\n",
    ")"
   ]
  },
  {
   "cell_type": "markdown",
   "id": "c121fbb4",
   "metadata": {},
   "source": [
    "Conversely, query using entrez ids"
   ]
  },
  {
   "cell_type": "code",
   "execution_count": null,
   "id": "83843c93",
   "metadata": {
    "lines_to_next_cell": 0
   },
   "outputs": [],
   "source": [
    "biomaRt::getBM(\n",
    "    filters = \"entrezgene_id\",\n",
    "    attributes=c(\"ensembl_gene_id\", \"entrezgene_id\",\"mgi_id\", \"mgi_symbol\"),\n",
    "    values=c(22339, 257630),\n",
    "    mart=mymart\n",
    ")"
   ]
  },
  {
   "cell_type": "markdown",
   "id": "5f72a533",
   "metadata": {},
   "source": [
    "\n",
    "\n"
   ]
  },
  {
   "cell_type": "markdown",
   "id": "74f76237",
   "metadata": {},
   "source": [
    "## Query gene ids for pathway analysis"
   ]
  },
  {
   "cell_type": "markdown",
   "id": "5d769531",
   "metadata": {},
   "source": [
    "A pathway analysis is by deisgn limited to the genes annotated in pathways. Accordingly, can limit our attention to this subset of genes."
   ]
  },
  {
   "cell_type": "markdown",
   "id": "51f41089",
   "metadata": {},
   "source": [
    "### Import Pathways"
   ]
  },
  {
   "cell_type": "code",
   "execution_count": null,
   "id": "7eea623c",
   "metadata": {},
   "outputs": [],
   "source": [
    "annodir <- \"./resource/\"\n",
    "annofile <- file.path(annodir, \"Mm.h.all.v7.1.entrez.rds\")\n",
    "\n",
    "tools::md5sum(annofile)\n",
    "\n",
    "Mm.H <- readRDS(annofile)"
   ]
  },
  {
   "cell_type": "markdown",
   "id": "6a55c63f",
   "metadata": {},
   "source": [
    "### Query annotation for genes annotated in the pathways"
   ]
  },
  {
   "cell_type": "code",
   "execution_count": null,
   "id": "797e02d1",
   "metadata": {},
   "outputs": [],
   "source": [
    "biomaRt::getBM(\n",
    "    filters = \"entrezgene_id\",\n",
    "    attributes=c(\"chromosome_name\", \"start_position\", \"end_position\" , \"strand\" , \"ensembl_gene_id\", \"entrezgene_id\",\"mgi_id\", \"mgi_symbol\"),\n",
    "    values=as.integer(unique(unlist(Mm.H))),\n",
    "    mart=mymart\n",
    ") -> pathwayids"
   ]
  },
  {
   "cell_type": "code",
   "execution_count": null,
   "id": "179c658f",
   "metadata": {},
   "outputs": [],
   "source": [
    "pathwayids %>% head"
   ]
  },
  {
   "cell_type": "markdown",
   "id": "2a7c1cb5",
   "metadata": {},
   "source": [
    "### "
   ]
  },
  {
   "cell_type": "markdown",
   "id": "89f65f6b",
   "metadata": {},
   "source": [
    "Number of pathways ids with no query"
   ]
  },
  {
   "cell_type": "code",
   "execution_count": null,
   "id": "0b43cb4b",
   "metadata": {},
   "outputs": [],
   "source": [
    "length(setdiff(as.integer(unlist(Mm.H)), pathwayids[[\"entrezgene_id\"]]))"
   ]
  },
  {
   "cell_type": "markdown",
   "id": "77acf8fe",
   "metadata": {},
   "source": [
    "Pathway ids with non-unique ensembl id"
   ]
  },
  {
   "cell_type": "code",
   "execution_count": null,
   "id": "1dc7496b",
   "metadata": {},
   "outputs": [],
   "source": [
    "pathwayids %>% dplyr::group_by(ensembl_gene_id) %>% dplyr::filter(n()>1) %>% arrange(ensembl_gene_id)"
   ]
  },
  {
   "cell_type": "code",
   "execution_count": null,
   "id": "06892b39",
   "metadata": {},
   "outputs": [],
   "source": [
    "## \n",
    "biomaRt::getBM(\n",
    "    filters = \"entrezgene_id\",\n",
    "    attributes=c(\"ensembl_gene_id\", \"entrezgene_id\",\"mgi_id\", \"mgi_symbol\"),\n",
    "    values=c(19047,434233),\n",
    "    mart=mymart\n",
    ")          "
   ]
  },
  {
   "cell_type": "code",
   "execution_count": null,
   "id": "b36411ba",
   "metadata": {},
   "outputs": [],
   "source": [
    "## \n",
    "biomaRt::getBM(\n",
    "    filters = \"entrezgene_id\",\n",
    "    attributes=c(\"ensembl_gene_id\", \"entrezgene_id\",\"mgi_id\", \"mgi_symbol\"),\n",
    "    values=c(100041273, 100042503, 68194),\n",
    "    mart=mymart\n",
    ")          "
   ]
  },
  {
   "cell_type": "code",
   "execution_count": null,
   "id": "a982266a",
   "metadata": {},
   "outputs": [],
   "source": [
    "56066\n",
    "\n",
    "biomaRt::getBM(\n",
    "    filters = \"entrezgene_id\",\n",
    "    attributes=c(\"ensembl_gene_id\", \"entrezgene_id\",\"mgi_id\", \"mgi_symbol\"),\n",
    "    values=c(56066),\n",
    "    mart=mymart\n",
    ") "
   ]
  },
  {
   "cell_type": "markdown",
   "id": "12dabdc6",
   "metadata": {},
   "source": [
    "## Import ensembl ids from study data"
   ]
  },
  {
   "cell_type": "code",
   "execution_count": null,
   "id": "ed7ba776",
   "metadata": {},
   "outputs": [],
   "source": [
    "listFilters(mymart)[grep(\"entrez\",listFilters(mymart)[,1]),]"
   ]
  },
  {
   "cell_type": "markdown",
   "id": "deeb30fa",
   "metadata": {},
   "source": [
    "## Query annotation data from MGI (http://www.informatics.jax.org)"
   ]
  },
  {
   "cell_type": "code",
   "execution_count": null,
   "id": "0b363dcb",
   "metadata": {},
   "outputs": [],
   "source": [
    "paste0(rep(\"c\",15), collapse = \"\")"
   ]
  },
  {
   "cell_type": "code",
   "execution_count": null,
   "id": "a61e6d0c",
   "metadata": {},
   "outputs": [],
   "source": [
    "mgifile <- \"http://www.informatics.jax.org/downloads/reports/MGI_Gene_Model_Coord.rpt\"\n",
    "\n",
    "readr::read_tsv(mgifile) -> mgidat"
   ]
  },
  {
   "cell_type": "code",
   "execution_count": null,
   "id": "3d6addb7",
   "metadata": {},
   "outputs": [],
   "source": [
    "mgidat "
   ]
  },
  {
   "cell_type": "markdown",
   "id": "710d2e8e",
   "metadata": {},
   "source": [
    "## Get rid of genes listed as \"null\""
   ]
  },
  {
   "cell_type": "code",
   "execution_count": null,
   "id": "ab57202c",
   "metadata": {},
   "outputs": [],
   "source": [
    "mgidat %>% \n",
    "    dplyr::filter(`6. Entrez gene id` != \"null\" & `11. Ensembl gene id` != \"null\") ->\n",
    "    mgidat\n",
    "\n",
    "mgidat"
   ]
  },
  {
   "cell_type": "markdown",
   "id": "4d1414ef",
   "metadata": {},
   "source": [
    "### Check  if ids are unique`"
   ]
  },
  {
   "cell_type": "code",
   "execution_count": null,
   "id": "e44d407c",
   "metadata": {},
   "outputs": [],
   "source": [
    "mgidat %>% \n",
    "    dplyr::group_by(`6. Entrez gene id`) %>%\n",
    "    dplyr::filter(n()>1)"
   ]
  },
  {
   "cell_type": "code",
   "execution_count": null,
   "id": "1639f829",
   "metadata": {},
   "outputs": [],
   "source": [
    "mgidat %>% \n",
    "    dplyr::group_by(`11. Ensembl gene id`) %>%\n",
    "    dplyr::filter(n()>1)"
   ]
  },
  {
   "cell_type": "markdown",
   "id": "890f92ed",
   "metadata": {},
   "source": [
    "### Number of pathway genes  not in annotation file"
   ]
  },
  {
   "cell_type": "code",
   "execution_count": null,
   "id": "3cf2c594",
   "metadata": {},
   "outputs": [],
   "source": [
    "length(setdiff(unlist(Mm.H), mgidat[[\"6. Entrez gene id\"]]))"
   ]
  },
  {
   "cell_type": "markdown",
   "id": "bee0b901",
   "metadata": {},
   "source": [
    "### Set location of analysis results"
   ]
  },
  {
   "cell_type": "code",
   "execution_count": null,
   "id": "19767632",
   "metadata": {},
   "outputs": [],
   "source": [
    "procdir <- \"./proc\"\n",
    "\n",
    "addfile <- file.path(procdir, \"PRJNA668393-DESeq2-additive.RDS\")\n",
    "multfile <- file.path(procdir, \"PRJNA668393-DESeq2-multiplicative.RDS\")\n",
    "\n",
    "tools::md5sum(addfile)\n",
    "tools::md5sum(multfile)"
   ]
  },
  {
   "cell_type": "markdown",
   "id": "9922a871",
   "metadata": {},
   "source": [
    "### "
   ]
  },
  {
   "cell_type": "code",
   "execution_count": null,
   "id": "7dfd8679",
   "metadata": {},
   "outputs": [],
   "source": [
    "### The ensembl ids from the gtf file end with version numbers\n",
    "### One can use str_remove to remove the ensemble version from id\n",
    "stringr::str_remove(\"ENSMUSG12345.01\",\".[0-9][0-9]{0,2}$\")\n",
    "stringr::str_remove(\"ENSMUSG12345.1\",\".[0-9][0-9]{0,2}$\")\n",
    "\n"
   ]
  },
  {
   "cell_type": "markdown",
   "id": "53a237e6",
   "metadata": {},
   "source": [
    "### Create a named vector (using entrez ids) for statistics from additive model"
   ]
  },
  {
   "cell_type": "code",
   "execution_count": null,
   "id": "73855335",
   "metadata": {},
   "outputs": [],
   "source": [
    "### drop genes with na statistics\n",
    "### clean ensembl id by dropping version number\n",
    "### Merge the results by the clean ensemble id using an inner join\n",
    "### Only keep \n",
    "\n",
    "readRDS(addfile) %>%\n",
    "    DESeq2::results(tidy = TRUE) %>%\n",
    "    tidyr:: drop_na(stat) %>%\n",
    "    dplyr::mutate(ensid = str_remove(row, \".[0-9][0-9]{0,2}$\")) %>%\n",
    "    dplyr::inner_join(mgidat, by = c(\"ensid\" = \"11. Ensembl gene id\")) %>%\n",
    "    dplyr::filter(`6. Entrez gene id` %in% unique(unlist(Mm.H))) %>% \n",
    "    dplyr::pull(stat, name = \"6. Entrez gene id\") ->\n",
    "    addstat"
   ]
  },
  {
   "cell_type": "markdown",
   "id": "9e93f73a",
   "metadata": {},
   "source": [
    "#### spot check the conversion for three genes"
   ]
  },
  {
   "cell_type": "code",
   "execution_count": null,
   "id": "c4b7e042",
   "metadata": {},
   "outputs": [],
   "source": [
    "idx <- sample(1:length(addstat), 3)\n",
    "idx"
   ]
  },
  {
   "cell_type": "code",
   "execution_count": null,
   "id": "a79e27ae",
   "metadata": {},
   "outputs": [],
   "source": [
    "mgidat %>% \n",
    "    dplyr::filter(`6. Entrez gene id` %in% names(addstat[idx])) %>%\n",
    "    dplyr::select(`6. Entrez gene id`, `11. Ensembl gene id`) ->\n",
    "    testres\n",
    "    \n",
    "testres"
   ]
  },
  {
   "cell_type": "code",
   "execution_count": null,
   "id": "5ab1481d",
   "metadata": {},
   "outputs": [],
   "source": [
    "addstat[idx]\n",
    "readRDS(addfile) %>%\n",
    "    DESeq2::results(tidy = TRUE) %>%\n",
    "    dplyr::filter(str_detect(row, paste0(testres[[\"11. Ensembl gene id\"]], collapse = \"|\")))"
   ]
  },
  {
   "cell_type": "markdown",
   "id": "1956bf9e",
   "metadata": {},
   "source": [
    "### Create a named vector (using entrez ids) for statistics from additive model"
   ]
  },
  {
   "cell_type": "code",
   "execution_count": null,
   "id": "8135be86",
   "metadata": {},
   "outputs": [],
   "source": [
    "### drop genes with na statistics\n",
    "### clean ensembl id by dropping version number\n",
    "### Merge the results by the clean ensemble id using an inner join\n",
    "### Only keep \n",
    "\n",
    "readRDS(multfile) %>%\n",
    "    DESeq2::results(tidy = TRUE) %>%\n",
    "    tidyr:: drop_na(stat) %>%\n",
    "    dplyr::mutate(ensid = str_remove(row, \".[0-9][0-9]{0,2}$\")) %>%\n",
    "    dplyr::inner_join(mgidat, by = c(\"ensid\" = \"11. Ensembl gene id\")) %>%\n",
    "    dplyr::filter(`6. Entrez gene id` %in% unique(unlist(Mm.H))) %>% \n",
    "    dplyr::pull(stat, name = \"6. Entrez gene id\") ->\n",
    "    multstat"
   ]
  },
  {
   "cell_type": "markdown",
   "id": "64e596c9",
   "metadata": {},
   "source": [
    "#### Spot check"
   ]
  },
  {
   "cell_type": "code",
   "execution_count": null,
   "id": "3bdd214b",
   "metadata": {},
   "outputs": [],
   "source": [
    "idx <- sample(1:length(addstat), 3)\n",
    "idx"
   ]
  },
  {
   "cell_type": "code",
   "execution_count": null,
   "id": "79e672b3",
   "metadata": {},
   "outputs": [],
   "source": [
    "mgidat %>% \n",
    "    dplyr::filter(`6. Entrez gene id` %in% names(multstat[idx])) %>%\n",
    "    dplyr::select(`6. Entrez gene id`, `11. Ensembl gene id`) ->\n",
    "    testres\n",
    "    \n",
    "testres"
   ]
  },
  {
   "cell_type": "code",
   "execution_count": null,
   "id": "fad99e17",
   "metadata": {},
   "outputs": [],
   "source": [
    "multstat[idx]\n",
    "readRDS(multfile) %>%\n",
    "    DESeq2::results(tidy = TRUE) %>%\n",
    "    dplyr::filter(str_detect(row, paste0(testres[[\"11. Ensembl gene id\"]], collapse = \"|\")))"
   ]
  },
  {
   "cell_type": "code",
   "execution_count": null,
   "id": "ab277cc9",
   "metadata": {},
   "outputs": [],
   "source": [
    "outdir <- \"./proc\"\n",
    "\n",
    "addstatfile <- file.path(outdir, \"PRJNA668393-DESeq2-addstat.RDS\")\n",
    "multstatfile <- file.path(outdir, \"PRJNA668393-DESeq2-multstat.RDS\")\n",
    "\n",
    "saveRDS(addstat, addstatfile)\n",
    "saveRDS(multstat, multstatfile)\n",
    "\n",
    "tools::md5sum(addstatfile)\n",
    "tools::md5sum(multstatfile)"
   ]
  },
  {
   "cell_type": "code",
   "execution_count": null,
   "id": "e2f0d640",
   "metadata": {},
   "outputs": [],
   "source": [
    "sessionInfo()"
   ]
  }
 ],
 "metadata": {
  "jupytext": {
   "formats": "ipynb,Rmd",
   "text_representation": {
    "extension": ".Rmd",
    "format_name": "rmarkdown",
    "format_version": "1.2",
    "jupytext_version": "1.11.2"
   }
  },
  "kernelspec": {
   "display_name": "R",
   "language": "R",
   "name": "ir"
  },
  "language_info": {
   "codemirror_mode": "r",
   "file_extension": ".r",
   "mimetype": "text/x-r-source",
   "name": "R",
   "pygments_lexer": "r",
   "version": "4.1.0"
  }
 },
 "nbformat": 4,
 "nbformat_minor": 5
}
