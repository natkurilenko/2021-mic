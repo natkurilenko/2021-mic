{
 "cells": [
  {
   "cell_type": "markdown",
   "id": "0e37f777",
   "metadata": {},
   "source": [
    "# Query genomic annotation using the biomaRt package from Bioconductor"
   ]
  },
  {
   "cell_type": "code",
   "execution_count": 3,
   "id": "068acbb1",
   "metadata": {},
   "outputs": [
    {
     "name": "stderr",
     "output_type": "stream",
     "text": [
      "Warning message in system(\"timedatectl\", intern = TRUE):\n",
      "“running command 'timedatectl' had status 1”\n",
      "── \u001b[1mAttaching packages\u001b[22m ─────────────────────────────────────── tidyverse 1.3.1 ──\n",
      "\n",
      "\u001b[32m✔\u001b[39m \u001b[34mggplot2\u001b[39m 3.3.3     \u001b[32m✔\u001b[39m \u001b[34mpurrr  \u001b[39m 0.3.4\n",
      "\u001b[32m✔\u001b[39m \u001b[34mtibble \u001b[39m 3.1.2     \u001b[32m✔\u001b[39m \u001b[34mdplyr  \u001b[39m 1.0.6\n",
      "\u001b[32m✔\u001b[39m \u001b[34mtidyr  \u001b[39m 1.1.3     \u001b[32m✔\u001b[39m \u001b[34mstringr\u001b[39m 1.4.0\n",
      "\u001b[32m✔\u001b[39m \u001b[34mreadr  \u001b[39m 1.4.0     \u001b[32m✔\u001b[39m \u001b[34mforcats\u001b[39m 0.5.1\n",
      "\n",
      "── \u001b[1mConflicts\u001b[22m ────────────────────────────────────────── tidyverse_conflicts() ──\n",
      "\u001b[31m✖\u001b[39m \u001b[34mdplyr\u001b[39m::\u001b[32mfilter()\u001b[39m masks \u001b[34mstats\u001b[39m::filter()\n",
      "\u001b[31m✖\u001b[39m \u001b[34mdplyr\u001b[39m::\u001b[32mlag()\u001b[39m    masks \u001b[34mstats\u001b[39m::lag()\n",
      "\u001b[31m✖\u001b[39m \u001b[34mdplyr\u001b[39m::\u001b[32mselect()\u001b[39m masks \u001b[34mbiomaRt\u001b[39m::select()\n",
      "\n"
     ]
    }
   ],
   "source": [
    "library(biomaRt)\n",
    "library(tidyverse)"
   ]
  },
  {
   "cell_type": "code",
   "execution_count": 4,
   "id": "565d4ebf",
   "metadata": {},
   "outputs": [],
   "source": [
    "mymart <- useMart(\"ENSEMBL_MART_ENSEMBL\", dataset=\"mmusculus_gene_ensembl\", version = \"Ensembl Genes 104\")"
   ]
  },
  {
   "cell_type": "markdown",
   "id": "40f9499c",
   "metadata": {},
   "source": [
    "## Example: query entrez id, and MGI id and symbol for ensembl ids"
   ]
  },
  {
   "cell_type": "markdown",
   "id": "af9a11e4",
   "metadata": {},
   "source": [
    "### List filters"
   ]
  },
  {
   "cell_type": "code",
   "execution_count": 5,
   "id": "71629593",
   "metadata": {},
   "outputs": [
    {
     "data": {
      "text/html": [
       "<table class=\"dataframe\">\n",
       "<caption>A data.frame: 7 × 2</caption>\n",
       "<thead>\n",
       "\t<tr><th scope=col>name</th><th scope=col>description</th></tr>\n",
       "\t<tr><th scope=col>&lt;chr&gt;</th><th scope=col>&lt;chr&gt;</th></tr>\n",
       "</thead>\n",
       "<tbody>\n",
       "\t<tr><td>ensembl_gene_id              </td><td>Gene stable ID(s) [e.g. ENSMUSG00000000001]                     </td></tr>\n",
       "\t<tr><td>ensembl_gene_id_version      </td><td>Gene stable ID(s) with version [e.g. ENSMUSG00000000001.5]      </td></tr>\n",
       "\t<tr><td>ensembl_transcript_id        </td><td>Transcript stable ID(s) [e.g. ENSMUST00000000001]               </td></tr>\n",
       "\t<tr><td>ensembl_transcript_id_version</td><td>Transcript stable ID(s) with version [e.g. ENSMUST00000000001.5]</td></tr>\n",
       "\t<tr><td>ensembl_peptide_id           </td><td>Protein stable ID(s) [e.g. ENSMUSP00000000001]                  </td></tr>\n",
       "\t<tr><td>ensembl_peptide_id_version   </td><td>Protein stable ID(s) with version [e.g. ENSMUSP00000000001.5]   </td></tr>\n",
       "\t<tr><td>ensembl_exon_id              </td><td>Exon ID(s) [e.g. ENSMUSE00000097910]                            </td></tr>\n",
       "</tbody>\n",
       "</table>\n"
      ],
      "text/latex": [
       "A data.frame: 7 × 2\n",
       "\\begin{tabular}{ll}\n",
       " name & description\\\\\n",
       " <chr> & <chr>\\\\\n",
       "\\hline\n",
       "\t ensembl\\_gene\\_id               & Gene stable ID(s) {[}e.g. ENSMUSG00000000001{]}                     \\\\\n",
       "\t ensembl\\_gene\\_id\\_version       & Gene stable ID(s) with version {[}e.g. ENSMUSG00000000001.5{]}      \\\\\n",
       "\t ensembl\\_transcript\\_id         & Transcript stable ID(s) {[}e.g. ENSMUST00000000001{]}               \\\\\n",
       "\t ensembl\\_transcript\\_id\\_version & Transcript stable ID(s) with version {[}e.g. ENSMUST00000000001.5{]}\\\\\n",
       "\t ensembl\\_peptide\\_id            & Protein stable ID(s) {[}e.g. ENSMUSP00000000001{]}                  \\\\\n",
       "\t ensembl\\_peptide\\_id\\_version    & Protein stable ID(s) with version {[}e.g. ENSMUSP00000000001.5{]}   \\\\\n",
       "\t ensembl\\_exon\\_id               & Exon ID(s) {[}e.g. ENSMUSE00000097910{]}                            \\\\\n",
       "\\end{tabular}\n"
      ],
      "text/markdown": [
       "\n",
       "A data.frame: 7 × 2\n",
       "\n",
       "| name &lt;chr&gt; | description &lt;chr&gt; |\n",
       "|---|---|\n",
       "| ensembl_gene_id               | Gene stable ID(s) [e.g. ENSMUSG00000000001]                      |\n",
       "| ensembl_gene_id_version       | Gene stable ID(s) with version [e.g. ENSMUSG00000000001.5]       |\n",
       "| ensembl_transcript_id         | Transcript stable ID(s) [e.g. ENSMUST00000000001]                |\n",
       "| ensembl_transcript_id_version | Transcript stable ID(s) with version [e.g. ENSMUST00000000001.5] |\n",
       "| ensembl_peptide_id            | Protein stable ID(s) [e.g. ENSMUSP00000000001]                   |\n",
       "| ensembl_peptide_id_version    | Protein stable ID(s) with version [e.g. ENSMUSP00000000001.5]    |\n",
       "| ensembl_exon_id               | Exon ID(s) [e.g. ENSMUSE00000097910]                             |\n",
       "\n"
      ],
      "text/plain": [
       "  name                         \n",
       "1 ensembl_gene_id              \n",
       "2 ensembl_gene_id_version      \n",
       "3 ensembl_transcript_id        \n",
       "4 ensembl_transcript_id_version\n",
       "5 ensembl_peptide_id           \n",
       "6 ensembl_peptide_id_version   \n",
       "7 ensembl_exon_id              \n",
       "  description                                                     \n",
       "1 Gene stable ID(s) [e.g. ENSMUSG00000000001]                     \n",
       "2 Gene stable ID(s) with version [e.g. ENSMUSG00000000001.5]      \n",
       "3 Transcript stable ID(s) [e.g. ENSMUST00000000001]               \n",
       "4 Transcript stable ID(s) with version [e.g. ENSMUST00000000001.5]\n",
       "5 Protein stable ID(s) [e.g. ENSMUSP00000000001]                  \n",
       "6 Protein stable ID(s) with version [e.g. ENSMUSP00000000001.5]   \n",
       "7 Exon ID(s) [e.g. ENSMUSE00000097910]                            "
      ]
     },
     "metadata": {},
     "output_type": "display_data"
    }
   ],
   "source": [
    "listFilters(mymart) %>% dplyr::filter(stringr::str_detect(name, \"ensembl\"))"
   ]
  },
  {
   "cell_type": "markdown",
   "id": "f8bfc45d",
   "metadata": {},
   "source": [
    "### List attributes"
   ]
  },
  {
   "cell_type": "code",
   "execution_count": 6,
   "id": "704c02f0",
   "metadata": {},
   "outputs": [
    {
     "data": {
      "text/html": [
       "<table class=\"dataframe\">\n",
       "<caption>A data.frame: 439 × 3</caption>\n",
       "<thead>\n",
       "\t<tr><th scope=col>name</th><th scope=col>description</th><th scope=col>page</th></tr>\n",
       "\t<tr><th scope=col>&lt;chr&gt;</th><th scope=col>&lt;chr&gt;</th><th scope=col>&lt;chr&gt;</th></tr>\n",
       "</thead>\n",
       "<tbody>\n",
       "\t<tr><td>ensembl_gene_id                    </td><td>Gene stable ID                                                </td><td>feature_page</td></tr>\n",
       "\t<tr><td>ensembl_gene_id_version            </td><td>Gene stable ID version                                        </td><td>feature_page</td></tr>\n",
       "\t<tr><td>ensembl_transcript_id              </td><td>Transcript stable ID                                          </td><td>feature_page</td></tr>\n",
       "\t<tr><td>ensembl_transcript_id_version      </td><td>Transcript stable ID version                                  </td><td>feature_page</td></tr>\n",
       "\t<tr><td>ensembl_peptide_id                 </td><td>Protein stable ID                                             </td><td>feature_page</td></tr>\n",
       "\t<tr><td>ensembl_peptide_id_version         </td><td>Protein stable ID version                                     </td><td>feature_page</td></tr>\n",
       "\t<tr><td>ensembl_exon_id                    </td><td>Exon stable ID                                                </td><td>feature_page</td></tr>\n",
       "\t<tr><td>entrezgene_trans_name              </td><td>EntrezGene transcript name ID                                 </td><td>feature_page</td></tr>\n",
       "\t<tr><td>mgi_description                    </td><td>MGI description                                               </td><td>feature_page</td></tr>\n",
       "\t<tr><td>mgi_symbol                         </td><td>MGI symbol                                                    </td><td>feature_page</td></tr>\n",
       "\t<tr><td>mgi_id                             </td><td>MGI ID                                                        </td><td>feature_page</td></tr>\n",
       "\t<tr><td>mgi_trans_name                     </td><td>MGI transcript name ID                                        </td><td>feature_page</td></tr>\n",
       "\t<tr><td>entrezgene_description             </td><td>NCBI gene (formerly Entrezgene) description                   </td><td>feature_page</td></tr>\n",
       "\t<tr><td>entrezgene_accession               </td><td>NCBI gene (formerly Entrezgene) accession                     </td><td>feature_page</td></tr>\n",
       "\t<tr><td>entrezgene_id                      </td><td>NCBI gene (formerly Entrezgene) ID                            </td><td>feature_page</td></tr>\n",
       "\t<tr><td>ensembl_gene_id                    </td><td>Gene stable ID                                                </td><td>structure   </td></tr>\n",
       "\t<tr><td>ensembl_gene_id_version            </td><td>Gene stable ID version                                        </td><td>structure   </td></tr>\n",
       "\t<tr><td>ensembl_transcript_id              </td><td>Transcript stable ID                                          </td><td>structure   </td></tr>\n",
       "\t<tr><td>ensembl_transcript_id_version      </td><td>Transcript stable ID version                                  </td><td>structure   </td></tr>\n",
       "\t<tr><td>ensembl_peptide_id                 </td><td>Protein stable ID                                             </td><td>structure   </td></tr>\n",
       "\t<tr><td>ensembl_peptide_id_version         </td><td>Protein stable ID version                                     </td><td>structure   </td></tr>\n",
       "\t<tr><td>ensembl_exon_id                    </td><td>Exon stable ID                                                </td><td>structure   </td></tr>\n",
       "\t<tr><td>ensembl_gene_id                    </td><td>Gene stable ID                                                </td><td>homologs    </td></tr>\n",
       "\t<tr><td>ensembl_gene_id_version            </td><td>Gene stable ID version                                        </td><td>homologs    </td></tr>\n",
       "\t<tr><td>ensembl_transcript_id              </td><td>Transcript stable ID                                          </td><td>homologs    </td></tr>\n",
       "\t<tr><td>ensembl_transcript_id_version      </td><td>Transcript stable ID version                                  </td><td>homologs    </td></tr>\n",
       "\t<tr><td>ensembl_peptide_id                 </td><td>Protein stable ID                                             </td><td>homologs    </td></tr>\n",
       "\t<tr><td>ensembl_peptide_id_version         </td><td>Protein stable ID version                                     </td><td>homologs    </td></tr>\n",
       "\t<tr><td>cabingdonii_homolog_ensembl_gene   </td><td>Abingdon island giant tortoise gene stable ID                 </td><td>homologs    </td></tr>\n",
       "\t<tr><td>cabingdonii_homolog_ensembl_peptide</td><td>Abingdon island giant tortoise protein or transcript stable ID</td><td>homologs    </td></tr>\n",
       "\t<tr><td>⋮</td><td>⋮</td><td>⋮</td></tr>\n",
       "\t<tr><td>neugenii_homolog_ensembl_peptide      </td><td>Wallaby protein or transcript stable ID             </td><td>homologs </td></tr>\n",
       "\t<tr><td>bmutus_homolog_ensembl_gene           </td><td>Wild yak gene stable ID                             </td><td>homologs </td></tr>\n",
       "\t<tr><td>bmutus_homolog_ensembl_peptide        </td><td>Wild yak protein or transcript stable ID            </td><td>homologs </td></tr>\n",
       "\t<tr><td>chyarkandensis_homolog_ensembl_gene   </td><td>Yarkand deer gene stable ID                         </td><td>homologs </td></tr>\n",
       "\t<tr><td>chyarkandensis_homolog_ensembl_peptide</td><td>Yarkand deer protein or transcript stable ID        </td><td>homologs </td></tr>\n",
       "\t<tr><td>sldorsalis_homolog_ensembl_gene       </td><td>Yellowtail amberjack gene stable ID                 </td><td>homologs </td></tr>\n",
       "\t<tr><td>sldorsalis_homolog_ensembl_peptide    </td><td>Yellowtail amberjack protein or transcript stable ID</td><td>homologs </td></tr>\n",
       "\t<tr><td>tguttata_homolog_ensembl_gene         </td><td>Zebra finch gene stable ID                          </td><td>homologs </td></tr>\n",
       "\t<tr><td>tguttata_homolog_ensembl_peptide      </td><td>Zebra finch protein or transcript stable ID         </td><td>homologs </td></tr>\n",
       "\t<tr><td>mzebra_homolog_ensembl_gene           </td><td>Zebra mbuna gene stable ID                          </td><td>homologs </td></tr>\n",
       "\t<tr><td>mzebra_homolog_ensembl_peptide        </td><td>Zebra mbuna protein or transcript stable ID         </td><td>homologs </td></tr>\n",
       "\t<tr><td>drerio_homolog_ensembl_gene           </td><td>Zebrafish gene stable ID                            </td><td>homologs </td></tr>\n",
       "\t<tr><td>drerio_homolog_ensembl_peptide        </td><td>Zebrafish protein or transcript stable ID           </td><td>homologs </td></tr>\n",
       "\t<tr><td>marmatus_homolog_ensembl_gene         </td><td>Zig-zag eel gene stable ID                          </td><td>homologs </td></tr>\n",
       "\t<tr><td>marmatus_homolog_ensembl_peptide      </td><td>Zig-zag eel protein or transcript stable ID         </td><td>homologs </td></tr>\n",
       "\t<tr><td>mmusculus_paralog_ensembl_gene        </td><td>Mouse paralogue gene stable ID                      </td><td>homologs </td></tr>\n",
       "\t<tr><td>mmusculus_paralog_ensembl_peptide     </td><td>Mouse paralogue protein or transcript ID            </td><td>homologs </td></tr>\n",
       "\t<tr><td>ensembl_gene_id                       </td><td>Gene stable ID                                      </td><td>snp      </td></tr>\n",
       "\t<tr><td>ensembl_gene_id_version               </td><td>Gene stable ID version                              </td><td>snp      </td></tr>\n",
       "\t<tr><td>ensembl_transcript_id                 </td><td>Transcript stable ID                                </td><td>snp      </td></tr>\n",
       "\t<tr><td>ensembl_transcript_id_version         </td><td>Transcript stable ID version                        </td><td>snp      </td></tr>\n",
       "\t<tr><td>ensembl_peptide_id                    </td><td>Protein stable ID                                   </td><td>snp      </td></tr>\n",
       "\t<tr><td>ensembl_peptide_id_version            </td><td>Protein stable ID version                           </td><td>snp      </td></tr>\n",
       "\t<tr><td>ensembl_gene_id                       </td><td>Gene stable ID                                      </td><td>sequences</td></tr>\n",
       "\t<tr><td>ensembl_gene_id_version               </td><td>Gene stable ID version                              </td><td>sequences</td></tr>\n",
       "\t<tr><td>ensembl_transcript_id                 </td><td>Transcript stable ID                                </td><td>sequences</td></tr>\n",
       "\t<tr><td>ensembl_transcript_id_version         </td><td>Transcript stable ID version                        </td><td>sequences</td></tr>\n",
       "\t<tr><td>ensembl_peptide_id                    </td><td>Protein stable ID                                   </td><td>sequences</td></tr>\n",
       "\t<tr><td>ensembl_peptide_id_version            </td><td>Protein stable ID version                           </td><td>sequences</td></tr>\n",
       "\t<tr><td>ensembl_exon_id                       </td><td>Exon stable ID                                      </td><td>sequences</td></tr>\n",
       "</tbody>\n",
       "</table>\n"
      ],
      "text/latex": [
       "A data.frame: 439 × 3\n",
       "\\begin{tabular}{lll}\n",
       " name & description & page\\\\\n",
       " <chr> & <chr> & <chr>\\\\\n",
       "\\hline\n",
       "\t ensembl\\_gene\\_id                     & Gene stable ID                                                 & feature\\_page\\\\\n",
       "\t ensembl\\_gene\\_id\\_version             & Gene stable ID version                                         & feature\\_page\\\\\n",
       "\t ensembl\\_transcript\\_id               & Transcript stable ID                                           & feature\\_page\\\\\n",
       "\t ensembl\\_transcript\\_id\\_version       & Transcript stable ID version                                   & feature\\_page\\\\\n",
       "\t ensembl\\_peptide\\_id                  & Protein stable ID                                              & feature\\_page\\\\\n",
       "\t ensembl\\_peptide\\_id\\_version          & Protein stable ID version                                      & feature\\_page\\\\\n",
       "\t ensembl\\_exon\\_id                     & Exon stable ID                                                 & feature\\_page\\\\\n",
       "\t entrezgene\\_trans\\_name               & EntrezGene transcript name ID                                  & feature\\_page\\\\\n",
       "\t mgi\\_description                     & MGI description                                                & feature\\_page\\\\\n",
       "\t mgi\\_symbol                          & MGI symbol                                                     & feature\\_page\\\\\n",
       "\t mgi\\_id                              & MGI ID                                                         & feature\\_page\\\\\n",
       "\t mgi\\_trans\\_name                      & MGI transcript name ID                                         & feature\\_page\\\\\n",
       "\t entrezgene\\_description              & NCBI gene (formerly Entrezgene) description                    & feature\\_page\\\\\n",
       "\t entrezgene\\_accession                & NCBI gene (formerly Entrezgene) accession                      & feature\\_page\\\\\n",
       "\t entrezgene\\_id                       & NCBI gene (formerly Entrezgene) ID                             & feature\\_page\\\\\n",
       "\t ensembl\\_gene\\_id                     & Gene stable ID                                                 & structure   \\\\\n",
       "\t ensembl\\_gene\\_id\\_version             & Gene stable ID version                                         & structure   \\\\\n",
       "\t ensembl\\_transcript\\_id               & Transcript stable ID                                           & structure   \\\\\n",
       "\t ensembl\\_transcript\\_id\\_version       & Transcript stable ID version                                   & structure   \\\\\n",
       "\t ensembl\\_peptide\\_id                  & Protein stable ID                                              & structure   \\\\\n",
       "\t ensembl\\_peptide\\_id\\_version          & Protein stable ID version                                      & structure   \\\\\n",
       "\t ensembl\\_exon\\_id                     & Exon stable ID                                                 & structure   \\\\\n",
       "\t ensembl\\_gene\\_id                     & Gene stable ID                                                 & homologs    \\\\\n",
       "\t ensembl\\_gene\\_id\\_version             & Gene stable ID version                                         & homologs    \\\\\n",
       "\t ensembl\\_transcript\\_id               & Transcript stable ID                                           & homologs    \\\\\n",
       "\t ensembl\\_transcript\\_id\\_version       & Transcript stable ID version                                   & homologs    \\\\\n",
       "\t ensembl\\_peptide\\_id                  & Protein stable ID                                              & homologs    \\\\\n",
       "\t ensembl\\_peptide\\_id\\_version          & Protein stable ID version                                      & homologs    \\\\\n",
       "\t cabingdonii\\_homolog\\_ensembl\\_gene    & Abingdon island giant tortoise gene stable ID                  & homologs    \\\\\n",
       "\t cabingdonii\\_homolog\\_ensembl\\_peptide & Abingdon island giant tortoise protein or transcript stable ID & homologs    \\\\\n",
       "\t ⋮ & ⋮ & ⋮\\\\\n",
       "\t neugenii\\_homolog\\_ensembl\\_peptide       & Wallaby protein or transcript stable ID              & homologs \\\\\n",
       "\t bmutus\\_homolog\\_ensembl\\_gene            & Wild yak gene stable ID                              & homologs \\\\\n",
       "\t bmutus\\_homolog\\_ensembl\\_peptide         & Wild yak protein or transcript stable ID             & homologs \\\\\n",
       "\t chyarkandensis\\_homolog\\_ensembl\\_gene    & Yarkand deer gene stable ID                          & homologs \\\\\n",
       "\t chyarkandensis\\_homolog\\_ensembl\\_peptide & Yarkand deer protein or transcript stable ID         & homologs \\\\\n",
       "\t sldorsalis\\_homolog\\_ensembl\\_gene        & Yellowtail amberjack gene stable ID                  & homologs \\\\\n",
       "\t sldorsalis\\_homolog\\_ensembl\\_peptide     & Yellowtail amberjack protein or transcript stable ID & homologs \\\\\n",
       "\t tguttata\\_homolog\\_ensembl\\_gene          & Zebra finch gene stable ID                           & homologs \\\\\n",
       "\t tguttata\\_homolog\\_ensembl\\_peptide       & Zebra finch protein or transcript stable ID          & homologs \\\\\n",
       "\t mzebra\\_homolog\\_ensembl\\_gene            & Zebra mbuna gene stable ID                           & homologs \\\\\n",
       "\t mzebra\\_homolog\\_ensembl\\_peptide         & Zebra mbuna protein or transcript stable ID          & homologs \\\\\n",
       "\t drerio\\_homolog\\_ensembl\\_gene            & Zebrafish gene stable ID                             & homologs \\\\\n",
       "\t drerio\\_homolog\\_ensembl\\_peptide         & Zebrafish protein or transcript stable ID            & homologs \\\\\n",
       "\t marmatus\\_homolog\\_ensembl\\_gene          & Zig-zag eel gene stable ID                           & homologs \\\\\n",
       "\t marmatus\\_homolog\\_ensembl\\_peptide       & Zig-zag eel protein or transcript stable ID          & homologs \\\\\n",
       "\t mmusculus\\_paralog\\_ensembl\\_gene         & Mouse paralogue gene stable ID                       & homologs \\\\\n",
       "\t mmusculus\\_paralog\\_ensembl\\_peptide      & Mouse paralogue protein or transcript ID             & homologs \\\\\n",
       "\t ensembl\\_gene\\_id                        & Gene stable ID                                       & snp      \\\\\n",
       "\t ensembl\\_gene\\_id\\_version                & Gene stable ID version                               & snp      \\\\\n",
       "\t ensembl\\_transcript\\_id                  & Transcript stable ID                                 & snp      \\\\\n",
       "\t ensembl\\_transcript\\_id\\_version          & Transcript stable ID version                         & snp      \\\\\n",
       "\t ensembl\\_peptide\\_id                     & Protein stable ID                                    & snp      \\\\\n",
       "\t ensembl\\_peptide\\_id\\_version             & Protein stable ID version                            & snp      \\\\\n",
       "\t ensembl\\_gene\\_id                        & Gene stable ID                                       & sequences\\\\\n",
       "\t ensembl\\_gene\\_id\\_version                & Gene stable ID version                               & sequences\\\\\n",
       "\t ensembl\\_transcript\\_id                  & Transcript stable ID                                 & sequences\\\\\n",
       "\t ensembl\\_transcript\\_id\\_version          & Transcript stable ID version                         & sequences\\\\\n",
       "\t ensembl\\_peptide\\_id                     & Protein stable ID                                    & sequences\\\\\n",
       "\t ensembl\\_peptide\\_id\\_version             & Protein stable ID version                            & sequences\\\\\n",
       "\t ensembl\\_exon\\_id                        & Exon stable ID                                       & sequences\\\\\n",
       "\\end{tabular}\n"
      ],
      "text/markdown": [
       "\n",
       "A data.frame: 439 × 3\n",
       "\n",
       "| name &lt;chr&gt; | description &lt;chr&gt; | page &lt;chr&gt; |\n",
       "|---|---|---|\n",
       "| ensembl_gene_id                     | Gene stable ID                                                 | feature_page |\n",
       "| ensembl_gene_id_version             | Gene stable ID version                                         | feature_page |\n",
       "| ensembl_transcript_id               | Transcript stable ID                                           | feature_page |\n",
       "| ensembl_transcript_id_version       | Transcript stable ID version                                   | feature_page |\n",
       "| ensembl_peptide_id                  | Protein stable ID                                              | feature_page |\n",
       "| ensembl_peptide_id_version          | Protein stable ID version                                      | feature_page |\n",
       "| ensembl_exon_id                     | Exon stable ID                                                 | feature_page |\n",
       "| entrezgene_trans_name               | EntrezGene transcript name ID                                  | feature_page |\n",
       "| mgi_description                     | MGI description                                                | feature_page |\n",
       "| mgi_symbol                          | MGI symbol                                                     | feature_page |\n",
       "| mgi_id                              | MGI ID                                                         | feature_page |\n",
       "| mgi_trans_name                      | MGI transcript name ID                                         | feature_page |\n",
       "| entrezgene_description              | NCBI gene (formerly Entrezgene) description                    | feature_page |\n",
       "| entrezgene_accession                | NCBI gene (formerly Entrezgene) accession                      | feature_page |\n",
       "| entrezgene_id                       | NCBI gene (formerly Entrezgene) ID                             | feature_page |\n",
       "| ensembl_gene_id                     | Gene stable ID                                                 | structure    |\n",
       "| ensembl_gene_id_version             | Gene stable ID version                                         | structure    |\n",
       "| ensembl_transcript_id               | Transcript stable ID                                           | structure    |\n",
       "| ensembl_transcript_id_version       | Transcript stable ID version                                   | structure    |\n",
       "| ensembl_peptide_id                  | Protein stable ID                                              | structure    |\n",
       "| ensembl_peptide_id_version          | Protein stable ID version                                      | structure    |\n",
       "| ensembl_exon_id                     | Exon stable ID                                                 | structure    |\n",
       "| ensembl_gene_id                     | Gene stable ID                                                 | homologs     |\n",
       "| ensembl_gene_id_version             | Gene stable ID version                                         | homologs     |\n",
       "| ensembl_transcript_id               | Transcript stable ID                                           | homologs     |\n",
       "| ensembl_transcript_id_version       | Transcript stable ID version                                   | homologs     |\n",
       "| ensembl_peptide_id                  | Protein stable ID                                              | homologs     |\n",
       "| ensembl_peptide_id_version          | Protein stable ID version                                      | homologs     |\n",
       "| cabingdonii_homolog_ensembl_gene    | Abingdon island giant tortoise gene stable ID                  | homologs     |\n",
       "| cabingdonii_homolog_ensembl_peptide | Abingdon island giant tortoise protein or transcript stable ID | homologs     |\n",
       "| ⋮ | ⋮ | ⋮ |\n",
       "| neugenii_homolog_ensembl_peptide       | Wallaby protein or transcript stable ID              | homologs  |\n",
       "| bmutus_homolog_ensembl_gene            | Wild yak gene stable ID                              | homologs  |\n",
       "| bmutus_homolog_ensembl_peptide         | Wild yak protein or transcript stable ID             | homologs  |\n",
       "| chyarkandensis_homolog_ensembl_gene    | Yarkand deer gene stable ID                          | homologs  |\n",
       "| chyarkandensis_homolog_ensembl_peptide | Yarkand deer protein or transcript stable ID         | homologs  |\n",
       "| sldorsalis_homolog_ensembl_gene        | Yellowtail amberjack gene stable ID                  | homologs  |\n",
       "| sldorsalis_homolog_ensembl_peptide     | Yellowtail amberjack protein or transcript stable ID | homologs  |\n",
       "| tguttata_homolog_ensembl_gene          | Zebra finch gene stable ID                           | homologs  |\n",
       "| tguttata_homolog_ensembl_peptide       | Zebra finch protein or transcript stable ID          | homologs  |\n",
       "| mzebra_homolog_ensembl_gene            | Zebra mbuna gene stable ID                           | homologs  |\n",
       "| mzebra_homolog_ensembl_peptide         | Zebra mbuna protein or transcript stable ID          | homologs  |\n",
       "| drerio_homolog_ensembl_gene            | Zebrafish gene stable ID                             | homologs  |\n",
       "| drerio_homolog_ensembl_peptide         | Zebrafish protein or transcript stable ID            | homologs  |\n",
       "| marmatus_homolog_ensembl_gene          | Zig-zag eel gene stable ID                           | homologs  |\n",
       "| marmatus_homolog_ensembl_peptide       | Zig-zag eel protein or transcript stable ID          | homologs  |\n",
       "| mmusculus_paralog_ensembl_gene         | Mouse paralogue gene stable ID                       | homologs  |\n",
       "| mmusculus_paralog_ensembl_peptide      | Mouse paralogue protein or transcript ID             | homologs  |\n",
       "| ensembl_gene_id                        | Gene stable ID                                       | snp       |\n",
       "| ensembl_gene_id_version                | Gene stable ID version                               | snp       |\n",
       "| ensembl_transcript_id                  | Transcript stable ID                                 | snp       |\n",
       "| ensembl_transcript_id_version          | Transcript stable ID version                         | snp       |\n",
       "| ensembl_peptide_id                     | Protein stable ID                                    | snp       |\n",
       "| ensembl_peptide_id_version             | Protein stable ID version                            | snp       |\n",
       "| ensembl_gene_id                        | Gene stable ID                                       | sequences |\n",
       "| ensembl_gene_id_version                | Gene stable ID version                               | sequences |\n",
       "| ensembl_transcript_id                  | Transcript stable ID                                 | sequences |\n",
       "| ensembl_transcript_id_version          | Transcript stable ID version                         | sequences |\n",
       "| ensembl_peptide_id                     | Protein stable ID                                    | sequences |\n",
       "| ensembl_peptide_id_version             | Protein stable ID version                            | sequences |\n",
       "| ensembl_exon_id                        | Exon stable ID                                       | sequences |\n",
       "\n"
      ],
      "text/plain": [
       "    name                                  \n",
       "1   ensembl_gene_id                       \n",
       "2   ensembl_gene_id_version               \n",
       "3   ensembl_transcript_id                 \n",
       "4   ensembl_transcript_id_version         \n",
       "5   ensembl_peptide_id                    \n",
       "6   ensembl_peptide_id_version            \n",
       "7   ensembl_exon_id                       \n",
       "8   entrezgene_trans_name                 \n",
       "9   mgi_description                       \n",
       "10  mgi_symbol                            \n",
       "11  mgi_id                                \n",
       "12  mgi_trans_name                        \n",
       "13  entrezgene_description                \n",
       "14  entrezgene_accession                  \n",
       "15  entrezgene_id                         \n",
       "16  ensembl_gene_id                       \n",
       "17  ensembl_gene_id_version               \n",
       "18  ensembl_transcript_id                 \n",
       "19  ensembl_transcript_id_version         \n",
       "20  ensembl_peptide_id                    \n",
       "21  ensembl_peptide_id_version            \n",
       "22  ensembl_exon_id                       \n",
       "23  ensembl_gene_id                       \n",
       "24  ensembl_gene_id_version               \n",
       "25  ensembl_transcript_id                 \n",
       "26  ensembl_transcript_id_version         \n",
       "27  ensembl_peptide_id                    \n",
       "28  ensembl_peptide_id_version            \n",
       "29  cabingdonii_homolog_ensembl_gene      \n",
       "30  cabingdonii_homolog_ensembl_peptide   \n",
       "⋮   ⋮                                     \n",
       "410 neugenii_homolog_ensembl_peptide      \n",
       "411 bmutus_homolog_ensembl_gene           \n",
       "412 bmutus_homolog_ensembl_peptide        \n",
       "413 chyarkandensis_homolog_ensembl_gene   \n",
       "414 chyarkandensis_homolog_ensembl_peptide\n",
       "415 sldorsalis_homolog_ensembl_gene       \n",
       "416 sldorsalis_homolog_ensembl_peptide    \n",
       "417 tguttata_homolog_ensembl_gene         \n",
       "418 tguttata_homolog_ensembl_peptide      \n",
       "419 mzebra_homolog_ensembl_gene           \n",
       "420 mzebra_homolog_ensembl_peptide        \n",
       "421 drerio_homolog_ensembl_gene           \n",
       "422 drerio_homolog_ensembl_peptide        \n",
       "423 marmatus_homolog_ensembl_gene         \n",
       "424 marmatus_homolog_ensembl_peptide      \n",
       "425 mmusculus_paralog_ensembl_gene        \n",
       "426 mmusculus_paralog_ensembl_peptide     \n",
       "427 ensembl_gene_id                       \n",
       "428 ensembl_gene_id_version               \n",
       "429 ensembl_transcript_id                 \n",
       "430 ensembl_transcript_id_version         \n",
       "431 ensembl_peptide_id                    \n",
       "432 ensembl_peptide_id_version            \n",
       "433 ensembl_gene_id                       \n",
       "434 ensembl_gene_id_version               \n",
       "435 ensembl_transcript_id                 \n",
       "436 ensembl_transcript_id_version         \n",
       "437 ensembl_peptide_id                    \n",
       "438 ensembl_peptide_id_version            \n",
       "439 ensembl_exon_id                       \n",
       "    description                                                    page        \n",
       "1   Gene stable ID                                                 feature_page\n",
       "2   Gene stable ID version                                         feature_page\n",
       "3   Transcript stable ID                                           feature_page\n",
       "4   Transcript stable ID version                                   feature_page\n",
       "5   Protein stable ID                                              feature_page\n",
       "6   Protein stable ID version                                      feature_page\n",
       "7   Exon stable ID                                                 feature_page\n",
       "8   EntrezGene transcript name ID                                  feature_page\n",
       "9   MGI description                                                feature_page\n",
       "10  MGI symbol                                                     feature_page\n",
       "11  MGI ID                                                         feature_page\n",
       "12  MGI transcript name ID                                         feature_page\n",
       "13  NCBI gene (formerly Entrezgene) description                    feature_page\n",
       "14  NCBI gene (formerly Entrezgene) accession                      feature_page\n",
       "15  NCBI gene (formerly Entrezgene) ID                             feature_page\n",
       "16  Gene stable ID                                                 structure   \n",
       "17  Gene stable ID version                                         structure   \n",
       "18  Transcript stable ID                                           structure   \n",
       "19  Transcript stable ID version                                   structure   \n",
       "20  Protein stable ID                                              structure   \n",
       "21  Protein stable ID version                                      structure   \n",
       "22  Exon stable ID                                                 structure   \n",
       "23  Gene stable ID                                                 homologs    \n",
       "24  Gene stable ID version                                         homologs    \n",
       "25  Transcript stable ID                                           homologs    \n",
       "26  Transcript stable ID version                                   homologs    \n",
       "27  Protein stable ID                                              homologs    \n",
       "28  Protein stable ID version                                      homologs    \n",
       "29  Abingdon island giant tortoise gene stable ID                  homologs    \n",
       "30  Abingdon island giant tortoise protein or transcript stable ID homologs    \n",
       "⋮   ⋮                                                              ⋮           \n",
       "410 Wallaby protein or transcript stable ID                        homologs    \n",
       "411 Wild yak gene stable ID                                        homologs    \n",
       "412 Wild yak protein or transcript stable ID                       homologs    \n",
       "413 Yarkand deer gene stable ID                                    homologs    \n",
       "414 Yarkand deer protein or transcript stable ID                   homologs    \n",
       "415 Yellowtail amberjack gene stable ID                            homologs    \n",
       "416 Yellowtail amberjack protein or transcript stable ID           homologs    \n",
       "417 Zebra finch gene stable ID                                     homologs    \n",
       "418 Zebra finch protein or transcript stable ID                    homologs    \n",
       "419 Zebra mbuna gene stable ID                                     homologs    \n",
       "420 Zebra mbuna protein or transcript stable ID                    homologs    \n",
       "421 Zebrafish gene stable ID                                       homologs    \n",
       "422 Zebrafish protein or transcript stable ID                      homologs    \n",
       "423 Zig-zag eel gene stable ID                                     homologs    \n",
       "424 Zig-zag eel protein or transcript stable ID                    homologs    \n",
       "425 Mouse paralogue gene stable ID                                 homologs    \n",
       "426 Mouse paralogue protein or transcript ID                       homologs    \n",
       "427 Gene stable ID                                                 snp         \n",
       "428 Gene stable ID version                                         snp         \n",
       "429 Transcript stable ID                                           snp         \n",
       "430 Transcript stable ID version                                   snp         \n",
       "431 Protein stable ID                                              snp         \n",
       "432 Protein stable ID version                                      snp         \n",
       "433 Gene stable ID                                                 sequences   \n",
       "434 Gene stable ID version                                         sequences   \n",
       "435 Transcript stable ID                                           sequences   \n",
       "436 Transcript stable ID version                                   sequences   \n",
       "437 Protein stable ID                                              sequences   \n",
       "438 Protein stable ID version                                      sequences   \n",
       "439 Exon stable ID                                                 sequences   "
      ]
     },
     "metadata": {},
     "output_type": "display_data"
    }
   ],
   "source": [
    "listAttributes(mymart) %>% dplyr::filter(str_detect(name, \"ensembl|entrez|mgi\"))"
   ]
  },
  {
   "cell_type": "markdown",
   "id": "e47cb9bc",
   "metadata": {},
   "source": [
    "### sample query for two genes"
   ]
  },
  {
   "cell_type": "markdown",
   "id": "9248cd61",
   "metadata": {},
   "source": [
    "Query by ensembl id"
   ]
  },
  {
   "cell_type": "code",
   "execution_count": 7,
   "id": "daebddc4",
   "metadata": {
    "lines_to_next_cell": 0
   },
   "outputs": [
    {
     "data": {
      "text/html": [
       "<table class=\"dataframe\">\n",
       "<caption>A data.frame: 2 × 4</caption>\n",
       "<thead>\n",
       "\t<tr><th scope=col>ensembl_gene_id</th><th scope=col>entrezgene_id</th><th scope=col>mgi_id</th><th scope=col>mgi_symbol</th></tr>\n",
       "\t<tr><th scope=col>&lt;chr&gt;</th><th scope=col>&lt;int&gt;</th><th scope=col>&lt;chr&gt;</th><th scope=col>&lt;chr&gt;</th></tr>\n",
       "</thead>\n",
       "<tbody>\n",
       "\t<tr><td>ENSMUSG00000023951</td><td> 22339</td><td>MGI:103178 </td><td>Vegfa</td></tr>\n",
       "\t<tr><td>ENSMUSG00000041872</td><td>257630</td><td>MGI:2676631</td><td>Il17f</td></tr>\n",
       "</tbody>\n",
       "</table>\n"
      ],
      "text/latex": [
       "A data.frame: 2 × 4\n",
       "\\begin{tabular}{llll}\n",
       " ensembl\\_gene\\_id & entrezgene\\_id & mgi\\_id & mgi\\_symbol\\\\\n",
       " <chr> & <int> & <chr> & <chr>\\\\\n",
       "\\hline\n",
       "\t ENSMUSG00000023951 &  22339 & MGI:103178  & Vegfa\\\\\n",
       "\t ENSMUSG00000041872 & 257630 & MGI:2676631 & Il17f\\\\\n",
       "\\end{tabular}\n"
      ],
      "text/markdown": [
       "\n",
       "A data.frame: 2 × 4\n",
       "\n",
       "| ensembl_gene_id &lt;chr&gt; | entrezgene_id &lt;int&gt; | mgi_id &lt;chr&gt; | mgi_symbol &lt;chr&gt; |\n",
       "|---|---|---|---|\n",
       "| ENSMUSG00000023951 |  22339 | MGI:103178  | Vegfa |\n",
       "| ENSMUSG00000041872 | 257630 | MGI:2676631 | Il17f |\n",
       "\n"
      ],
      "text/plain": [
       "  ensembl_gene_id    entrezgene_id mgi_id      mgi_symbol\n",
       "1 ENSMUSG00000023951  22339        MGI:103178  Vegfa     \n",
       "2 ENSMUSG00000041872 257630        MGI:2676631 Il17f     "
      ]
     },
     "metadata": {},
     "output_type": "display_data"
    }
   ],
   "source": [
    "biomaRt::getBM(\n",
    "    filters = \"ensembl_gene_id\",\n",
    "    attributes=c(\"ensembl_gene_id\", \"entrezgene_id\",\"mgi_id\", \"mgi_symbol\"),\n",
    "    values=c(\"ENSMUSG00000023951\", \"ENSMUSG00000041872\"),\n",
    "    mart=mymart\n",
    ")"
   ]
  },
  {
   "cell_type": "markdown",
   "id": "213334de",
   "metadata": {},
   "source": [
    "Conversely, query using entrez ids"
   ]
  },
  {
   "cell_type": "code",
   "execution_count": null,
   "id": "46b0a994",
   "metadata": {
    "lines_to_next_cell": 0
   },
   "outputs": [],
   "source": [
    "biomaRt::getBM(\n",
    "    filters = \"entrezgene_id\",\n",
    "    attributes=c(\"ensembl_gene_id\", \"entrezgene_id\",\"mgi_id\", \"mgi_symbol\"),\n",
    "    values=c(22339, 257630),\n",
    "    mart=mymart\n",
    ")"
   ]
  },
  {
   "cell_type": "markdown",
   "id": "9189ba88",
   "metadata": {},
   "source": [
    "\n",
    "\n"
   ]
  },
  {
   "cell_type": "markdown",
   "id": "6302a62a",
   "metadata": {},
   "source": [
    "## Query gene ids for pathway analysis"
   ]
  },
  {
   "cell_type": "markdown",
   "id": "337e332a",
   "metadata": {},
   "source": [
    "A pathway analysis is by deisgn limited to the genes annotated in pathways. Accordingly, can limit our attention to this subset of genes."
   ]
  },
  {
   "cell_type": "markdown",
   "id": "4e17cc18",
   "metadata": {},
   "source": [
    "### Import Pathways"
   ]
  },
  {
   "cell_type": "code",
   "execution_count": 1,
   "id": "bc676f7a",
   "metadata": {},
   "outputs": [
    {
     "data": {
      "text/html": [
       "<strong>./resource//Mm.h.all.v7.1.entrez.rds:</strong> 'dcdff11eae5ed25ee6f261de4ecc70fa'"
      ],
      "text/latex": [
       "\\textbf{./resource//Mm.h.all.v7.1.entrez.rds:} 'dcdff11eae5ed25ee6f261de4ecc70fa'"
      ],
      "text/markdown": [
       "**./resource//Mm.h.all.v7.1.entrez.rds:** 'dcdff11eae5ed25ee6f261de4ecc70fa'"
      ],
      "text/plain": [
       "./resource//Mm.h.all.v7.1.entrez.rds \n",
       "  \"dcdff11eae5ed25ee6f261de4ecc70fa\" "
      ]
     },
     "metadata": {},
     "output_type": "display_data"
    }
   ],
   "source": [
    "annodir <- \"./resource/\"\n",
    "annofile <- file.path(annodir, \"Mm.h.all.v7.1.entrez.rds\")\n",
    "\n",
    "tools::md5sum(annofile)\n",
    "\n",
    "Mm.H <- readRDS(annofile)"
   ]
  },
  {
   "cell_type": "markdown",
   "id": "3ec198dd",
   "metadata": {},
   "source": [
    "### Query annotation for genes annotated in the pathways"
   ]
  },
  {
   "cell_type": "code",
   "execution_count": 2,
   "id": "46665161",
   "metadata": {},
   "outputs": [
    {
     "ename": "ERROR",
     "evalue": "Error in martCheck(mart): object 'mymart' not found\n",
     "output_type": "error",
     "traceback": [
      "Error in martCheck(mart): object 'mymart' not found\nTraceback:\n",
      "1. biomaRt::getBM(filters = \"entrezgene_id\", attributes = c(\"chromosome_name\", \n .     \"start_position\", \"end_position\", \"strand\", \"ensembl_gene_id\", \n .     \"entrezgene_id\", \"mgi_id\", \"mgi_symbol\"), values = as.integer(unique(unlist(Mm.H))), \n .     mart = mymart)",
      "2. martCheck(mart)"
     ]
    }
   ],
   "source": [
    "biomaRt::getBM(\n",
    "    filters = \"entrezgene_id\",\n",
    "    attributes=c(\"chromosome_name\", \"start_position\", \"end_position\" , \"strand\" , \"ensembl_gene_id\", \"entrezgene_id\",\"mgi_id\", \"mgi_symbol\"),\n",
    "    values=as.integer(unique(unlist(Mm.H))),\n",
    "    mart=mymart\n",
    ") -> pathwayids"
   ]
  },
  {
   "cell_type": "code",
   "execution_count": null,
   "id": "8a97b68b",
   "metadata": {},
   "outputs": [],
   "source": [
    "pathwayids %>% head"
   ]
  },
  {
   "cell_type": "markdown",
   "id": "915c0088",
   "metadata": {},
   "source": [
    "### "
   ]
  },
  {
   "cell_type": "markdown",
   "id": "d57f5e10",
   "metadata": {},
   "source": [
    "Number of pathways ids with no query"
   ]
  },
  {
   "cell_type": "code",
   "execution_count": null,
   "id": "e7608d1f",
   "metadata": {},
   "outputs": [],
   "source": [
    "length(setdiff(as.integer(unlist(Mm.H)), pathwayids[[\"entrezgene_id\"]]))"
   ]
  },
  {
   "cell_type": "markdown",
   "id": "9780d5aa",
   "metadata": {},
   "source": [
    "Pathway ids with non-unique ensembl id"
   ]
  },
  {
   "cell_type": "code",
   "execution_count": null,
   "id": "727bc4b1",
   "metadata": {},
   "outputs": [],
   "source": [
    "pathwayids %>% dplyr::group_by(ensembl_gene_id) %>% dplyr::filter(n()>1) %>% arrange(ensembl_gene_id)"
   ]
  },
  {
   "cell_type": "code",
   "execution_count": null,
   "id": "5cf28718",
   "metadata": {},
   "outputs": [],
   "source": [
    "## \n",
    "biomaRt::getBM(\n",
    "    filters = \"entrezgene_id\",\n",
    "    attributes=c(\"ensembl_gene_id\", \"entrezgene_id\",\"mgi_id\", \"mgi_symbol\"),\n",
    "    values=c(19047,434233),\n",
    "    mart=mymart\n",
    ")          "
   ]
  },
  {
   "cell_type": "code",
   "execution_count": null,
   "id": "bd668066",
   "metadata": {},
   "outputs": [],
   "source": [
    "## \n",
    "biomaRt::getBM(\n",
    "    filters = \"entrezgene_id\",\n",
    "    attributes=c(\"ensembl_gene_id\", \"entrezgene_id\",\"mgi_id\", \"mgi_symbol\"),\n",
    "    values=c(100041273, 100042503, 68194),\n",
    "    mart=mymart\n",
    ")          "
   ]
  },
  {
   "cell_type": "code",
   "execution_count": null,
   "id": "83d8c73f",
   "metadata": {},
   "outputs": [],
   "source": [
    "56066\n",
    "\n",
    "biomaRt::getBM(\n",
    "    filters = \"entrezgene_id\",\n",
    "    attributes=c(\"ensembl_gene_id\", \"entrezgene_id\",\"mgi_id\", \"mgi_symbol\"),\n",
    "    values=c(56066),\n",
    "    mart=mymart\n",
    ") "
   ]
  },
  {
   "cell_type": "markdown",
   "id": "758409e5",
   "metadata": {},
   "source": [
    "## Import ensembl ids from study data"
   ]
  },
  {
   "cell_type": "code",
   "execution_count": null,
   "id": "7dfbbb30",
   "metadata": {},
   "outputs": [],
   "source": [
    "listFilters(mymart)[grep(\"entrez\",listFilters(mymart)[,1]),]"
   ]
  },
  {
   "cell_type": "markdown",
   "id": "d696d2d4",
   "metadata": {},
   "source": [
    "## Query annotation data from MGI (http://www.informatics.jax.org)"
   ]
  },
  {
   "cell_type": "code",
   "execution_count": null,
   "id": "ac53ecba",
   "metadata": {},
   "outputs": [],
   "source": [
    "paste0(rep(\"c\",15), collapse = \"\")"
   ]
  },
  {
   "cell_type": "code",
   "execution_count": null,
   "id": "f11232fb",
   "metadata": {},
   "outputs": [],
   "source": [
    "mgifile <- \"http://www.informatics.jax.org/downloads/reports/MGI_Gene_Model_Coord.rpt\"\n",
    "\n",
    "readr::read_tsv(mgifile) -> mgidat"
   ]
  },
  {
   "cell_type": "code",
   "execution_count": null,
   "id": "d0c8ce49",
   "metadata": {},
   "outputs": [],
   "source": [
    "mgidat "
   ]
  },
  {
   "cell_type": "markdown",
   "id": "07464688",
   "metadata": {},
   "source": [
    "## Get rid of genes listed as \"null\""
   ]
  },
  {
   "cell_type": "code",
   "execution_count": null,
   "id": "31862f02",
   "metadata": {},
   "outputs": [],
   "source": [
    "mgidat %>% \n",
    "    dplyr::filter(`6. Entrez gene id` != \"null\" & `11. Ensembl gene id` != \"null\") ->\n",
    "    mgidat\n",
    "\n",
    "mgidat"
   ]
  },
  {
   "cell_type": "markdown",
   "id": "163e8dd1",
   "metadata": {},
   "source": [
    "### Check  if ids are unique`"
   ]
  },
  {
   "cell_type": "code",
   "execution_count": null,
   "id": "db2a934e",
   "metadata": {},
   "outputs": [],
   "source": [
    "mgidat %>% \n",
    "    dplyr::group_by(`6. Entrez gene id`) %>%\n",
    "    dplyr::filter(n()>1)"
   ]
  },
  {
   "cell_type": "code",
   "execution_count": null,
   "id": "a67333d9",
   "metadata": {},
   "outputs": [],
   "source": [
    "mgidat %>% \n",
    "    dplyr::group_by(`11. Ensembl gene id`) %>%\n",
    "    dplyr::filter(n()>1)"
   ]
  },
  {
   "cell_type": "markdown",
   "id": "6d385581",
   "metadata": {},
   "source": [
    "### Number of pathway genes  not in annotation file"
   ]
  },
  {
   "cell_type": "code",
   "execution_count": null,
   "id": "4c8f109a",
   "metadata": {},
   "outputs": [],
   "source": [
    "length(setdiff(unlist(Mm.H), mgidat[[\"6. Entrez gene id\"]]))"
   ]
  },
  {
   "cell_type": "markdown",
   "id": "599c684d",
   "metadata": {},
   "source": [
    "### Set location of analysis results"
   ]
  },
  {
   "cell_type": "code",
   "execution_count": null,
   "id": "f33cedf1",
   "metadata": {},
   "outputs": [],
   "source": [
    "procdir <- \"./proc\"\n",
    "\n",
    "addfile <- file.path(procdir, \"PRJNA668393-DESeq2-additive.RDS\")\n",
    "multfile <- file.path(procdir, \"PRJNA668393-DESeq2-multiplicative.RDS\")\n",
    "\n",
    "tools::md5sum(addfile)\n",
    "tools::md5sum(multfile)"
   ]
  },
  {
   "cell_type": "markdown",
   "id": "3e0984c0",
   "metadata": {},
   "source": [
    "### "
   ]
  },
  {
   "cell_type": "code",
   "execution_count": null,
   "id": "51fd5e31",
   "metadata": {},
   "outputs": [],
   "source": [
    "### The ensembl ids from the gtf file end with version numbers\n",
    "### One can use str_remove to remove the ensemble version from id\n",
    "stringr::str_remove(\"ENSMUSG12345.01\",\".[0-9][0-9]{0,2}$\")\n",
    "stringr::str_remove(\"ENSMUSG12345.1\",\".[0-9][0-9]{0,2}$\")\n",
    "\n"
   ]
  },
  {
   "cell_type": "markdown",
   "id": "cdf7d12a",
   "metadata": {},
   "source": [
    "### Create a named vector (using entrez ids) for statistics from additive model"
   ]
  },
  {
   "cell_type": "code",
   "execution_count": null,
   "id": "540d5161",
   "metadata": {},
   "outputs": [],
   "source": [
    "### drop genes with na statistics\n",
    "### clean ensembl id by dropping version number\n",
    "### Merge the results by the clean ensemble id using an inner join\n",
    "### Only keep \n",
    "\n",
    "readRDS(addfile) %>%\n",
    "    DESeq2::results(tidy = TRUE) %>%\n",
    "    tidyr:: drop_na(stat) %>%\n",
    "    dplyr::mutate(ensid = str_remove(row, \".[0-9][0-9]{0,2}$\")) %>%\n",
    "    dplyr::inner_join(mgidat, by = c(\"ensid\" = \"11. Ensembl gene id\")) %>%\n",
    "    dplyr::filter(`6. Entrez gene id` %in% unique(unlist(Mm.H))) %>% \n",
    "    dplyr::pull(stat, name = \"6. Entrez gene id\") ->\n",
    "    addstat"
   ]
  },
  {
   "cell_type": "markdown",
   "id": "3e8120cd",
   "metadata": {},
   "source": [
    "#### spot check the conversion for three genes"
   ]
  },
  {
   "cell_type": "code",
   "execution_count": null,
   "id": "28c5b6a4",
   "metadata": {},
   "outputs": [],
   "source": [
    "idx <- sample(1:length(addstat), 3)\n",
    "idx"
   ]
  },
  {
   "cell_type": "code",
   "execution_count": null,
   "id": "22640fe9",
   "metadata": {},
   "outputs": [],
   "source": [
    "mgidat %>% \n",
    "    dplyr::filter(`6. Entrez gene id` %in% names(addstat[idx])) %>%\n",
    "    dplyr::select(`6. Entrez gene id`, `11. Ensembl gene id`) ->\n",
    "    testres\n",
    "    \n",
    "testres"
   ]
  },
  {
   "cell_type": "code",
   "execution_count": null,
   "id": "9fd451e0",
   "metadata": {},
   "outputs": [],
   "source": [
    "addstat[idx]\n",
    "readRDS(addfile) %>%\n",
    "    DESeq2::results(tidy = TRUE) %>%\n",
    "    dplyr::filter(str_detect(row, paste0(testres[[\"11. Ensembl gene id\"]], collapse = \"|\")))"
   ]
  },
  {
   "cell_type": "markdown",
   "id": "44d53000",
   "metadata": {},
   "source": [
    "### Create a named vector (using entrez ids) for statistics from additive model"
   ]
  },
  {
   "cell_type": "code",
   "execution_count": null,
   "id": "826976bc",
   "metadata": {},
   "outputs": [],
   "source": [
    "### drop genes with na statistics\n",
    "### clean ensembl id by dropping version number\n",
    "### Merge the results by the clean ensemble id using an inner join\n",
    "### Only keep \n",
    "\n",
    "readRDS(multfile) %>%\n",
    "    DESeq2::results(tidy = TRUE) %>%\n",
    "    tidyr:: drop_na(stat) %>%\n",
    "    dplyr::mutate(ensid = str_remove(row, \".[0-9][0-9]{0,2}$\")) %>%\n",
    "    dplyr::inner_join(mgidat, by = c(\"ensid\" = \"11. Ensembl gene id\")) %>%\n",
    "    dplyr::filter(`6. Entrez gene id` %in% unique(unlist(Mm.H))) %>% \n",
    "    dplyr::pull(stat, name = \"6. Entrez gene id\") ->\n",
    "    multstat"
   ]
  },
  {
   "cell_type": "markdown",
   "id": "aebb4668",
   "metadata": {},
   "source": [
    "#### Spot check"
   ]
  },
  {
   "cell_type": "code",
   "execution_count": null,
   "id": "e78595ff",
   "metadata": {},
   "outputs": [],
   "source": [
    "idx <- sample(1:length(addstat), 3)\n",
    "idx"
   ]
  },
  {
   "cell_type": "code",
   "execution_count": null,
   "id": "30727d48",
   "metadata": {},
   "outputs": [],
   "source": [
    "mgidat %>% \n",
    "    dplyr::filter(`6. Entrez gene id` %in% names(multstat[idx])) %>%\n",
    "    dplyr::select(`6. Entrez gene id`, `11. Ensembl gene id`) ->\n",
    "    testres\n",
    "    \n",
    "testres"
   ]
  },
  {
   "cell_type": "code",
   "execution_count": null,
   "id": "19546a0d",
   "metadata": {},
   "outputs": [],
   "source": [
    "multstat[idx]\n",
    "readRDS(multfile) %>%\n",
    "    DESeq2::results(tidy = TRUE) %>%\n",
    "    dplyr::filter(str_detect(row, paste0(testres[[\"11. Ensembl gene id\"]], collapse = \"|\")))"
   ]
  },
  {
   "cell_type": "code",
   "execution_count": null,
   "id": "750adf5e",
   "metadata": {},
   "outputs": [],
   "source": [
    "outdir <- \"./proc\"\n",
    "\n",
    "addstatfile <- file.path(outdir, \"PRJNA668393-DESeq2-addstat.RDS\")\n",
    "multstatfile <- file.path(outdir, \"PRJNA668393-DESeq2-multstat.RDS\")\n",
    "\n",
    "saveRDS(addstat, addstatfile)\n",
    "saveRDS(multstat, multstatfile)\n",
    "\n",
    "tools::md5sum(addstatfile)\n",
    "tools::md5sum(multstatfile)"
   ]
  },
  {
   "cell_type": "code",
   "execution_count": null,
   "id": "59dab72d",
   "metadata": {},
   "outputs": [],
   "source": [
    "sessionInfo()"
   ]
  }
 ],
 "metadata": {
  "jupytext": {
   "formats": "ipynb,Rmd",
   "text_representation": {
    "extension": ".Rmd",
    "format_name": "rmarkdown",
    "format_version": "1.2",
    "jupytext_version": "1.11.2"
   }
  },
  "kernelspec": {
   "display_name": "R",
   "language": "R",
   "name": "ir"
  },
  "language_info": {
   "codemirror_mode": "r",
   "file_extension": ".r",
   "mimetype": "text/x-r-source",
   "name": "R",
   "pygments_lexer": "r",
   "version": "4.1.0"
  }
 },
 "nbformat": 4,
 "nbformat_minor": 5
}
