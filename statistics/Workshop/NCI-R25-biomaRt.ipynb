{
 "cells": [
  {
   "cell_type": "markdown",
   "id": "0e37f777",
   "metadata": {},
   "source": [
    "# Query genomic annotation using the biomaRt package from Bioconductor"
   ]
  },
  {
   "cell_type": "code",
   "execution_count": 3,
   "id": "068acbb1",
   "metadata": {},
   "outputs": [
    {
     "name": "stderr",
     "output_type": "stream",
     "text": [
      "Warning message in system(\"timedatectl\", intern = TRUE):\n",
      "“running command 'timedatectl' had status 1”\n",
      "── \u001b[1mAttaching packages\u001b[22m ─────────────────────────────────────── tidyverse 1.3.1 ──\n",
      "\n",
      "\u001b[32m✔\u001b[39m \u001b[34mggplot2\u001b[39m 3.3.3     \u001b[32m✔\u001b[39m \u001b[34mpurrr  \u001b[39m 0.3.4\n",
      "\u001b[32m✔\u001b[39m \u001b[34mtibble \u001b[39m 3.1.2     \u001b[32m✔\u001b[39m \u001b[34mdplyr  \u001b[39m 1.0.6\n",
      "\u001b[32m✔\u001b[39m \u001b[34mtidyr  \u001b[39m 1.1.3     \u001b[32m✔\u001b[39m \u001b[34mstringr\u001b[39m 1.4.0\n",
      "\u001b[32m✔\u001b[39m \u001b[34mreadr  \u001b[39m 1.4.0     \u001b[32m✔\u001b[39m \u001b[34mforcats\u001b[39m 0.5.1\n",
      "\n",
      "── \u001b[1mConflicts\u001b[22m ────────────────────────────────────────── tidyverse_conflicts() ──\n",
      "\u001b[31m✖\u001b[39m \u001b[34mdplyr\u001b[39m::\u001b[32mfilter()\u001b[39m masks \u001b[34mstats\u001b[39m::filter()\n",
      "\u001b[31m✖\u001b[39m \u001b[34mdplyr\u001b[39m::\u001b[32mlag()\u001b[39m    masks \u001b[34mstats\u001b[39m::lag()\n",
      "\u001b[31m✖\u001b[39m \u001b[34mdplyr\u001b[39m::\u001b[32mselect()\u001b[39m masks \u001b[34mbiomaRt\u001b[39m::select()\n",
      "\n"
     ]
    }
   ],
   "source": [
    "library(biomaRt)\n",
    "library(tidyverse)"
   ]
  },
  {
   "cell_type": "code",
   "execution_count": 4,
   "id": "565d4ebf",
   "metadata": {},
   "outputs": [],
   "source": [
    "mymart <- useMart(\"ENSEMBL_MART_ENSEMBL\", dataset=\"mmusculus_gene_ensembl\", version = \"Ensembl Genes 104\")"
   ]
  },
  {
   "cell_type": "markdown",
   "id": "40f9499c",
   "metadata": {},
   "source": [
    "## Example: query entrez id, and MGI id and symbol for ensembl ids"
   ]
  },
  {
   "cell_type": "markdown",
   "id": "af9a11e4",
   "metadata": {},
   "source": [
    "### List filters"
   ]
  },
  {
   "cell_type": "code",
   "execution_count": 5,
   "id": "71629593",
   "metadata": {},
   "outputs": [
    {
     "data": {
      "text/html": [
       "<table class=\"dataframe\">\n",
       "<caption>A data.frame: 7 × 2</caption>\n",
       "<thead>\n",
       "\t<tr><th scope=col>name</th><th scope=col>description</th></tr>\n",
       "\t<tr><th scope=col>&lt;chr&gt;</th><th scope=col>&lt;chr&gt;</th></tr>\n",
       "</thead>\n",
       "<tbody>\n",
       "\t<tr><td>ensembl_gene_id              </td><td>Gene stable ID(s) [e.g. ENSMUSG00000000001]                     </td></tr>\n",
       "\t<tr><td>ensembl_gene_id_version      </td><td>Gene stable ID(s) with version [e.g. ENSMUSG00000000001.5]      </td></tr>\n",
       "\t<tr><td>ensembl_transcript_id        </td><td>Transcript stable ID(s) [e.g. ENSMUST00000000001]               </td></tr>\n",
       "\t<tr><td>ensembl_transcript_id_version</td><td>Transcript stable ID(s) with version [e.g. ENSMUST00000000001.5]</td></tr>\n",
       "\t<tr><td>ensembl_peptide_id           </td><td>Protein stable ID(s) [e.g. ENSMUSP00000000001]                  </td></tr>\n",
       "\t<tr><td>ensembl_peptide_id_version   </td><td>Protein stable ID(s) with version [e.g. ENSMUSP00000000001.5]   </td></tr>\n",
       "\t<tr><td>ensembl_exon_id              </td><td>Exon ID(s) [e.g. ENSMUSE00000097910]                            </td></tr>\n",
       "</tbody>\n",
       "</table>\n"
      ],
      "text/latex": [
       "A data.frame: 7 × 2\n",
       "\\begin{tabular}{ll}\n",
       " name & description\\\\\n",
       " <chr> & <chr>\\\\\n",
       "\\hline\n",
       "\t ensembl\\_gene\\_id               & Gene stable ID(s) {[}e.g. ENSMUSG00000000001{]}                     \\\\\n",
       "\t ensembl\\_gene\\_id\\_version       & Gene stable ID(s) with version {[}e.g. ENSMUSG00000000001.5{]}      \\\\\n",
       "\t ensembl\\_transcript\\_id         & Transcript stable ID(s) {[}e.g. ENSMUST00000000001{]}               \\\\\n",
       "\t ensembl\\_transcript\\_id\\_version & Transcript stable ID(s) with version {[}e.g. ENSMUST00000000001.5{]}\\\\\n",
       "\t ensembl\\_peptide\\_id            & Protein stable ID(s) {[}e.g. ENSMUSP00000000001{]}                  \\\\\n",
       "\t ensembl\\_peptide\\_id\\_version    & Protein stable ID(s) with version {[}e.g. ENSMUSP00000000001.5{]}   \\\\\n",
       "\t ensembl\\_exon\\_id               & Exon ID(s) {[}e.g. ENSMUSE00000097910{]}                            \\\\\n",
       "\\end{tabular}\n"
      ],
      "text/markdown": [
       "\n",
       "A data.frame: 7 × 2\n",
       "\n",
       "| name &lt;chr&gt; | description &lt;chr&gt; |\n",
       "|---|---|\n",
       "| ensembl_gene_id               | Gene stable ID(s) [e.g. ENSMUSG00000000001]                      |\n",
       "| ensembl_gene_id_version       | Gene stable ID(s) with version [e.g. ENSMUSG00000000001.5]       |\n",
       "| ensembl_transcript_id         | Transcript stable ID(s) [e.g. ENSMUST00000000001]                |\n",
       "| ensembl_transcript_id_version | Transcript stable ID(s) with version [e.g. ENSMUST00000000001.5] |\n",
       "| ensembl_peptide_id            | Protein stable ID(s) [e.g. ENSMUSP00000000001]                   |\n",
       "| ensembl_peptide_id_version    | Protein stable ID(s) with version [e.g. ENSMUSP00000000001.5]    |\n",
       "| ensembl_exon_id               | Exon ID(s) [e.g. ENSMUSE00000097910]                             |\n",
       "\n"
      ],
      "text/plain": [
       "  name                         \n",
       "1 ensembl_gene_id              \n",
       "2 ensembl_gene_id_version      \n",
       "3 ensembl_transcript_id        \n",
       "4 ensembl_transcript_id_version\n",
       "5 ensembl_peptide_id           \n",
       "6 ensembl_peptide_id_version   \n",
       "7 ensembl_exon_id              \n",
       "  description                                                     \n",
       "1 Gene stable ID(s) [e.g. ENSMUSG00000000001]                     \n",
       "2 Gene stable ID(s) with version [e.g. ENSMUSG00000000001.5]      \n",
       "3 Transcript stable ID(s) [e.g. ENSMUST00000000001]               \n",
       "4 Transcript stable ID(s) with version [e.g. ENSMUST00000000001.5]\n",
       "5 Protein stable ID(s) [e.g. ENSMUSP00000000001]                  \n",
       "6 Protein stable ID(s) with version [e.g. ENSMUSP00000000001.5]   \n",
       "7 Exon ID(s) [e.g. ENSMUSE00000097910]                            "
      ]
     },
     "metadata": {},
     "output_type": "display_data"
    }
   ],
   "source": [
    "listFilters(mymart) %>% dplyr::filter(stringr::str_detect(name, \"ensembl\"))"
   ]
  },
  {
   "cell_type": "markdown",
   "id": "f8bfc45d",
   "metadata": {},
   "source": [
    "### List attributes"
   ]
  },
  {
   "cell_type": "code",
   "execution_count": 6,
   "id": "704c02f0",
   "metadata": {},
   "outputs": [
    {
     "data": {
      "text/html": [
       "<table class=\"dataframe\">\n",
       "<caption>A data.frame: 439 × 3</caption>\n",
       "<thead>\n",
       "\t<tr><th scope=col>name</th><th scope=col>description</th><th scope=col>page</th></tr>\n",
       "\t<tr><th scope=col>&lt;chr&gt;</th><th scope=col>&lt;chr&gt;</th><th scope=col>&lt;chr&gt;</th></tr>\n",
       "</thead>\n",
       "<tbody>\n",
       "\t<tr><td>ensembl_gene_id                    </td><td>Gene stable ID                                                </td><td>feature_page</td></tr>\n",
       "\t<tr><td>ensembl_gene_id_version            </td><td>Gene stable ID version                                        </td><td>feature_page</td></tr>\n",
       "\t<tr><td>ensembl_transcript_id              </td><td>Transcript stable ID                                          </td><td>feature_page</td></tr>\n",
       "\t<tr><td>ensembl_transcript_id_version      </td><td>Transcript stable ID version                                  </td><td>feature_page</td></tr>\n",
       "\t<tr><td>ensembl_peptide_id                 </td><td>Protein stable ID                                             </td><td>feature_page</td></tr>\n",
       "\t<tr><td>ensembl_peptide_id_version         </td><td>Protein stable ID version                                     </td><td>feature_page</td></tr>\n",
       "\t<tr><td>ensembl_exon_id                    </td><td>Exon stable ID                                                </td><td>feature_page</td></tr>\n",
       "\t<tr><td>entrezgene_trans_name              </td><td>EntrezGene transcript name ID                                 </td><td>feature_page</td></tr>\n",
       "\t<tr><td>mgi_description                    </td><td>MGI description                                               </td><td>feature_page</td></tr>\n",
       "\t<tr><td>mgi_symbol                         </td><td>MGI symbol                                                    </td><td>feature_page</td></tr>\n",
       "\t<tr><td>mgi_id                             </td><td>MGI ID                                                        </td><td>feature_page</td></tr>\n",
       "\t<tr><td>mgi_trans_name                     </td><td>MGI transcript name ID                                        </td><td>feature_page</td></tr>\n",
       "\t<tr><td>entrezgene_description             </td><td>NCBI gene (formerly Entrezgene) description                   </td><td>feature_page</td></tr>\n",
       "\t<tr><td>entrezgene_accession               </td><td>NCBI gene (formerly Entrezgene) accession                     </td><td>feature_page</td></tr>\n",
       "\t<tr><td>entrezgene_id                      </td><td>NCBI gene (formerly Entrezgene) ID                            </td><td>feature_page</td></tr>\n",
       "\t<tr><td>ensembl_gene_id                    </td><td>Gene stable ID                                                </td><td>structure   </td></tr>\n",
       "\t<tr><td>ensembl_gene_id_version            </td><td>Gene stable ID version                                        </td><td>structure   </td></tr>\n",
       "\t<tr><td>ensembl_transcript_id              </td><td>Transcript stable ID                                          </td><td>structure   </td></tr>\n",
       "\t<tr><td>ensembl_transcript_id_version      </td><td>Transcript stable ID version                                  </td><td>structure   </td></tr>\n",
       "\t<tr><td>ensembl_peptide_id                 </td><td>Protein stable ID                                             </td><td>structure   </td></tr>\n",
       "\t<tr><td>ensembl_peptide_id_version         </td><td>Protein stable ID version                                     </td><td>structure   </td></tr>\n",
       "\t<tr><td>ensembl_exon_id                    </td><td>Exon stable ID                                                </td><td>structure   </td></tr>\n",
       "\t<tr><td>ensembl_gene_id                    </td><td>Gene stable ID                                                </td><td>homologs    </td></tr>\n",
       "\t<tr><td>ensembl_gene_id_version            </td><td>Gene stable ID version                                        </td><td>homologs    </td></tr>\n",
       "\t<tr><td>ensembl_transcript_id              </td><td>Transcript stable ID                                          </td><td>homologs    </td></tr>\n",
       "\t<tr><td>ensembl_transcript_id_version      </td><td>Transcript stable ID version                                  </td><td>homologs    </td></tr>\n",
       "\t<tr><td>ensembl_peptide_id                 </td><td>Protein stable ID                                             </td><td>homologs    </td></tr>\n",
       "\t<tr><td>ensembl_peptide_id_version         </td><td>Protein stable ID version                                     </td><td>homologs    </td></tr>\n",
       "\t<tr><td>cabingdonii_homolog_ensembl_gene   </td><td>Abingdon island giant tortoise gene stable ID                 </td><td>homologs    </td></tr>\n",
       "\t<tr><td>cabingdonii_homolog_ensembl_peptide</td><td>Abingdon island giant tortoise protein or transcript stable ID</td><td>homologs    </td></tr>\n",
       "\t<tr><td>⋮</td><td>⋮</td><td>⋮</td></tr>\n",
       "\t<tr><td>neugenii_homolog_ensembl_peptide      </td><td>Wallaby protein or transcript stable ID             </td><td>homologs </td></tr>\n",
       "\t<tr><td>bmutus_homolog_ensembl_gene           </td><td>Wild yak gene stable ID                             </td><td>homologs </td></tr>\n",
       "\t<tr><td>bmutus_homolog_ensembl_peptide        </td><td>Wild yak protein or transcript stable ID            </td><td>homologs </td></tr>\n",
       "\t<tr><td>chyarkandensis_homolog_ensembl_gene   </td><td>Yarkand deer gene stable ID                         </td><td>homologs </td></tr>\n",
       "\t<tr><td>chyarkandensis_homolog_ensembl_peptide</td><td>Yarkand deer protein or transcript stable ID        </td><td>homologs </td></tr>\n",
       "\t<tr><td>sldorsalis_homolog_ensembl_gene       </td><td>Yellowtail amberjack gene stable ID                 </td><td>homologs </td></tr>\n",
       "\t<tr><td>sldorsalis_homolog_ensembl_peptide    </td><td>Yellowtail amberjack protein or transcript stable ID</td><td>homologs </td></tr>\n",
       "\t<tr><td>tguttata_homolog_ensembl_gene         </td><td>Zebra finch gene stable ID                          </td><td>homologs </td></tr>\n",
       "\t<tr><td>tguttata_homolog_ensembl_peptide      </td><td>Zebra finch protein or transcript stable ID         </td><td>homologs </td></tr>\n",
       "\t<tr><td>mzebra_homolog_ensembl_gene           </td><td>Zebra mbuna gene stable ID                          </td><td>homologs </td></tr>\n",
       "\t<tr><td>mzebra_homolog_ensembl_peptide        </td><td>Zebra mbuna protein or transcript stable ID         </td><td>homologs </td></tr>\n",
       "\t<tr><td>drerio_homolog_ensembl_gene           </td><td>Zebrafish gene stable ID                            </td><td>homologs </td></tr>\n",
       "\t<tr><td>drerio_homolog_ensembl_peptide        </td><td>Zebrafish protein or transcript stable ID           </td><td>homologs </td></tr>\n",
       "\t<tr><td>marmatus_homolog_ensembl_gene         </td><td>Zig-zag eel gene stable ID                          </td><td>homologs </td></tr>\n",
       "\t<tr><td>marmatus_homolog_ensembl_peptide      </td><td>Zig-zag eel protein or transcript stable ID         </td><td>homologs </td></tr>\n",
       "\t<tr><td>mmusculus_paralog_ensembl_gene        </td><td>Mouse paralogue gene stable ID                      </td><td>homologs </td></tr>\n",
       "\t<tr><td>mmusculus_paralog_ensembl_peptide     </td><td>Mouse paralogue protein or transcript ID            </td><td>homologs </td></tr>\n",
       "\t<tr><td>ensembl_gene_id                       </td><td>Gene stable ID                                      </td><td>snp      </td></tr>\n",
       "\t<tr><td>ensembl_gene_id_version               </td><td>Gene stable ID version                              </td><td>snp      </td></tr>\n",
       "\t<tr><td>ensembl_transcript_id                 </td><td>Transcript stable ID                                </td><td>snp      </td></tr>\n",
       "\t<tr><td>ensembl_transcript_id_version         </td><td>Transcript stable ID version                        </td><td>snp      </td></tr>\n",
       "\t<tr><td>ensembl_peptide_id                    </td><td>Protein stable ID                                   </td><td>snp      </td></tr>\n",
       "\t<tr><td>ensembl_peptide_id_version            </td><td>Protein stable ID version                           </td><td>snp      </td></tr>\n",
       "\t<tr><td>ensembl_gene_id                       </td><td>Gene stable ID                                      </td><td>sequences</td></tr>\n",
       "\t<tr><td>ensembl_gene_id_version               </td><td>Gene stable ID version                              </td><td>sequences</td></tr>\n",
       "\t<tr><td>ensembl_transcript_id                 </td><td>Transcript stable ID                                </td><td>sequences</td></tr>\n",
       "\t<tr><td>ensembl_transcript_id_version         </td><td>Transcript stable ID version                        </td><td>sequences</td></tr>\n",
       "\t<tr><td>ensembl_peptide_id                    </td><td>Protein stable ID                                   </td><td>sequences</td></tr>\n",
       "\t<tr><td>ensembl_peptide_id_version            </td><td>Protein stable ID version                           </td><td>sequences</td></tr>\n",
       "\t<tr><td>ensembl_exon_id                       </td><td>Exon stable ID                                      </td><td>sequences</td></tr>\n",
       "</tbody>\n",
       "</table>\n"
      ],
      "text/latex": [
       "A data.frame: 439 × 3\n",
       "\\begin{tabular}{lll}\n",
       " name & description & page\\\\\n",
       " <chr> & <chr> & <chr>\\\\\n",
       "\\hline\n",
       "\t ensembl\\_gene\\_id                     & Gene stable ID                                                 & feature\\_page\\\\\n",
       "\t ensembl\\_gene\\_id\\_version             & Gene stable ID version                                         & feature\\_page\\\\\n",
       "\t ensembl\\_transcript\\_id               & Transcript stable ID                                           & feature\\_page\\\\\n",
       "\t ensembl\\_transcript\\_id\\_version       & Transcript stable ID version                                   & feature\\_page\\\\\n",
       "\t ensembl\\_peptide\\_id                  & Protein stable ID                                              & feature\\_page\\\\\n",
       "\t ensembl\\_peptide\\_id\\_version          & Protein stable ID version                                      & feature\\_page\\\\\n",
       "\t ensembl\\_exon\\_id                     & Exon stable ID                                                 & feature\\_page\\\\\n",
       "\t entrezgene\\_trans\\_name               & EntrezGene transcript name ID                                  & feature\\_page\\\\\n",
       "\t mgi\\_description                     & MGI description                                                & feature\\_page\\\\\n",
       "\t mgi\\_symbol                          & MGI symbol                                                     & feature\\_page\\\\\n",
       "\t mgi\\_id                              & MGI ID                                                         & feature\\_page\\\\\n",
       "\t mgi\\_trans\\_name                      & MGI transcript name ID                                         & feature\\_page\\\\\n",
       "\t entrezgene\\_description              & NCBI gene (formerly Entrezgene) description                    & feature\\_page\\\\\n",
       "\t entrezgene\\_accession                & NCBI gene (formerly Entrezgene) accession                      & feature\\_page\\\\\n",
       "\t entrezgene\\_id                       & NCBI gene (formerly Entrezgene) ID                             & feature\\_page\\\\\n",
       "\t ensembl\\_gene\\_id                     & Gene stable ID                                                 & structure   \\\\\n",
       "\t ensembl\\_gene\\_id\\_version             & Gene stable ID version                                         & structure   \\\\\n",
       "\t ensembl\\_transcript\\_id               & Transcript stable ID                                           & structure   \\\\\n",
       "\t ensembl\\_transcript\\_id\\_version       & Transcript stable ID version                                   & structure   \\\\\n",
       "\t ensembl\\_peptide\\_id                  & Protein stable ID                                              & structure   \\\\\n",
       "\t ensembl\\_peptide\\_id\\_version          & Protein stable ID version                                      & structure   \\\\\n",
       "\t ensembl\\_exon\\_id                     & Exon stable ID                                                 & structure   \\\\\n",
       "\t ensembl\\_gene\\_id                     & Gene stable ID                                                 & homologs    \\\\\n",
       "\t ensembl\\_gene\\_id\\_version             & Gene stable ID version                                         & homologs    \\\\\n",
       "\t ensembl\\_transcript\\_id               & Transcript stable ID                                           & homologs    \\\\\n",
       "\t ensembl\\_transcript\\_id\\_version       & Transcript stable ID version                                   & homologs    \\\\\n",
       "\t ensembl\\_peptide\\_id                  & Protein stable ID                                              & homologs    \\\\\n",
       "\t ensembl\\_peptide\\_id\\_version          & Protein stable ID version                                      & homologs    \\\\\n",
       "\t cabingdonii\\_homolog\\_ensembl\\_gene    & Abingdon island giant tortoise gene stable ID                  & homologs    \\\\\n",
       "\t cabingdonii\\_homolog\\_ensembl\\_peptide & Abingdon island giant tortoise protein or transcript stable ID & homologs    \\\\\n",
       "\t ⋮ & ⋮ & ⋮\\\\\n",
       "\t neugenii\\_homolog\\_ensembl\\_peptide       & Wallaby protein or transcript stable ID              & homologs \\\\\n",
       "\t bmutus\\_homolog\\_ensembl\\_gene            & Wild yak gene stable ID                              & homologs \\\\\n",
       "\t bmutus\\_homolog\\_ensembl\\_peptide         & Wild yak protein or transcript stable ID             & homologs \\\\\n",
       "\t chyarkandensis\\_homolog\\_ensembl\\_gene    & Yarkand deer gene stable ID                          & homologs \\\\\n",
       "\t chyarkandensis\\_homolog\\_ensembl\\_peptide & Yarkand deer protein or transcript stable ID         & homologs \\\\\n",
       "\t sldorsalis\\_homolog\\_ensembl\\_gene        & Yellowtail amberjack gene stable ID                  & homologs \\\\\n",
       "\t sldorsalis\\_homolog\\_ensembl\\_peptide     & Yellowtail amberjack protein or transcript stable ID & homologs \\\\\n",
       "\t tguttata\\_homolog\\_ensembl\\_gene          & Zebra finch gene stable ID                           & homologs \\\\\n",
       "\t tguttata\\_homolog\\_ensembl\\_peptide       & Zebra finch protein or transcript stable ID          & homologs \\\\\n",
       "\t mzebra\\_homolog\\_ensembl\\_gene            & Zebra mbuna gene stable ID                           & homologs \\\\\n",
       "\t mzebra\\_homolog\\_ensembl\\_peptide         & Zebra mbuna protein or transcript stable ID          & homologs \\\\\n",
       "\t drerio\\_homolog\\_ensembl\\_gene            & Zebrafish gene stable ID                             & homologs \\\\\n",
       "\t drerio\\_homolog\\_ensembl\\_peptide         & Zebrafish protein or transcript stable ID            & homologs \\\\\n",
       "\t marmatus\\_homolog\\_ensembl\\_gene          & Zig-zag eel gene stable ID                           & homologs \\\\\n",
       "\t marmatus\\_homolog\\_ensembl\\_peptide       & Zig-zag eel protein or transcript stable ID          & homologs \\\\\n",
       "\t mmusculus\\_paralog\\_ensembl\\_gene         & Mouse paralogue gene stable ID                       & homologs \\\\\n",
       "\t mmusculus\\_paralog\\_ensembl\\_peptide      & Mouse paralogue protein or transcript ID             & homologs \\\\\n",
       "\t ensembl\\_gene\\_id                        & Gene stable ID                                       & snp      \\\\\n",
       "\t ensembl\\_gene\\_id\\_version                & Gene stable ID version                               & snp      \\\\\n",
       "\t ensembl\\_transcript\\_id                  & Transcript stable ID                                 & snp      \\\\\n",
       "\t ensembl\\_transcript\\_id\\_version          & Transcript stable ID version                         & snp      \\\\\n",
       "\t ensembl\\_peptide\\_id                     & Protein stable ID                                    & snp      \\\\\n",
       "\t ensembl\\_peptide\\_id\\_version             & Protein stable ID version                            & snp      \\\\\n",
       "\t ensembl\\_gene\\_id                        & Gene stable ID                                       & sequences\\\\\n",
       "\t ensembl\\_gene\\_id\\_version                & Gene stable ID version                               & sequences\\\\\n",
       "\t ensembl\\_transcript\\_id                  & Transcript stable ID                                 & sequences\\\\\n",
       "\t ensembl\\_transcript\\_id\\_version          & Transcript stable ID version                         & sequences\\\\\n",
       "\t ensembl\\_peptide\\_id                     & Protein stable ID                                    & sequences\\\\\n",
       "\t ensembl\\_peptide\\_id\\_version             & Protein stable ID version                            & sequences\\\\\n",
       "\t ensembl\\_exon\\_id                        & Exon stable ID                                       & sequences\\\\\n",
       "\\end{tabular}\n"
      ],
      "text/markdown": [
       "\n",
       "A data.frame: 439 × 3\n",
       "\n",
       "| name &lt;chr&gt; | description &lt;chr&gt; | page &lt;chr&gt; |\n",
       "|---|---|---|\n",
       "| ensembl_gene_id                     | Gene stable ID                                                 | feature_page |\n",
       "| ensembl_gene_id_version             | Gene stable ID version                                         | feature_page |\n",
       "| ensembl_transcript_id               | Transcript stable ID                                           | feature_page |\n",
       "| ensembl_transcript_id_version       | Transcript stable ID version                                   | feature_page |\n",
       "| ensembl_peptide_id                  | Protein stable ID                                              | feature_page |\n",
       "| ensembl_peptide_id_version          | Protein stable ID version                                      | feature_page |\n",
       "| ensembl_exon_id                     | Exon stable ID                                                 | feature_page |\n",
       "| entrezgene_trans_name               | EntrezGene transcript name ID                                  | feature_page |\n",
       "| mgi_description                     | MGI description                                                | feature_page |\n",
       "| mgi_symbol                          | MGI symbol                                                     | feature_page |\n",
       "| mgi_id                              | MGI ID                                                         | feature_page |\n",
       "| mgi_trans_name                      | MGI transcript name ID                                         | feature_page |\n",
       "| entrezgene_description              | NCBI gene (formerly Entrezgene) description                    | feature_page |\n",
       "| entrezgene_accession                | NCBI gene (formerly Entrezgene) accession                      | feature_page |\n",
       "| entrezgene_id                       | NCBI gene (formerly Entrezgene) ID                             | feature_page |\n",
       "| ensembl_gene_id                     | Gene stable ID                                                 | structure    |\n",
       "| ensembl_gene_id_version             | Gene stable ID version                                         | structure    |\n",
       "| ensembl_transcript_id               | Transcript stable ID                                           | structure    |\n",
       "| ensembl_transcript_id_version       | Transcript stable ID version                                   | structure    |\n",
       "| ensembl_peptide_id                  | Protein stable ID                                              | structure    |\n",
       "| ensembl_peptide_id_version          | Protein stable ID version                                      | structure    |\n",
       "| ensembl_exon_id                     | Exon stable ID                                                 | structure    |\n",
       "| ensembl_gene_id                     | Gene stable ID                                                 | homologs     |\n",
       "| ensembl_gene_id_version             | Gene stable ID version                                         | homologs     |\n",
       "| ensembl_transcript_id               | Transcript stable ID                                           | homologs     |\n",
       "| ensembl_transcript_id_version       | Transcript stable ID version                                   | homologs     |\n",
       "| ensembl_peptide_id                  | Protein stable ID                                              | homologs     |\n",
       "| ensembl_peptide_id_version          | Protein stable ID version                                      | homologs     |\n",
       "| cabingdonii_homolog_ensembl_gene    | Abingdon island giant tortoise gene stable ID                  | homologs     |\n",
       "| cabingdonii_homolog_ensembl_peptide | Abingdon island giant tortoise protein or transcript stable ID | homologs     |\n",
       "| ⋮ | ⋮ | ⋮ |\n",
       "| neugenii_homolog_ensembl_peptide       | Wallaby protein or transcript stable ID              | homologs  |\n",
       "| bmutus_homolog_ensembl_gene            | Wild yak gene stable ID                              | homologs  |\n",
       "| bmutus_homolog_ensembl_peptide         | Wild yak protein or transcript stable ID             | homologs  |\n",
       "| chyarkandensis_homolog_ensembl_gene    | Yarkand deer gene stable ID                          | homologs  |\n",
       "| chyarkandensis_homolog_ensembl_peptide | Yarkand deer protein or transcript stable ID         | homologs  |\n",
       "| sldorsalis_homolog_ensembl_gene        | Yellowtail amberjack gene stable ID                  | homologs  |\n",
       "| sldorsalis_homolog_ensembl_peptide     | Yellowtail amberjack protein or transcript stable ID | homologs  |\n",
       "| tguttata_homolog_ensembl_gene          | Zebra finch gene stable ID                           | homologs  |\n",
       "| tguttata_homolog_ensembl_peptide       | Zebra finch protein or transcript stable ID          | homologs  |\n",
       "| mzebra_homolog_ensembl_gene            | Zebra mbuna gene stable ID                           | homologs  |\n",
       "| mzebra_homolog_ensembl_peptide         | Zebra mbuna protein or transcript stable ID          | homologs  |\n",
       "| drerio_homolog_ensembl_gene            | Zebrafish gene stable ID                             | homologs  |\n",
       "| drerio_homolog_ensembl_peptide         | Zebrafish protein or transcript stable ID            | homologs  |\n",
       "| marmatus_homolog_ensembl_gene          | Zig-zag eel gene stable ID                           | homologs  |\n",
       "| marmatus_homolog_ensembl_peptide       | Zig-zag eel protein or transcript stable ID          | homologs  |\n",
       "| mmusculus_paralog_ensembl_gene         | Mouse paralogue gene stable ID                       | homologs  |\n",
       "| mmusculus_paralog_ensembl_peptide      | Mouse paralogue protein or transcript ID             | homologs  |\n",
       "| ensembl_gene_id                        | Gene stable ID                                       | snp       |\n",
       "| ensembl_gene_id_version                | Gene stable ID version                               | snp       |\n",
       "| ensembl_transcript_id                  | Transcript stable ID                                 | snp       |\n",
       "| ensembl_transcript_id_version          | Transcript stable ID version                         | snp       |\n",
       "| ensembl_peptide_id                     | Protein stable ID                                    | snp       |\n",
       "| ensembl_peptide_id_version             | Protein stable ID version                            | snp       |\n",
       "| ensembl_gene_id                        | Gene stable ID                                       | sequences |\n",
       "| ensembl_gene_id_version                | Gene stable ID version                               | sequences |\n",
       "| ensembl_transcript_id                  | Transcript stable ID                                 | sequences |\n",
       "| ensembl_transcript_id_version          | Transcript stable ID version                         | sequences |\n",
       "| ensembl_peptide_id                     | Protein stable ID                                    | sequences |\n",
       "| ensembl_peptide_id_version             | Protein stable ID version                            | sequences |\n",
       "| ensembl_exon_id                        | Exon stable ID                                       | sequences |\n",
       "\n"
      ],
      "text/plain": [
       "    name                                  \n",
       "1   ensembl_gene_id                       \n",
       "2   ensembl_gene_id_version               \n",
       "3   ensembl_transcript_id                 \n",
       "4   ensembl_transcript_id_version         \n",
       "5   ensembl_peptide_id                    \n",
       "6   ensembl_peptide_id_version            \n",
       "7   ensembl_exon_id                       \n",
       "8   entrezgene_trans_name                 \n",
       "9   mgi_description                       \n",
       "10  mgi_symbol                            \n",
       "11  mgi_id                                \n",
       "12  mgi_trans_name                        \n",
       "13  entrezgene_description                \n",
       "14  entrezgene_accession                  \n",
       "15  entrezgene_id                         \n",
       "16  ensembl_gene_id                       \n",
       "17  ensembl_gene_id_version               \n",
       "18  ensembl_transcript_id                 \n",
       "19  ensembl_transcript_id_version         \n",
       "20  ensembl_peptide_id                    \n",
       "21  ensembl_peptide_id_version            \n",
       "22  ensembl_exon_id                       \n",
       "23  ensembl_gene_id                       \n",
       "24  ensembl_gene_id_version               \n",
       "25  ensembl_transcript_id                 \n",
       "26  ensembl_transcript_id_version         \n",
       "27  ensembl_peptide_id                    \n",
       "28  ensembl_peptide_id_version            \n",
       "29  cabingdonii_homolog_ensembl_gene      \n",
       "30  cabingdonii_homolog_ensembl_peptide   \n",
       "⋮   ⋮                                     \n",
       "410 neugenii_homolog_ensembl_peptide      \n",
       "411 bmutus_homolog_ensembl_gene           \n",
       "412 bmutus_homolog_ensembl_peptide        \n",
       "413 chyarkandensis_homolog_ensembl_gene   \n",
       "414 chyarkandensis_homolog_ensembl_peptide\n",
       "415 sldorsalis_homolog_ensembl_gene       \n",
       "416 sldorsalis_homolog_ensembl_peptide    \n",
       "417 tguttata_homolog_ensembl_gene         \n",
       "418 tguttata_homolog_ensembl_peptide      \n",
       "419 mzebra_homolog_ensembl_gene           \n",
       "420 mzebra_homolog_ensembl_peptide        \n",
       "421 drerio_homolog_ensembl_gene           \n",
       "422 drerio_homolog_ensembl_peptide        \n",
       "423 marmatus_homolog_ensembl_gene         \n",
       "424 marmatus_homolog_ensembl_peptide      \n",
       "425 mmusculus_paralog_ensembl_gene        \n",
       "426 mmusculus_paralog_ensembl_peptide     \n",
       "427 ensembl_gene_id                       \n",
       "428 ensembl_gene_id_version               \n",
       "429 ensembl_transcript_id                 \n",
       "430 ensembl_transcript_id_version         \n",
       "431 ensembl_peptide_id                    \n",
       "432 ensembl_peptide_id_version            \n",
       "433 ensembl_gene_id                       \n",
       "434 ensembl_gene_id_version               \n",
       "435 ensembl_transcript_id                 \n",
       "436 ensembl_transcript_id_version         \n",
       "437 ensembl_peptide_id                    \n",
       "438 ensembl_peptide_id_version            \n",
       "439 ensembl_exon_id                       \n",
       "    description                                                    page        \n",
       "1   Gene stable ID                                                 feature_page\n",
       "2   Gene stable ID version                                         feature_page\n",
       "3   Transcript stable ID                                           feature_page\n",
       "4   Transcript stable ID version                                   feature_page\n",
       "5   Protein stable ID                                              feature_page\n",
       "6   Protein stable ID version                                      feature_page\n",
       "7   Exon stable ID                                                 feature_page\n",
       "8   EntrezGene transcript name ID                                  feature_page\n",
       "9   MGI description                                                feature_page\n",
       "10  MGI symbol                                                     feature_page\n",
       "11  MGI ID                                                         feature_page\n",
       "12  MGI transcript name ID                                         feature_page\n",
       "13  NCBI gene (formerly Entrezgene) description                    feature_page\n",
       "14  NCBI gene (formerly Entrezgene) accession                      feature_page\n",
       "15  NCBI gene (formerly Entrezgene) ID                             feature_page\n",
       "16  Gene stable ID                                                 structure   \n",
       "17  Gene stable ID version                                         structure   \n",
       "18  Transcript stable ID                                           structure   \n",
       "19  Transcript stable ID version                                   structure   \n",
       "20  Protein stable ID                                              structure   \n",
       "21  Protein stable ID version                                      structure   \n",
       "22  Exon stable ID                                                 structure   \n",
       "23  Gene stable ID                                                 homologs    \n",
       "24  Gene stable ID version                                         homologs    \n",
       "25  Transcript stable ID                                           homologs    \n",
       "26  Transcript stable ID version                                   homologs    \n",
       "27  Protein stable ID                                              homologs    \n",
       "28  Protein stable ID version                                      homologs    \n",
       "29  Abingdon island giant tortoise gene stable ID                  homologs    \n",
       "30  Abingdon island giant tortoise protein or transcript stable ID homologs    \n",
       "⋮   ⋮                                                              ⋮           \n",
       "410 Wallaby protein or transcript stable ID                        homologs    \n",
       "411 Wild yak gene stable ID                                        homologs    \n",
       "412 Wild yak protein or transcript stable ID                       homologs    \n",
       "413 Yarkand deer gene stable ID                                    homologs    \n",
       "414 Yarkand deer protein or transcript stable ID                   homologs    \n",
       "415 Yellowtail amberjack gene stable ID                            homologs    \n",
       "416 Yellowtail amberjack protein or transcript stable ID           homologs    \n",
       "417 Zebra finch gene stable ID                                     homologs    \n",
       "418 Zebra finch protein or transcript stable ID                    homologs    \n",
       "419 Zebra mbuna gene stable ID                                     homologs    \n",
       "420 Zebra mbuna protein or transcript stable ID                    homologs    \n",
       "421 Zebrafish gene stable ID                                       homologs    \n",
       "422 Zebrafish protein or transcript stable ID                      homologs    \n",
       "423 Zig-zag eel gene stable ID                                     homologs    \n",
       "424 Zig-zag eel protein or transcript stable ID                    homologs    \n",
       "425 Mouse paralogue gene stable ID                                 homologs    \n",
       "426 Mouse paralogue protein or transcript ID                       homologs    \n",
       "427 Gene stable ID                                                 snp         \n",
       "428 Gene stable ID version                                         snp         \n",
       "429 Transcript stable ID                                           snp         \n",
       "430 Transcript stable ID version                                   snp         \n",
       "431 Protein stable ID                                              snp         \n",
       "432 Protein stable ID version                                      snp         \n",
       "433 Gene stable ID                                                 sequences   \n",
       "434 Gene stable ID version                                         sequences   \n",
       "435 Transcript stable ID                                           sequences   \n",
       "436 Transcript stable ID version                                   sequences   \n",
       "437 Protein stable ID                                              sequences   \n",
       "438 Protein stable ID version                                      sequences   \n",
       "439 Exon stable ID                                                 sequences   "
      ]
     },
     "metadata": {},
     "output_type": "display_data"
    }
   ],
   "source": [
    "listAttributes(mymart) %>% dplyr::filter(str_detect(name, \"ensembl|entrez|mgi\"))"
   ]
  },
  {
   "cell_type": "markdown",
   "id": "e47cb9bc",
   "metadata": {},
   "source": [
    "### sample query for two genes"
   ]
  },
  {
   "cell_type": "markdown",
   "id": "9248cd61",
   "metadata": {},
   "source": [
    "Query by ensembl id"
   ]
  },
  {
   "cell_type": "code",
   "execution_count": 7,
   "id": "daebddc4",
   "metadata": {
    "lines_to_next_cell": 0
   },
   "outputs": [
    {
     "data": {
      "text/html": [
       "<table class=\"dataframe\">\n",
       "<caption>A data.frame: 2 × 4</caption>\n",
       "<thead>\n",
       "\t<tr><th scope=col>ensembl_gene_id</th><th scope=col>entrezgene_id</th><th scope=col>mgi_id</th><th scope=col>mgi_symbol</th></tr>\n",
       "\t<tr><th scope=col>&lt;chr&gt;</th><th scope=col>&lt;int&gt;</th><th scope=col>&lt;chr&gt;</th><th scope=col>&lt;chr&gt;</th></tr>\n",
       "</thead>\n",
       "<tbody>\n",
       "\t<tr><td>ENSMUSG00000023951</td><td> 22339</td><td>MGI:103178 </td><td>Vegfa</td></tr>\n",
       "\t<tr><td>ENSMUSG00000041872</td><td>257630</td><td>MGI:2676631</td><td>Il17f</td></tr>\n",
       "</tbody>\n",
       "</table>\n"
      ],
      "text/latex": [
       "A data.frame: 2 × 4\n",
       "\\begin{tabular}{llll}\n",
       " ensembl\\_gene\\_id & entrezgene\\_id & mgi\\_id & mgi\\_symbol\\\\\n",
       " <chr> & <int> & <chr> & <chr>\\\\\n",
       "\\hline\n",
       "\t ENSMUSG00000023951 &  22339 & MGI:103178  & Vegfa\\\\\n",
       "\t ENSMUSG00000041872 & 257630 & MGI:2676631 & Il17f\\\\\n",
       "\\end{tabular}\n"
      ],
      "text/markdown": [
       "\n",
       "A data.frame: 2 × 4\n",
       "\n",
       "| ensembl_gene_id &lt;chr&gt; | entrezgene_id &lt;int&gt; | mgi_id &lt;chr&gt; | mgi_symbol &lt;chr&gt; |\n",
       "|---|---|---|---|\n",
       "| ENSMUSG00000023951 |  22339 | MGI:103178  | Vegfa |\n",
       "| ENSMUSG00000041872 | 257630 | MGI:2676631 | Il17f |\n",
       "\n"
      ],
      "text/plain": [
       "  ensembl_gene_id    entrezgene_id mgi_id      mgi_symbol\n",
       "1 ENSMUSG00000023951  22339        MGI:103178  Vegfa     \n",
       "2 ENSMUSG00000041872 257630        MGI:2676631 Il17f     "
      ]
     },
     "metadata": {},
     "output_type": "display_data"
    }
   ],
   "source": [
    "biomaRt::getBM(\n",
    "    filters = \"ensembl_gene_id\",\n",
    "    attributes=c(\"ensembl_gene_id\", \"entrezgene_id\",\"mgi_id\", \"mgi_symbol\"),\n",
    "    values=c(\"ENSMUSG00000023951\", \"ENSMUSG00000041872\"),\n",
    "    mart=mymart\n",
    ")"
   ]
  },
  {
   "cell_type": "markdown",
   "id": "213334de",
   "metadata": {},
   "source": [
    "Conversely, query using entrez ids"
   ]
  },
  {
   "cell_type": "code",
   "execution_count": 8,
   "id": "46b0a994",
   "metadata": {
    "lines_to_next_cell": 0
   },
   "outputs": [
    {
     "data": {
      "text/html": [
       "<table class=\"dataframe\">\n",
       "<caption>A data.frame: 2 × 4</caption>\n",
       "<thead>\n",
       "\t<tr><th scope=col>ensembl_gene_id</th><th scope=col>entrezgene_id</th><th scope=col>mgi_id</th><th scope=col>mgi_symbol</th></tr>\n",
       "\t<tr><th scope=col>&lt;chr&gt;</th><th scope=col>&lt;int&gt;</th><th scope=col>&lt;chr&gt;</th><th scope=col>&lt;chr&gt;</th></tr>\n",
       "</thead>\n",
       "<tbody>\n",
       "\t<tr><td>ENSMUSG00000023951</td><td> 22339</td><td>MGI:103178 </td><td>Vegfa</td></tr>\n",
       "\t<tr><td>ENSMUSG00000041872</td><td>257630</td><td>MGI:2676631</td><td>Il17f</td></tr>\n",
       "</tbody>\n",
       "</table>\n"
      ],
      "text/latex": [
       "A data.frame: 2 × 4\n",
       "\\begin{tabular}{llll}\n",
       " ensembl\\_gene\\_id & entrezgene\\_id & mgi\\_id & mgi\\_symbol\\\\\n",
       " <chr> & <int> & <chr> & <chr>\\\\\n",
       "\\hline\n",
       "\t ENSMUSG00000023951 &  22339 & MGI:103178  & Vegfa\\\\\n",
       "\t ENSMUSG00000041872 & 257630 & MGI:2676631 & Il17f\\\\\n",
       "\\end{tabular}\n"
      ],
      "text/markdown": [
       "\n",
       "A data.frame: 2 × 4\n",
       "\n",
       "| ensembl_gene_id &lt;chr&gt; | entrezgene_id &lt;int&gt; | mgi_id &lt;chr&gt; | mgi_symbol &lt;chr&gt; |\n",
       "|---|---|---|---|\n",
       "| ENSMUSG00000023951 |  22339 | MGI:103178  | Vegfa |\n",
       "| ENSMUSG00000041872 | 257630 | MGI:2676631 | Il17f |\n",
       "\n"
      ],
      "text/plain": [
       "  ensembl_gene_id    entrezgene_id mgi_id      mgi_symbol\n",
       "1 ENSMUSG00000023951  22339        MGI:103178  Vegfa     \n",
       "2 ENSMUSG00000041872 257630        MGI:2676631 Il17f     "
      ]
     },
     "metadata": {},
     "output_type": "display_data"
    }
   ],
   "source": [
    "biomaRt::getBM(\n",
    "    filters = \"entrezgene_id\",\n",
    "    attributes=c(\"ensembl_gene_id\", \"entrezgene_id\",\"mgi_id\", \"mgi_symbol\"),\n",
    "    values=c(22339, 257630),\n",
    "    mart=mymart\n",
    ")"
   ]
  },
  {
   "cell_type": "markdown",
   "id": "9189ba88",
   "metadata": {},
   "source": [
    "\n",
    "\n"
   ]
  },
  {
   "cell_type": "markdown",
   "id": "6302a62a",
   "metadata": {},
   "source": [
    "## Query gene ids for pathway analysis"
   ]
  },
  {
   "cell_type": "markdown",
   "id": "337e332a",
   "metadata": {},
   "source": [
    "A pathway analysis is by deisgn limited to the genes annotated in pathways. Accordingly, can limit our attention to this subset of genes."
   ]
  },
  {
   "cell_type": "markdown",
   "id": "4e17cc18",
   "metadata": {},
   "source": [
    "### Import Pathways"
   ]
  },
  {
   "cell_type": "code",
   "execution_count": 9,
   "id": "bc676f7a",
   "metadata": {},
   "outputs": [
    {
     "data": {
      "text/html": [
       "<strong>./resource//Mm.h.all.v7.1.entrez.rds:</strong> 'dcdff11eae5ed25ee6f261de4ecc70fa'"
      ],
      "text/latex": [
       "\\textbf{./resource//Mm.h.all.v7.1.entrez.rds:} 'dcdff11eae5ed25ee6f261de4ecc70fa'"
      ],
      "text/markdown": [
       "**./resource//Mm.h.all.v7.1.entrez.rds:** 'dcdff11eae5ed25ee6f261de4ecc70fa'"
      ],
      "text/plain": [
       "./resource//Mm.h.all.v7.1.entrez.rds \n",
       "  \"dcdff11eae5ed25ee6f261de4ecc70fa\" "
      ]
     },
     "metadata": {},
     "output_type": "display_data"
    }
   ],
   "source": [
    "annodir <- \"./resource/\"\n",
    "annofile <- file.path(annodir, \"Mm.h.all.v7.1.entrez.rds\")\n",
    "\n",
    "tools::md5sum(annofile)\n",
    "\n",
    "Mm.H <- readRDS(annofile)"
   ]
  },
  {
   "cell_type": "markdown",
   "id": "3ec198dd",
   "metadata": {},
   "source": [
    "### Query annotation for genes annotated in the pathways"
   ]
  },
  {
   "cell_type": "code",
   "execution_count": 15,
   "id": "46665161",
   "metadata": {},
   "outputs": [],
   "source": [
    "biomaRt::getBM(\n",
    "    filters = \"entrezgene_id\",\n",
    "    attributes=c(\"chromosome_name\", \"start_position\", \"end_position\" , \"strand\" , \"ensembl_gene_id\", \"entrezgene_id\",\"mgi_id\", \"mgi_symbol\"),\n",
    "    values=as.integer(unique(unlist(Mm.H))),\n",
    "    mart=mymart\n",
    ") -> pathwayids"
   ]
  },
  {
   "cell_type": "code",
   "execution_count": 12,
   "id": "8a97b68b",
   "metadata": {},
   "outputs": [
    {
     "data": {
      "text/html": [
       "<table class=\"dataframe\">\n",
       "<caption>A data.frame: 6 × 8</caption>\n",
       "<thead>\n",
       "\t<tr><th></th><th scope=col>chromosome_name</th><th scope=col>start_position</th><th scope=col>end_position</th><th scope=col>strand</th><th scope=col>ensembl_gene_id</th><th scope=col>entrezgene_id</th><th scope=col>mgi_id</th><th scope=col>mgi_symbol</th></tr>\n",
       "\t<tr><th></th><th scope=col>&lt;chr&gt;</th><th scope=col>&lt;int&gt;</th><th scope=col>&lt;int&gt;</th><th scope=col>&lt;int&gt;</th><th scope=col>&lt;chr&gt;</th><th scope=col>&lt;int&gt;</th><th scope=col>&lt;chr&gt;</th><th scope=col>&lt;chr&gt;</th></tr>\n",
       "</thead>\n",
       "<tbody>\n",
       "\t<tr><th scope=row>1</th><td>14        </td><td>119175388</td><td>119219109</td><td> 1</td><td>ENSMUSG00000022136</td><td>100037258</td><td>MGI:107373 </td><td>Dnajc3 </td></tr>\n",
       "\t<tr><th scope=row>2</th><td>4         </td><td>156283912</td><td>156285253</td><td>-1</td><td>ENSMUSG00000035692</td><td>100038882</td><td>MGI:1855694</td><td>Isg15  </td></tr>\n",
       "\t<tr><th scope=row>3</th><td>4         </td><td>115458166</td><td>115478799</td><td> 1</td><td>ENSMUSG00000063929</td><td>100040843</td><td>MGI:3717148</td><td>Cyp4a32</td></tr>\n",
       "\t<tr><th scope=row>4</th><td>GL456211.1</td><td>   167446</td><td>   196478</td><td> 1</td><td>ENSMUSG00000079190</td><td>100041057</td><td>           </td><td>       </td></tr>\n",
       "\t<tr><th scope=row>5</th><td>17        </td><td> 13574834</td><td> 13597485</td><td> 1</td><td>ENSMUSG00000052469</td><td>100041352</td><td>MGI:98543  </td><td>Tcp10c </td></tr>\n",
       "\t<tr><th scope=row>6</th><td>10        </td><td> 35584671</td><td> 35587888</td><td>-1</td><td>ENSMUSG00000063953</td><td>100041585</td><td>MGI:1333111</td><td>Amd2   </td></tr>\n",
       "</tbody>\n",
       "</table>\n"
      ],
      "text/latex": [
       "A data.frame: 6 × 8\n",
       "\\begin{tabular}{r|llllllll}\n",
       "  & chromosome\\_name & start\\_position & end\\_position & strand & ensembl\\_gene\\_id & entrezgene\\_id & mgi\\_id & mgi\\_symbol\\\\\n",
       "  & <chr> & <int> & <int> & <int> & <chr> & <int> & <chr> & <chr>\\\\\n",
       "\\hline\n",
       "\t1 & 14         & 119175388 & 119219109 &  1 & ENSMUSG00000022136 & 100037258 & MGI:107373  & Dnajc3 \\\\\n",
       "\t2 & 4          & 156283912 & 156285253 & -1 & ENSMUSG00000035692 & 100038882 & MGI:1855694 & Isg15  \\\\\n",
       "\t3 & 4          & 115458166 & 115478799 &  1 & ENSMUSG00000063929 & 100040843 & MGI:3717148 & Cyp4a32\\\\\n",
       "\t4 & GL456211.1 &    167446 &    196478 &  1 & ENSMUSG00000079190 & 100041057 &             &        \\\\\n",
       "\t5 & 17         &  13574834 &  13597485 &  1 & ENSMUSG00000052469 & 100041352 & MGI:98543   & Tcp10c \\\\\n",
       "\t6 & 10         &  35584671 &  35587888 & -1 & ENSMUSG00000063953 & 100041585 & MGI:1333111 & Amd2   \\\\\n",
       "\\end{tabular}\n"
      ],
      "text/markdown": [
       "\n",
       "A data.frame: 6 × 8\n",
       "\n",
       "| <!--/--> | chromosome_name &lt;chr&gt; | start_position &lt;int&gt; | end_position &lt;int&gt; | strand &lt;int&gt; | ensembl_gene_id &lt;chr&gt; | entrezgene_id &lt;int&gt; | mgi_id &lt;chr&gt; | mgi_symbol &lt;chr&gt; |\n",
       "|---|---|---|---|---|---|---|---|---|\n",
       "| 1 | 14         | 119175388 | 119219109 |  1 | ENSMUSG00000022136 | 100037258 | MGI:107373  | Dnajc3  |\n",
       "| 2 | 4          | 156283912 | 156285253 | -1 | ENSMUSG00000035692 | 100038882 | MGI:1855694 | Isg15   |\n",
       "| 3 | 4          | 115458166 | 115478799 |  1 | ENSMUSG00000063929 | 100040843 | MGI:3717148 | Cyp4a32 |\n",
       "| 4 | GL456211.1 |    167446 |    196478 |  1 | ENSMUSG00000079190 | 100041057 | <!----> | <!----> |\n",
       "| 5 | 17         |  13574834 |  13597485 |  1 | ENSMUSG00000052469 | 100041352 | MGI:98543   | Tcp10c  |\n",
       "| 6 | 10         |  35584671 |  35587888 | -1 | ENSMUSG00000063953 | 100041585 | MGI:1333111 | Amd2    |\n",
       "\n"
      ],
      "text/plain": [
       "  chromosome_name start_position end_position strand ensembl_gene_id   \n",
       "1 14              119175388      119219109     1     ENSMUSG00000022136\n",
       "2 4               156283912      156285253    -1     ENSMUSG00000035692\n",
       "3 4               115458166      115478799     1     ENSMUSG00000063929\n",
       "4 GL456211.1         167446         196478     1     ENSMUSG00000079190\n",
       "5 17               13574834       13597485     1     ENSMUSG00000052469\n",
       "6 10               35584671       35587888    -1     ENSMUSG00000063953\n",
       "  entrezgene_id mgi_id      mgi_symbol\n",
       "1 100037258     MGI:107373  Dnajc3    \n",
       "2 100038882     MGI:1855694 Isg15     \n",
       "3 100040843     MGI:3717148 Cyp4a32   \n",
       "4 100041057                           \n",
       "5 100041352     MGI:98543   Tcp10c    \n",
       "6 100041585     MGI:1333111 Amd2      "
      ]
     },
     "metadata": {},
     "output_type": "display_data"
    }
   ],
   "source": [
    "pathwayids %>% head"
   ]
  },
  {
   "cell_type": "markdown",
   "id": "915c0088",
   "metadata": {},
   "source": [
    "### "
   ]
  },
  {
   "cell_type": "markdown",
   "id": "d57f5e10",
   "metadata": {},
   "source": [
    "Number of pathways ids with no query"
   ]
  },
  {
   "cell_type": "code",
   "execution_count": 16,
   "id": "e7608d1f",
   "metadata": {},
   "outputs": [
    {
     "data": {
      "text/html": [
       "117"
      ],
      "text/latex": [
       "117"
      ],
      "text/markdown": [
       "117"
      ],
      "text/plain": [
       "[1] 117"
      ]
     },
     "metadata": {},
     "output_type": "display_data"
    }
   ],
   "source": [
    "length(setdiff(as.integer(unlist(Mm.H)), pathwayids[[\"entrezgene_id\"]]))"
   ]
  },
  {
   "cell_type": "markdown",
   "id": "9780d5aa",
   "metadata": {},
   "source": [
    "Pathway ids with non-unique ensembl id"
   ]
  },
  {
   "cell_type": "code",
   "execution_count": 17,
   "id": "727bc4b1",
   "metadata": {},
   "outputs": [
    {
     "data": {
      "text/html": [
       "<table class=\"dataframe\">\n",
       "<caption>A grouped_df: 19 × 8</caption>\n",
       "<thead>\n",
       "\t<tr><th scope=col>chromosome_name</th><th scope=col>start_position</th><th scope=col>end_position</th><th scope=col>strand</th><th scope=col>ensembl_gene_id</th><th scope=col>entrezgene_id</th><th scope=col>mgi_id</th><th scope=col>mgi_symbol</th></tr>\n",
       "\t<tr><th scope=col>&lt;chr&gt;</th><th scope=col>&lt;int&gt;</th><th scope=col>&lt;int&gt;</th><th scope=col>&lt;int&gt;</th><th scope=col>&lt;chr&gt;</th><th scope=col>&lt;int&gt;</th><th scope=col>&lt;chr&gt;</th><th scope=col>&lt;chr&gt;</th></tr>\n",
       "</thead>\n",
       "<tbody>\n",
       "\t<tr><td>5 </td><td>122296341</td><td>122313336</td><td> 1</td><td>ENSMUSG00000004455</td><td>    19047</td><td>MGI:104872 </td><td>Ppp1cc </td></tr>\n",
       "\t<tr><td>5 </td><td>122296341</td><td>122313336</td><td> 1</td><td>ENSMUSG00000004455</td><td>   434233</td><td>MGI:104872 </td><td>Ppp1cc </td></tr>\n",
       "\t<tr><td>16</td><td> 37467532</td><td> 37474815</td><td>-1</td><td>ENSMUSG00000022820</td><td>100041273</td><td>MGI:1915444</td><td>Ndufb4 </td></tr>\n",
       "\t<tr><td>16</td><td> 37467532</td><td> 37474815</td><td>-1</td><td>ENSMUSG00000022820</td><td>100042503</td><td>MGI:1915444</td><td>Ndufb4 </td></tr>\n",
       "\t<tr><td>16</td><td> 37467532</td><td> 37474815</td><td>-1</td><td>ENSMUSG00000022820</td><td>    68194</td><td>MGI:1915444</td><td>Ndufb4 </td></tr>\n",
       "\t<tr><td>18</td><td> 80249980</td><td> 80255956</td><td> 1</td><td>ENSMUSG00000024571</td><td>117903916</td><td>MGI:3833940</td><td>Gm16286</td></tr>\n",
       "\t<tr><td>18</td><td> 80249980</td><td> 80255956</td><td> 1</td><td>ENSMUSG00000024571</td><td>    27366</td><td>MGI:3833940</td><td>Gm16286</td></tr>\n",
       "\t<tr><td>7 </td><td>103475741</td><td>103477303</td><td>-1</td><td>ENSMUSG00000052305</td><td>100503605</td><td>MGI:5474852</td><td>Hbb-bs </td></tr>\n",
       "\t<tr><td>7 </td><td>103475741</td><td>103477303</td><td>-1</td><td>ENSMUSG00000052305</td><td>    15129</td><td>MGI:5474852</td><td>Hbb-bs </td></tr>\n",
       "\t<tr><td>14</td><td> 44194526</td><td> 44200529</td><td> 1</td><td>ENSMUSG00000053961</td><td>    11730</td><td>MGI:3528599</td><td>Ang5   </td></tr>\n",
       "\t<tr><td>14</td><td> 44194526</td><td> 44200529</td><td> 1</td><td>ENSMUSG00000053961</td><td>   503844</td><td>MGI:3528599</td><td>Ang5   </td></tr>\n",
       "\t<tr><td>17</td><td> 35658131</td><td> 35662749</td><td> 1</td><td>ENSMUSG00000060550</td><td>   110558</td><td>MGI:95936  </td><td>H2-Q7  </td></tr>\n",
       "\t<tr><td>17</td><td> 35658131</td><td> 35662749</td><td> 1</td><td>ENSMUSG00000060550</td><td>    15018</td><td>MGI:95936  </td><td>H2-Q7  </td></tr>\n",
       "\t<tr><td>3 </td><td>130520480</td><td>130524047</td><td>-1</td><td>ENSMUSG00000062006</td><td>   619547</td><td>MGI:1915686</td><td>Rpl34  </td></tr>\n",
       "\t<tr><td>3 </td><td>130520480</td><td>130524047</td><td>-1</td><td>ENSMUSG00000062006</td><td>    68436</td><td>MGI:1915686</td><td>Rpl34  </td></tr>\n",
       "\t<tr><td>7 </td><td> 44465811</td><td> 44490233</td><td> 1</td><td>ENSMUSG00000074141</td><td>100328588</td><td>MGI:109552 </td><td>Il4i1  </td></tr>\n",
       "\t<tr><td>7 </td><td> 44465811</td><td> 44490233</td><td> 1</td><td>ENSMUSG00000074141</td><td>    14204</td><td>MGI:109552 </td><td>Il4i1  </td></tr>\n",
       "\t<tr><td>13</td><td>100787487</td><td>100802867</td><td> 1</td><td>ENSMUSG00000078941</td><td>102216272</td><td>MGI:5510732</td><td>Ak6    </td></tr>\n",
       "\t<tr><td>13</td><td>100787487</td><td>100802867</td><td> 1</td><td>ENSMUSG00000078941</td><td>   108143</td><td>MGI:5510732</td><td>Ak6    </td></tr>\n",
       "</tbody>\n",
       "</table>\n"
      ],
      "text/latex": [
       "A grouped\\_df: 19 × 8\n",
       "\\begin{tabular}{llllllll}\n",
       " chromosome\\_name & start\\_position & end\\_position & strand & ensembl\\_gene\\_id & entrezgene\\_id & mgi\\_id & mgi\\_symbol\\\\\n",
       " <chr> & <int> & <int> & <int> & <chr> & <int> & <chr> & <chr>\\\\\n",
       "\\hline\n",
       "\t 5  & 122296341 & 122313336 &  1 & ENSMUSG00000004455 &     19047 & MGI:104872  & Ppp1cc \\\\\n",
       "\t 5  & 122296341 & 122313336 &  1 & ENSMUSG00000004455 &    434233 & MGI:104872  & Ppp1cc \\\\\n",
       "\t 16 &  37467532 &  37474815 & -1 & ENSMUSG00000022820 & 100041273 & MGI:1915444 & Ndufb4 \\\\\n",
       "\t 16 &  37467532 &  37474815 & -1 & ENSMUSG00000022820 & 100042503 & MGI:1915444 & Ndufb4 \\\\\n",
       "\t 16 &  37467532 &  37474815 & -1 & ENSMUSG00000022820 &     68194 & MGI:1915444 & Ndufb4 \\\\\n",
       "\t 18 &  80249980 &  80255956 &  1 & ENSMUSG00000024571 & 117903916 & MGI:3833940 & Gm16286\\\\\n",
       "\t 18 &  80249980 &  80255956 &  1 & ENSMUSG00000024571 &     27366 & MGI:3833940 & Gm16286\\\\\n",
       "\t 7  & 103475741 & 103477303 & -1 & ENSMUSG00000052305 & 100503605 & MGI:5474852 & Hbb-bs \\\\\n",
       "\t 7  & 103475741 & 103477303 & -1 & ENSMUSG00000052305 &     15129 & MGI:5474852 & Hbb-bs \\\\\n",
       "\t 14 &  44194526 &  44200529 &  1 & ENSMUSG00000053961 &     11730 & MGI:3528599 & Ang5   \\\\\n",
       "\t 14 &  44194526 &  44200529 &  1 & ENSMUSG00000053961 &    503844 & MGI:3528599 & Ang5   \\\\\n",
       "\t 17 &  35658131 &  35662749 &  1 & ENSMUSG00000060550 &    110558 & MGI:95936   & H2-Q7  \\\\\n",
       "\t 17 &  35658131 &  35662749 &  1 & ENSMUSG00000060550 &     15018 & MGI:95936   & H2-Q7  \\\\\n",
       "\t 3  & 130520480 & 130524047 & -1 & ENSMUSG00000062006 &    619547 & MGI:1915686 & Rpl34  \\\\\n",
       "\t 3  & 130520480 & 130524047 & -1 & ENSMUSG00000062006 &     68436 & MGI:1915686 & Rpl34  \\\\\n",
       "\t 7  &  44465811 &  44490233 &  1 & ENSMUSG00000074141 & 100328588 & MGI:109552  & Il4i1  \\\\\n",
       "\t 7  &  44465811 &  44490233 &  1 & ENSMUSG00000074141 &     14204 & MGI:109552  & Il4i1  \\\\\n",
       "\t 13 & 100787487 & 100802867 &  1 & ENSMUSG00000078941 & 102216272 & MGI:5510732 & Ak6    \\\\\n",
       "\t 13 & 100787487 & 100802867 &  1 & ENSMUSG00000078941 &    108143 & MGI:5510732 & Ak6    \\\\\n",
       "\\end{tabular}\n"
      ],
      "text/markdown": [
       "\n",
       "A grouped_df: 19 × 8\n",
       "\n",
       "| chromosome_name &lt;chr&gt; | start_position &lt;int&gt; | end_position &lt;int&gt; | strand &lt;int&gt; | ensembl_gene_id &lt;chr&gt; | entrezgene_id &lt;int&gt; | mgi_id &lt;chr&gt; | mgi_symbol &lt;chr&gt; |\n",
       "|---|---|---|---|---|---|---|---|\n",
       "| 5  | 122296341 | 122313336 |  1 | ENSMUSG00000004455 |     19047 | MGI:104872  | Ppp1cc  |\n",
       "| 5  | 122296341 | 122313336 |  1 | ENSMUSG00000004455 |    434233 | MGI:104872  | Ppp1cc  |\n",
       "| 16 |  37467532 |  37474815 | -1 | ENSMUSG00000022820 | 100041273 | MGI:1915444 | Ndufb4  |\n",
       "| 16 |  37467532 |  37474815 | -1 | ENSMUSG00000022820 | 100042503 | MGI:1915444 | Ndufb4  |\n",
       "| 16 |  37467532 |  37474815 | -1 | ENSMUSG00000022820 |     68194 | MGI:1915444 | Ndufb4  |\n",
       "| 18 |  80249980 |  80255956 |  1 | ENSMUSG00000024571 | 117903916 | MGI:3833940 | Gm16286 |\n",
       "| 18 |  80249980 |  80255956 |  1 | ENSMUSG00000024571 |     27366 | MGI:3833940 | Gm16286 |\n",
       "| 7  | 103475741 | 103477303 | -1 | ENSMUSG00000052305 | 100503605 | MGI:5474852 | Hbb-bs  |\n",
       "| 7  | 103475741 | 103477303 | -1 | ENSMUSG00000052305 |     15129 | MGI:5474852 | Hbb-bs  |\n",
       "| 14 |  44194526 |  44200529 |  1 | ENSMUSG00000053961 |     11730 | MGI:3528599 | Ang5    |\n",
       "| 14 |  44194526 |  44200529 |  1 | ENSMUSG00000053961 |    503844 | MGI:3528599 | Ang5    |\n",
       "| 17 |  35658131 |  35662749 |  1 | ENSMUSG00000060550 |    110558 | MGI:95936   | H2-Q7   |\n",
       "| 17 |  35658131 |  35662749 |  1 | ENSMUSG00000060550 |     15018 | MGI:95936   | H2-Q7   |\n",
       "| 3  | 130520480 | 130524047 | -1 | ENSMUSG00000062006 |    619547 | MGI:1915686 | Rpl34   |\n",
       "| 3  | 130520480 | 130524047 | -1 | ENSMUSG00000062006 |     68436 | MGI:1915686 | Rpl34   |\n",
       "| 7  |  44465811 |  44490233 |  1 | ENSMUSG00000074141 | 100328588 | MGI:109552  | Il4i1   |\n",
       "| 7  |  44465811 |  44490233 |  1 | ENSMUSG00000074141 |     14204 | MGI:109552  | Il4i1   |\n",
       "| 13 | 100787487 | 100802867 |  1 | ENSMUSG00000078941 | 102216272 | MGI:5510732 | Ak6     |\n",
       "| 13 | 100787487 | 100802867 |  1 | ENSMUSG00000078941 |    108143 | MGI:5510732 | Ak6     |\n",
       "\n"
      ],
      "text/plain": [
       "   chromosome_name start_position end_position strand ensembl_gene_id   \n",
       "1  5               122296341      122313336     1     ENSMUSG00000004455\n",
       "2  5               122296341      122313336     1     ENSMUSG00000004455\n",
       "3  16               37467532       37474815    -1     ENSMUSG00000022820\n",
       "4  16               37467532       37474815    -1     ENSMUSG00000022820\n",
       "5  16               37467532       37474815    -1     ENSMUSG00000022820\n",
       "6  18               80249980       80255956     1     ENSMUSG00000024571\n",
       "7  18               80249980       80255956     1     ENSMUSG00000024571\n",
       "8  7               103475741      103477303    -1     ENSMUSG00000052305\n",
       "9  7               103475741      103477303    -1     ENSMUSG00000052305\n",
       "10 14               44194526       44200529     1     ENSMUSG00000053961\n",
       "11 14               44194526       44200529     1     ENSMUSG00000053961\n",
       "12 17               35658131       35662749     1     ENSMUSG00000060550\n",
       "13 17               35658131       35662749     1     ENSMUSG00000060550\n",
       "14 3               130520480      130524047    -1     ENSMUSG00000062006\n",
       "15 3               130520480      130524047    -1     ENSMUSG00000062006\n",
       "16 7                44465811       44490233     1     ENSMUSG00000074141\n",
       "17 7                44465811       44490233     1     ENSMUSG00000074141\n",
       "18 13              100787487      100802867     1     ENSMUSG00000078941\n",
       "19 13              100787487      100802867     1     ENSMUSG00000078941\n",
       "   entrezgene_id mgi_id      mgi_symbol\n",
       "1      19047     MGI:104872  Ppp1cc    \n",
       "2     434233     MGI:104872  Ppp1cc    \n",
       "3  100041273     MGI:1915444 Ndufb4    \n",
       "4  100042503     MGI:1915444 Ndufb4    \n",
       "5      68194     MGI:1915444 Ndufb4    \n",
       "6  117903916     MGI:3833940 Gm16286   \n",
       "7      27366     MGI:3833940 Gm16286   \n",
       "8  100503605     MGI:5474852 Hbb-bs    \n",
       "9      15129     MGI:5474852 Hbb-bs    \n",
       "10     11730     MGI:3528599 Ang5      \n",
       "11    503844     MGI:3528599 Ang5      \n",
       "12    110558     MGI:95936   H2-Q7     \n",
       "13     15018     MGI:95936   H2-Q7     \n",
       "14    619547     MGI:1915686 Rpl34     \n",
       "15     68436     MGI:1915686 Rpl34     \n",
       "16 100328588     MGI:109552  Il4i1     \n",
       "17     14204     MGI:109552  Il4i1     \n",
       "18 102216272     MGI:5510732 Ak6       \n",
       "19    108143     MGI:5510732 Ak6       "
      ]
     },
     "metadata": {},
     "output_type": "display_data"
    }
   ],
   "source": [
    "pathwayids %>% dplyr::group_by(ensembl_gene_id) %>% dplyr::filter(n()>1) %>% arrange(ensembl_gene_id)"
   ]
  },
  {
   "cell_type": "code",
   "execution_count": 18,
   "id": "5cf28718",
   "metadata": {},
   "outputs": [
    {
     "data": {
      "text/html": [
       "<table class=\"dataframe\">\n",
       "<caption>A data.frame: 3 × 4</caption>\n",
       "<thead>\n",
       "\t<tr><th scope=col>ensembl_gene_id</th><th scope=col>entrezgene_id</th><th scope=col>mgi_id</th><th scope=col>mgi_symbol</th></tr>\n",
       "\t<tr><th scope=col>&lt;chr&gt;</th><th scope=col>&lt;int&gt;</th><th scope=col>&lt;chr&gt;</th><th scope=col>&lt;chr&gt;</th></tr>\n",
       "</thead>\n",
       "<tbody>\n",
       "\t<tr><td>ENSMUSG00000004455</td><td> 19047</td><td>MGI:104872 </td><td>Ppp1cc </td></tr>\n",
       "\t<tr><td>ENSMUSG00000100153</td><td>434233</td><td>MGI:3647492</td><td>Ppp1ccb</td></tr>\n",
       "\t<tr><td>ENSMUSG00000004455</td><td>434233</td><td>MGI:104872 </td><td>Ppp1cc </td></tr>\n",
       "</tbody>\n",
       "</table>\n"
      ],
      "text/latex": [
       "A data.frame: 3 × 4\n",
       "\\begin{tabular}{llll}\n",
       " ensembl\\_gene\\_id & entrezgene\\_id & mgi\\_id & mgi\\_symbol\\\\\n",
       " <chr> & <int> & <chr> & <chr>\\\\\n",
       "\\hline\n",
       "\t ENSMUSG00000004455 &  19047 & MGI:104872  & Ppp1cc \\\\\n",
       "\t ENSMUSG00000100153 & 434233 & MGI:3647492 & Ppp1ccb\\\\\n",
       "\t ENSMUSG00000004455 & 434233 & MGI:104872  & Ppp1cc \\\\\n",
       "\\end{tabular}\n"
      ],
      "text/markdown": [
       "\n",
       "A data.frame: 3 × 4\n",
       "\n",
       "| ensembl_gene_id &lt;chr&gt; | entrezgene_id &lt;int&gt; | mgi_id &lt;chr&gt; | mgi_symbol &lt;chr&gt; |\n",
       "|---|---|---|---|\n",
       "| ENSMUSG00000004455 |  19047 | MGI:104872  | Ppp1cc  |\n",
       "| ENSMUSG00000100153 | 434233 | MGI:3647492 | Ppp1ccb |\n",
       "| ENSMUSG00000004455 | 434233 | MGI:104872  | Ppp1cc  |\n",
       "\n"
      ],
      "text/plain": [
       "  ensembl_gene_id    entrezgene_id mgi_id      mgi_symbol\n",
       "1 ENSMUSG00000004455  19047        MGI:104872  Ppp1cc    \n",
       "2 ENSMUSG00000100153 434233        MGI:3647492 Ppp1ccb   \n",
       "3 ENSMUSG00000004455 434233        MGI:104872  Ppp1cc    "
      ]
     },
     "metadata": {},
     "output_type": "display_data"
    }
   ],
   "source": [
    "## \n",
    "biomaRt::getBM(\n",
    "    filters = \"entrezgene_id\",\n",
    "    attributes=c(\"ensembl_gene_id\", \"entrezgene_id\",\"mgi_id\", \"mgi_symbol\"),\n",
    "    values=c(19047,434233),\n",
    "    mart=mymart\n",
    ")          "
   ]
  },
  {
   "cell_type": "code",
   "execution_count": 19,
   "id": "bd668066",
   "metadata": {},
   "outputs": [
    {
     "data": {
      "text/html": [
       "<table class=\"dataframe\">\n",
       "<caption>A data.frame: 4 × 4</caption>\n",
       "<thead>\n",
       "\t<tr><th scope=col>ensembl_gene_id</th><th scope=col>entrezgene_id</th><th scope=col>mgi_id</th><th scope=col>mgi_symbol</th></tr>\n",
       "\t<tr><th scope=col>&lt;chr&gt;</th><th scope=col>&lt;int&gt;</th><th scope=col>&lt;chr&gt;</th><th scope=col>&lt;chr&gt;</th></tr>\n",
       "</thead>\n",
       "<tbody>\n",
       "\t<tr><td>ENSMUSG00000022820</td><td>100041273</td><td>MGI:1915444</td><td>Ndufb4 </td></tr>\n",
       "\t<tr><td>ENSMUSG00000083380</td><td>100041273</td><td>MGI:3781422</td><td>Ndufb4c</td></tr>\n",
       "\t<tr><td>ENSMUSG00000022820</td><td>100042503</td><td>MGI:1915444</td><td>Ndufb4 </td></tr>\n",
       "\t<tr><td>ENSMUSG00000022820</td><td>    68194</td><td>MGI:1915444</td><td>Ndufb4 </td></tr>\n",
       "</tbody>\n",
       "</table>\n"
      ],
      "text/latex": [
       "A data.frame: 4 × 4\n",
       "\\begin{tabular}{llll}\n",
       " ensembl\\_gene\\_id & entrezgene\\_id & mgi\\_id & mgi\\_symbol\\\\\n",
       " <chr> & <int> & <chr> & <chr>\\\\\n",
       "\\hline\n",
       "\t ENSMUSG00000022820 & 100041273 & MGI:1915444 & Ndufb4 \\\\\n",
       "\t ENSMUSG00000083380 & 100041273 & MGI:3781422 & Ndufb4c\\\\\n",
       "\t ENSMUSG00000022820 & 100042503 & MGI:1915444 & Ndufb4 \\\\\n",
       "\t ENSMUSG00000022820 &     68194 & MGI:1915444 & Ndufb4 \\\\\n",
       "\\end{tabular}\n"
      ],
      "text/markdown": [
       "\n",
       "A data.frame: 4 × 4\n",
       "\n",
       "| ensembl_gene_id &lt;chr&gt; | entrezgene_id &lt;int&gt; | mgi_id &lt;chr&gt; | mgi_symbol &lt;chr&gt; |\n",
       "|---|---|---|---|\n",
       "| ENSMUSG00000022820 | 100041273 | MGI:1915444 | Ndufb4  |\n",
       "| ENSMUSG00000083380 | 100041273 | MGI:3781422 | Ndufb4c |\n",
       "| ENSMUSG00000022820 | 100042503 | MGI:1915444 | Ndufb4  |\n",
       "| ENSMUSG00000022820 |     68194 | MGI:1915444 | Ndufb4  |\n",
       "\n"
      ],
      "text/plain": [
       "  ensembl_gene_id    entrezgene_id mgi_id      mgi_symbol\n",
       "1 ENSMUSG00000022820 100041273     MGI:1915444 Ndufb4    \n",
       "2 ENSMUSG00000083380 100041273     MGI:3781422 Ndufb4c   \n",
       "3 ENSMUSG00000022820 100042503     MGI:1915444 Ndufb4    \n",
       "4 ENSMUSG00000022820     68194     MGI:1915444 Ndufb4    "
      ]
     },
     "metadata": {},
     "output_type": "display_data"
    }
   ],
   "source": [
    "## \n",
    "biomaRt::getBM(\n",
    "    filters = \"entrezgene_id\",\n",
    "    attributes=c(\"ensembl_gene_id\", \"entrezgene_id\",\"mgi_id\", \"mgi_symbol\"),\n",
    "    values=c(100041273, 100042503, 68194),\n",
    "    mart=mymart\n",
    ")          "
   ]
  },
  {
   "cell_type": "code",
   "execution_count": 20,
   "id": "83d8c73f",
   "metadata": {},
   "outputs": [
    {
     "data": {
      "text/html": [
       "56066"
      ],
      "text/latex": [
       "56066"
      ],
      "text/markdown": [
       "56066"
      ],
      "text/plain": [
       "[1] 56066"
      ]
     },
     "metadata": {},
     "output_type": "display_data"
    },
    {
     "data": {
      "text/html": [
       "<table class=\"dataframe\">\n",
       "<caption>A data.frame: 0 × 4</caption>\n",
       "<thead>\n",
       "\t<tr><th scope=col>ensembl_gene_id</th><th scope=col>entrezgene_id</th><th scope=col>mgi_id</th><th scope=col>mgi_symbol</th></tr>\n",
       "\t<tr><th scope=col>&lt;lgl&gt;</th><th scope=col>&lt;lgl&gt;</th><th scope=col>&lt;lgl&gt;</th><th scope=col>&lt;lgl&gt;</th></tr>\n",
       "</thead>\n",
       "<tbody>\n",
       "</tbody>\n",
       "</table>\n"
      ],
      "text/latex": [
       "A data.frame: 0 × 4\n",
       "\\begin{tabular}{llll}\n",
       " ensembl\\_gene\\_id & entrezgene\\_id & mgi\\_id & mgi\\_symbol\\\\\n",
       " <lgl> & <lgl> & <lgl> & <lgl>\\\\\n",
       "\\hline\n",
       "\\end{tabular}\n"
      ],
      "text/markdown": [
       "\n",
       "A data.frame: 0 × 4\n",
       "\n",
       "| ensembl_gene_id &lt;lgl&gt; | entrezgene_id &lt;lgl&gt; | mgi_id &lt;lgl&gt; | mgi_symbol &lt;lgl&gt; |\n",
       "|---|---|---|---|\n",
       "\n"
      ],
      "text/plain": [
       "     ensembl_gene_id entrezgene_id mgi_id mgi_symbol"
      ]
     },
     "metadata": {},
     "output_type": "display_data"
    }
   ],
   "source": [
    "56066\n",
    "\n",
    "biomaRt::getBM(\n",
    "    filters = \"entrezgene_id\",\n",
    "    attributes=c(\"ensembl_gene_id\", \"entrezgene_id\",\"mgi_id\", \"mgi_symbol\"),\n",
    "    values=c(56066),\n",
    "    mart=mymart\n",
    ") "
   ]
  },
  {
   "cell_type": "markdown",
   "id": "758409e5",
   "metadata": {},
   "source": [
    "## Import ensembl ids from study data"
   ]
  },
  {
   "cell_type": "code",
   "execution_count": 21,
   "id": "7dfbbb30",
   "metadata": {},
   "outputs": [
    {
     "data": {
      "text/html": [
       "<table class=\"dataframe\">\n",
       "<caption>A data.frame: 5 × 2</caption>\n",
       "<thead>\n",
       "\t<tr><th></th><th scope=col>name</th><th scope=col>description</th></tr>\n",
       "\t<tr><th></th><th scope=col>&lt;chr&gt;</th><th scope=col>&lt;chr&gt;</th></tr>\n",
       "</thead>\n",
       "<tbody>\n",
       "\t<tr><th scope=row>11</th><td>with_entrezgene_trans_name</td><td>With EntrezGene transcript name ID(s)                            </td></tr>\n",
       "\t<tr><th scope=row>25</th><td>with_entrezgene           </td><td>With NCBI gene (formerly Entrezgene) ID(s)                       </td></tr>\n",
       "\t<tr><th scope=row>60</th><td>entrezgene_trans_name     </td><td>EntrezGene transcript name ID(s) [e.g. 4930471M09Rik-201]        </td></tr>\n",
       "\t<tr><th scope=row>77</th><td>entrezgene_accession      </td><td>NCBI gene (formerly Entrezgene) accession(s) [e.g. 0610005C13Rik]</td></tr>\n",
       "\t<tr><th scope=row>78</th><td>entrezgene_id             </td><td>NCBI gene (formerly Entrezgene) ID(s) [e.g. 100009600]           </td></tr>\n",
       "</tbody>\n",
       "</table>\n"
      ],
      "text/latex": [
       "A data.frame: 5 × 2\n",
       "\\begin{tabular}{r|ll}\n",
       "  & name & description\\\\\n",
       "  & <chr> & <chr>\\\\\n",
       "\\hline\n",
       "\t11 & with\\_entrezgene\\_trans\\_name & With EntrezGene transcript name ID(s)                            \\\\\n",
       "\t25 & with\\_entrezgene            & With NCBI gene (formerly Entrezgene) ID(s)                       \\\\\n",
       "\t60 & entrezgene\\_trans\\_name      & EntrezGene transcript name ID(s) {[}e.g. 4930471M09Rik-201{]}        \\\\\n",
       "\t77 & entrezgene\\_accession       & NCBI gene (formerly Entrezgene) accession(s) {[}e.g. 0610005C13Rik{]}\\\\\n",
       "\t78 & entrezgene\\_id              & NCBI gene (formerly Entrezgene) ID(s) {[}e.g. 100009600{]}           \\\\\n",
       "\\end{tabular}\n"
      ],
      "text/markdown": [
       "\n",
       "A data.frame: 5 × 2\n",
       "\n",
       "| <!--/--> | name &lt;chr&gt; | description &lt;chr&gt; |\n",
       "|---|---|---|\n",
       "| 11 | with_entrezgene_trans_name | With EntrezGene transcript name ID(s)                             |\n",
       "| 25 | with_entrezgene            | With NCBI gene (formerly Entrezgene) ID(s)                        |\n",
       "| 60 | entrezgene_trans_name      | EntrezGene transcript name ID(s) [e.g. 4930471M09Rik-201]         |\n",
       "| 77 | entrezgene_accession       | NCBI gene (formerly Entrezgene) accession(s) [e.g. 0610005C13Rik] |\n",
       "| 78 | entrezgene_id              | NCBI gene (formerly Entrezgene) ID(s) [e.g. 100009600]            |\n",
       "\n"
      ],
      "text/plain": [
       "   name                      \n",
       "11 with_entrezgene_trans_name\n",
       "25 with_entrezgene           \n",
       "60 entrezgene_trans_name     \n",
       "77 entrezgene_accession      \n",
       "78 entrezgene_id             \n",
       "   description                                                      \n",
       "11 With EntrezGene transcript name ID(s)                            \n",
       "25 With NCBI gene (formerly Entrezgene) ID(s)                       \n",
       "60 EntrezGene transcript name ID(s) [e.g. 4930471M09Rik-201]        \n",
       "77 NCBI gene (formerly Entrezgene) accession(s) [e.g. 0610005C13Rik]\n",
       "78 NCBI gene (formerly Entrezgene) ID(s) [e.g. 100009600]           "
      ]
     },
     "metadata": {},
     "output_type": "display_data"
    }
   ],
   "source": [
    "listFilters(mymart)[grep(\"entrez\",listFilters(mymart)[,1]),]"
   ]
  },
  {
   "cell_type": "markdown",
   "id": "d696d2d4",
   "metadata": {},
   "source": [
    "## Query annotation data from MGI (http://www.informatics.jax.org)"
   ]
  },
  {
   "cell_type": "code",
   "execution_count": 22,
   "id": "ac53ecba",
   "metadata": {},
   "outputs": [
    {
     "data": {
      "text/html": [
       "'ccccccccccccccc'"
      ],
      "text/latex": [
       "'ccccccccccccccc'"
      ],
      "text/markdown": [
       "'ccccccccccccccc'"
      ],
      "text/plain": [
       "[1] \"ccccccccccccccc\""
      ]
     },
     "metadata": {},
     "output_type": "display_data"
    }
   ],
   "source": [
    "paste0(rep(\"c\",15), collapse = \"\")"
   ]
  },
  {
   "cell_type": "code",
   "execution_count": 23,
   "id": "f11232fb",
   "metadata": {},
   "outputs": [
    {
     "name": "stderr",
     "output_type": "stream",
     "text": [
      "\n",
      "\u001b[36m──\u001b[39m \u001b[1m\u001b[1mColumn specification\u001b[1m\u001b[22m \u001b[36m────────────────────────────────────────────────────────\u001b[39m\n",
      "cols(\n",
      "  `1. MGI accession id` = \u001b[31mcol_character()\u001b[39m,\n",
      "  `2. marker type` = \u001b[31mcol_character()\u001b[39m,\n",
      "  `3. marker symbol` = \u001b[31mcol_character()\u001b[39m,\n",
      "  `4. marker name` = \u001b[31mcol_character()\u001b[39m,\n",
      "  `5. genome build` = \u001b[31mcol_character()\u001b[39m,\n",
      "  `6. Entrez gene id` = \u001b[31mcol_character()\u001b[39m,\n",
      "  `7. NCBI gene chromosome` = \u001b[31mcol_character()\u001b[39m,\n",
      "  `8. NCBI gene start` = \u001b[31mcol_character()\u001b[39m,\n",
      "  `9. NCBI gene end` = \u001b[31mcol_character()\u001b[39m,\n",
      "  `10. NCBI gene strand` = \u001b[31mcol_character()\u001b[39m,\n",
      "  `11. Ensembl gene id` = \u001b[31mcol_character()\u001b[39m,\n",
      "  `12. Ensembl gene chromosome` = \u001b[31mcol_character()\u001b[39m,\n",
      "  `13. Ensembl gene start` = \u001b[31mcol_character()\u001b[39m,\n",
      "  `14. Ensembl gene end` = \u001b[31mcol_character()\u001b[39m,\n",
      "  `15. Ensembl gene strand` = \u001b[31mcol_character()\u001b[39m\n",
      ")\n",
      "\n",
      "\n",
      "Warning message:\n",
      "“62369 parsing failures.\n",
      "row col   expected     actual                                                                        file\n",
      "  1  -- 15 columns 16 columns 'http://www.informatics.jax.org/downloads/reports/MGI_Gene_Model_Coord.rpt'\n",
      "  2  -- 15 columns 16 columns 'http://www.informatics.jax.org/downloads/reports/MGI_Gene_Model_Coord.rpt'\n",
      "  3  -- 15 columns 16 columns 'http://www.informatics.jax.org/downloads/reports/MGI_Gene_Model_Coord.rpt'\n",
      "  4  -- 15 columns 16 columns 'http://www.informatics.jax.org/downloads/reports/MGI_Gene_Model_Coord.rpt'\n",
      "  5  -- 15 columns 16 columns 'http://www.informatics.jax.org/downloads/reports/MGI_Gene_Model_Coord.rpt'\n",
      "... ... .......... .......... ...........................................................................\n",
      "See problems(...) for more details.\n",
      "”\n"
     ]
    }
   ],
   "source": [
    "mgifile <- \"http://www.informatics.jax.org/downloads/reports/MGI_Gene_Model_Coord.rpt\"\n",
    "\n",
    "readr::read_tsv(mgifile) -> mgidat"
   ]
  },
  {
   "cell_type": "code",
   "execution_count": 25,
   "id": "d0c8ce49",
   "metadata": {},
   "outputs": [
    {
     "data": {
      "text/html": [
       "<table class=\"dataframe\">\n",
       "<caption>A spec_tbl_df: 62369 × 15</caption>\n",
       "<thead>\n",
       "\t<tr><th scope=col>1. MGI accession id</th><th scope=col>2. marker type</th><th scope=col>3. marker symbol</th><th scope=col>4. marker name</th><th scope=col>5. genome build</th><th scope=col>6. Entrez gene id</th><th scope=col>7. NCBI gene chromosome</th><th scope=col>8. NCBI gene start</th><th scope=col>9. NCBI gene end</th><th scope=col>10. NCBI gene strand</th><th scope=col>11. Ensembl gene id</th><th scope=col>12. Ensembl gene chromosome</th><th scope=col>13. Ensembl gene start</th><th scope=col>14. Ensembl gene end</th><th scope=col>15. Ensembl gene strand</th></tr>\n",
       "\t<tr><th scope=col>&lt;chr&gt;</th><th scope=col>&lt;chr&gt;</th><th scope=col>&lt;chr&gt;</th><th scope=col>&lt;chr&gt;</th><th scope=col>&lt;chr&gt;</th><th scope=col>&lt;chr&gt;</th><th scope=col>&lt;chr&gt;</th><th scope=col>&lt;chr&gt;</th><th scope=col>&lt;chr&gt;</th><th scope=col>&lt;chr&gt;</th><th scope=col>&lt;chr&gt;</th><th scope=col>&lt;chr&gt;</th><th scope=col>&lt;chr&gt;</th><th scope=col>&lt;chr&gt;</th><th scope=col>&lt;chr&gt;</th></tr>\n",
       "</thead>\n",
       "<tbody>\n",
       "\t<tr><td>MGI:87853</td><td>Gene</td><td>a       </td><td>nonagouti                                                                 </td><td>GRCm39</td><td>50518 </td><td>2 </td><td>154792519</td><td>154892932</td><td>+</td><td>ENSMUSG00000027596</td><td>2 </td><td>154633322</td><td>154892932</td><td>+</td></tr>\n",
       "\t<tr><td>MGI:87854</td><td>Gene</td><td>Pzp     </td><td>PZP, alpha-2-macroglobulin like                                           </td><td>GRCm39</td><td>11287 </td><td>6 </td><td>128460530</td><td>128503683</td><td>-</td><td>ENSMUSG00000030359</td><td>6 </td><td>128460530</td><td>128503683</td><td>-</td></tr>\n",
       "\t<tr><td>MGI:87859</td><td>Gene</td><td>Abl1    </td><td>c-abl oncogene 1, non-receptor tyrosine kinase                            </td><td>GRCm39</td><td>11350 </td><td>2 </td><td>31578256 </td><td>31697105 </td><td>+</td><td>ENSMUSG00000026842</td><td>2 </td><td>31578388 </td><td>31694239 </td><td>+</td></tr>\n",
       "\t<tr><td>MGI:87860</td><td>Gene</td><td>Abl2    </td><td>v-abl Abelson murine leukemia viral oncogene 2 (arg, Abelson-related gene)</td><td>GRCm39</td><td>11352 </td><td>1 </td><td>156386160</td><td>156477189</td><td>+</td><td>ENSMUSG00000026596</td><td>1 </td><td>156386356</td><td>156477138</td><td>+</td></tr>\n",
       "\t<tr><td>MGI:87862</td><td>Gene</td><td>Scgb1b27</td><td>secretoglobin, family 1B, member 27                                       </td><td>GRCm39</td><td>11354 </td><td>7 </td><td>33720906 </td><td>33722306 </td><td>+</td><td>ENSMUSG00000066583</td><td>7 </td><td>33720908 </td><td>33722306 </td><td>+</td></tr>\n",
       "\t<tr><td>MGI:87863</td><td>Gene</td><td>Scgb2b27</td><td>secretoglobin, family 2B, member 27                                       </td><td>GRCm39</td><td>233099</td><td>7 </td><td>33711344 </td><td>33713367 </td><td>-</td><td>ENSMUSG00000066584</td><td>7 </td><td>33711346 </td><td>33713367 </td><td>-</td></tr>\n",
       "\t<tr><td>MGI:87864</td><td>Gene</td><td>Scgb2b26</td><td>secretoglobin, family 2B, member 26                                       </td><td>GRCm39</td><td>110187</td><td>7 </td><td>33642422 </td><td>33644410 </td><td>-</td><td>ENSMUSG00000066586</td><td>7 </td><td>33642427 </td><td>33644465 </td><td>-</td></tr>\n",
       "\t<tr><td>MGI:87866</td><td>Gene</td><td>Acadl   </td><td>acyl-Coenzyme A dehydrogenase, long-chain                                 </td><td>GRCm39</td><td>11363 </td><td>1 </td><td>66869998 </td><td>66902468 </td><td>-</td><td>ENSMUSG00000026003</td><td>1 </td><td>66869998 </td><td>66902436 </td><td>-</td></tr>\n",
       "\t<tr><td>MGI:87867</td><td>Gene</td><td>Acadm   </td><td>acyl-Coenzyme A dehydrogenase, medium chain                               </td><td>GRCm39</td><td>11364 </td><td>3 </td><td>153627990</td><td>153650280</td><td>-</td><td>ENSMUSG00000062908</td><td>3 </td><td>153627994</td><td>153650269</td><td>-</td></tr>\n",
       "\t<tr><td>MGI:87868</td><td>Gene</td><td>Acads   </td><td>acyl-Coenzyme A dehydrogenase, short chain                                </td><td>GRCm39</td><td>11409 </td><td>5 </td><td>115248358</td><td>115257405</td><td>-</td><td>ENSMUSG00000029545</td><td>5 </td><td>115248358</td><td>115257405</td><td>-</td></tr>\n",
       "\t<tr><td>MGI:87870</td><td>Gene</td><td>Acat1   </td><td>acetyl-Coenzyme A acetyltransferase 1                                     </td><td>GRCm39</td><td>110446</td><td>9 </td><td>53491822 </td><td>53521650 </td><td>-</td><td>ENSMUSG00000032047</td><td>9 </td><td>53491822 </td><td>53521682 </td><td>-</td></tr>\n",
       "\t<tr><td>MGI:87871</td><td>Gene</td><td>Acat2   </td><td>acetyl-Coenzyme A acetyltransferase 2                                     </td><td>GRCm39</td><td>110460</td><td>17</td><td>13161929 </td><td>13179612 </td><td>-</td><td>ENSMUSG00000023832</td><td>17</td><td>13161777 </td><td>13179634 </td><td>-</td></tr>\n",
       "\t<tr><td>MGI:87873</td><td>Gene</td><td>Acd     </td><td>adrenocortical dysplasia                                                  </td><td>GRCm39</td><td>497652</td><td>8 </td><td>106424787</td><td>106427860</td><td>-</td><td>ENSMUSG00000038000</td><td>8 </td><td>106422492</td><td>106427734</td><td>-</td></tr>\n",
       "\t<tr><td>MGI:87874</td><td>Gene</td><td>Ace     </td><td>angiotensin I converting enzyme (peptidyl-dipeptidase A) 1                </td><td>GRCm39</td><td>11421 </td><td>11</td><td>105858774</td><td>105880790</td><td>+</td><td>ENSMUSG00000020681</td><td>11</td><td>105858771</td><td>105880790</td><td>+</td></tr>\n",
       "\t<tr><td>MGI:87876</td><td>Gene</td><td>Ache    </td><td>acetylcholinesterase                                                      </td><td>GRCm39</td><td>11423 </td><td>5 </td><td>137286516</td><td>137292728</td><td>+</td><td>ENSMUSG00000023328</td><td>5 </td><td>137285781</td><td>137292728</td><td>+</td></tr>\n",
       "\t<tr><td>MGI:87878</td><td>Gene</td><td>Apoc4   </td><td>apolipoprotein C-IV                                                       </td><td>GRCm39</td><td>11425 </td><td>7 </td><td>19412009 </td><td>19415385 </td><td>-</td><td>ENSMUSG00000074336</td><td>7 </td><td>19412008 </td><td>19415404 </td><td>-</td></tr>\n",
       "\t<tr><td>MGI:87879</td><td>Gene</td><td>Aco1    </td><td>aconitase 1                                                               </td><td>GRCm39</td><td>11428 </td><td>4 </td><td>40143265 </td><td>40199009 </td><td>+</td><td>ENSMUSG00000028405</td><td>4 </td><td>40143081 </td><td>40198338 </td><td>+</td></tr>\n",
       "\t<tr><td>MGI:87880</td><td>Gene</td><td>Aco2    </td><td>aconitase 2, mitochondrial                                                </td><td>GRCm39</td><td>11429 </td><td>15</td><td>81756664 </td><td>81799338 </td><td>+</td><td>ENSMUSG00000022477</td><td>15</td><td>81756510 </td><td>81799334 </td><td>+</td></tr>\n",
       "\t<tr><td>MGI:87881</td><td>Gene</td><td>Acp1    </td><td>acid phosphatase 1, soluble                                               </td><td>GRCm39</td><td>11431 </td><td>12</td><td>30943325 </td><td>30961616 </td><td>-</td><td>ENSMUSG00000044573</td><td>12</td><td>30943325 </td><td>30961588 </td><td>-</td></tr>\n",
       "\t<tr><td>MGI:87882</td><td>Gene</td><td>Acp2    </td><td>acid phosphatase 2, lysosomal                                             </td><td>GRCm39</td><td>11432 </td><td>2 </td><td>91033157 </td><td>91044443 </td><td>+</td><td>ENSMUSG00000002103</td><td>2 </td><td>91033230 </td><td>91044443 </td><td>+</td></tr>\n",
       "\t<tr><td>MGI:87883</td><td>Gene</td><td>Acp5    </td><td>acid phosphatase 5, tartrate resistant                                    </td><td>GRCm39</td><td>11433 </td><td>9 </td><td>22038023 </td><td>22047042 </td><td>-</td><td>ENSMUSG00000001348</td><td>9 </td><td>22038023 </td><td>22047007 </td><td>-</td></tr>\n",
       "\t<tr><td>MGI:87884</td><td>Gene</td><td>Acr     </td><td>acrosin prepropeptide                                                     </td><td>GRCm39</td><td>11434 </td><td>15</td><td>89452529 </td><td>89463056 </td><td>+</td><td>ENSMUSG00000022622</td><td>15</td><td>89452529 </td><td>89458788 </td><td>+</td></tr>\n",
       "\t<tr><td>MGI:87885</td><td>Gene</td><td>Chrna1  </td><td>cholinergic receptor, nicotinic, alpha polypeptide 1 (muscle)             </td><td>GRCm39</td><td>11435 </td><td>2 </td><td>73393625 </td><td>73410682 </td><td>-</td><td>ENSMUSG00000027107</td><td>2 </td><td>73393559 </td><td>73410682 </td><td>-</td></tr>\n",
       "\t<tr><td>MGI:87886</td><td>Gene</td><td>Chrna2  </td><td>cholinergic receptor, nicotinic, alpha polypeptide 2 (neuronal)           </td><td>GRCm39</td><td>110902</td><td>14</td><td>66370685 </td><td>66390397 </td><td>+</td><td>ENSMUSG00000022041</td><td>14</td><td>66372488 </td><td>66390397 </td><td>+</td></tr>\n",
       "\t<tr><td>MGI:87887</td><td>Gene</td><td>Chrna3  </td><td>cholinergic receptor, nicotinic, alpha polypeptide 3                      </td><td>GRCm39</td><td>110834</td><td>9 </td><td>54917401 </td><td>54933846 </td><td>-</td><td>ENSMUSG00000032303</td><td>9 </td><td>54917395 </td><td>54933846 </td><td>-</td></tr>\n",
       "\t<tr><td>MGI:87888</td><td>Gene</td><td>Chrna4  </td><td>cholinergic receptor, nicotinic, alpha polypeptide 4                      </td><td>GRCm39</td><td>11438 </td><td>2 </td><td>180664104</td><td>180685365</td><td>-</td><td>ENSMUSG00000027577</td><td>2 </td><td>180660173</td><td>180685339</td><td>-</td></tr>\n",
       "\t<tr><td>MGI:87889</td><td>Gene</td><td>Chrna5  </td><td>cholinergic receptor, nicotinic, alpha polypeptide 5                      </td><td>GRCm39</td><td>110835</td><td>9 </td><td>54888112 </td><td>54918704 </td><td>+</td><td>ENSMUSG00000035594</td><td>9 </td><td>54888164 </td><td>54915063 </td><td>+</td></tr>\n",
       "\t<tr><td>MGI:87890</td><td>Gene</td><td>Chrnb1  </td><td>cholinergic receptor, nicotinic, beta polypeptide 1 (muscle)              </td><td>GRCm39</td><td>11443 </td><td>11</td><td>69674862 </td><td>69686791 </td><td>-</td><td>ENSMUSG00000041189</td><td>11</td><td>69674862 </td><td>69686769 </td><td>-</td></tr>\n",
       "\t<tr><td>MGI:87891</td><td>Gene</td><td>Chrnb2  </td><td>cholinergic receptor, nicotinic, beta polypeptide 2 (neuronal)            </td><td>GRCm39</td><td>11444 </td><td>3 </td><td>89660755 </td><td>89671939 </td><td>-</td><td>ENSMUSG00000027950</td><td>3 </td><td>89653502 </td><td>89671939 </td><td>-</td></tr>\n",
       "\t<tr><td>MGI:87892</td><td>Gene</td><td>Chrnb4  </td><td>cholinergic receptor, nicotinic, beta polypeptide 4                       </td><td>GRCm39</td><td>108015</td><td>9 </td><td>54935438 </td><td>54956236 </td><td>-</td><td>ENSMUSG00000035200</td><td>9 </td><td>54935438 </td><td>54956063 </td><td>-</td></tr>\n",
       "\t<tr><td>⋮</td><td>⋮</td><td>⋮</td><td>⋮</td><td>⋮</td><td>⋮</td><td>⋮</td><td>⋮</td><td>⋮</td><td>⋮</td><td>⋮</td><td>⋮</td><td>⋮</td><td>⋮</td><td>⋮</td></tr>\n",
       "\t<tr><td>MGI:6468403</td><td>Gene</td><td>Gm50619</td><td>predicted gene, 50619                  </td><td>GRCm39</td><td>108168798</td><td>2 </td><td>138488164</td><td>138491046</td><td>+</td><td>null</td><td>null</td><td>null</td><td>null</td><td>null</td></tr>\n",
       "\t<tr><td>MGI:6468405</td><td>Gene</td><td>Gm50621</td><td>predicted gene, 50621                  </td><td>GRCm39</td><td>108168808</td><td>2 </td><td>155815195</td><td>155817591</td><td>-</td><td>null</td><td>null</td><td>null</td><td>null</td><td>null</td></tr>\n",
       "\t<tr><td>MGI:6468407</td><td>Gene</td><td>Gm50622</td><td>predicted gene, 50622                  </td><td>GRCm39</td><td>108168868</td><td>3 </td><td>51323804 </td><td>51330757 </td><td>+</td><td>null</td><td>null</td><td>null</td><td>null</td><td>null</td></tr>\n",
       "\t<tr><td>MGI:6468409</td><td>Gene</td><td>Gm50623</td><td>predicted gene, 50623                  </td><td>GRCm39</td><td>108168976</td><td>4 </td><td>123155511</td><td>123157151</td><td>+</td><td>null</td><td>null</td><td>null</td><td>null</td><td>null</td></tr>\n",
       "\t<tr><td>MGI:6468411</td><td>Gene</td><td>Gm50624</td><td>predicted gene, 50624                  </td><td>GRCm39</td><td>108169020</td><td>5 </td><td>3702884  </td><td>3707188  </td><td>-</td><td>null</td><td>null</td><td>null</td><td>null</td><td>null</td></tr>\n",
       "\t<tr><td>MGI:6468413</td><td>Gene</td><td>Gm50625</td><td>predicted gene, 50625                  </td><td>GRCm39</td><td>108169027</td><td>5 </td><td>11738948 </td><td>11797478 </td><td>-</td><td>null</td><td>null</td><td>null</td><td>null</td><td>null</td></tr>\n",
       "\t<tr><td>MGI:6468415</td><td>Gene</td><td>Gm50626</td><td>predicted gene, 50626                  </td><td>GRCm39</td><td>108169029</td><td>5 </td><td>21513458 </td><td>21520131 </td><td>+</td><td>null</td><td>null</td><td>null</td><td>null</td><td>null</td></tr>\n",
       "\t<tr><td>MGI:6468417</td><td>Gene</td><td>Gm50627</td><td>predicted gene, 50627                  </td><td>GRCm39</td><td>108169085</td><td>5 </td><td>148884577</td><td>148890006</td><td>-</td><td>null</td><td>null</td><td>null</td><td>null</td><td>null</td></tr>\n",
       "\t<tr><td>MGI:6468419</td><td>Gene</td><td>Gm50628</td><td>predicted gene, 50628                  </td><td>GRCm39</td><td>108169146</td><td>6 </td><td>57454753 </td><td>57461164 </td><td>+</td><td>null</td><td>null</td><td>null</td><td>null</td><td>null</td></tr>\n",
       "\t<tr><td>MGI:6468421</td><td>Gene</td><td>Gm50629</td><td>predicted gene, 50629                  </td><td>GRCm39</td><td>108169147</td><td>6 </td><td>65502319 </td><td>65554145 </td><td>+</td><td>null</td><td>null</td><td>null</td><td>null</td><td>null</td></tr>\n",
       "\t<tr><td>MGI:6468423</td><td>Gene</td><td>Gm50630</td><td>predicted gene, 50630                  </td><td>GRCm39</td><td>108169173</td><td>6 </td><td>135503541</td><td>135561258</td><td>+</td><td>null</td><td>null</td><td>null</td><td>null</td><td>null</td></tr>\n",
       "\t<tr><td>MGI:6468425</td><td>Gene</td><td>Gm51400</td><td>predicted gene, 51400                  </td><td>GRCm39</td><td>114841036</td><td>19</td><td>6954953  </td><td>6957808  </td><td>-</td><td>null</td><td>null</td><td>null</td><td>null</td><td>null</td></tr>\n",
       "\t<tr><td>MGI:6468427</td><td>Gene</td><td>Gm51402</td><td>predicted gene, 51402                  </td><td>GRCm39</td><td>115485727</td><td>10</td><td>42851756 </td><td>42862082 </td><td>-</td><td>null</td><td>null</td><td>null</td><td>null</td><td>null</td></tr>\n",
       "\t<tr><td>MGI:6468429</td><td>Gene</td><td>Gm51403</td><td>predicted gene, 51403                  </td><td>GRCm39</td><td>115485926</td><td>14</td><td>76977283 </td><td>76990500 </td><td>+</td><td>null</td><td>null</td><td>null</td><td>null</td><td>null</td></tr>\n",
       "\t<tr><td>MGI:6468431</td><td>Gene</td><td>Gm51404</td><td>predicted gene, 51404                  </td><td>GRCm39</td><td>115485928</td><td>14</td><td>79979760 </td><td>79992843 </td><td>+</td><td>null</td><td>null</td><td>null</td><td>null</td><td>null</td></tr>\n",
       "\t<tr><td>MGI:6468433</td><td>Gene</td><td>Gm51405</td><td>predicted gene, 51405                  </td><td>GRCm39</td><td>115486002</td><td>16</td><td>87711868 </td><td>87803243 </td><td>+</td><td>null</td><td>null</td><td>null</td><td>null</td><td>null</td></tr>\n",
       "\t<tr><td>MGI:6468435</td><td>Gene</td><td>Gm51406</td><td>predicted gene, 51406                  </td><td>GRCm39</td><td>115486180</td><td>3 </td><td>146506030</td><td>146518385</td><td>-</td><td>null</td><td>null</td><td>null</td><td>null</td><td>null</td></tr>\n",
       "\t<tr><td>MGI:6468437</td><td>Gene</td><td>Gm51408</td><td>predicted gene, 51408                  </td><td>GRCm39</td><td>115486327</td><td>6 </td><td>4795223  </td><td>4805994  </td><td>-</td><td>null</td><td>null</td><td>null</td><td>null</td><td>null</td></tr>\n",
       "\t<tr><td>MGI:6468439</td><td>Gene</td><td>Gm51409</td><td>predicted gene, 51409                  </td><td>GRCm39</td><td>115486328</td><td>6 </td><td>108766925</td><td>108789469</td><td>+</td><td>null</td><td>null</td><td>null</td><td>null</td><td>null</td></tr>\n",
       "\t<tr><td>MGI:6468441</td><td>Gene</td><td>Gm51410</td><td>predicted gene, 51410                  </td><td>GRCm39</td><td>115486406</td><td>5 </td><td>33450956 </td><td>33454817 </td><td>-</td><td>null</td><td>null</td><td>null</td><td>null</td><td>null</td></tr>\n",
       "\t<tr><td>MGI:6468443</td><td>Gene</td><td>Gm51519</td><td>predicted gene, 51519                  </td><td>GRCm39</td><td>115487996</td><td>12</td><td>87962273 </td><td>87962510 </td><td>-</td><td>null</td><td>null</td><td>null</td><td>null</td><td>null</td></tr>\n",
       "\t<tr><td>MGI:6468445</td><td>Gene</td><td>Gm51520</td><td>predicted gene, 51520                  </td><td>GRCm39</td><td>115488003</td><td>12</td><td>17993828 </td><td>17998241 </td><td>+</td><td>null</td><td>null</td><td>null</td><td>null</td><td>null</td></tr>\n",
       "\t<tr><td>MGI:6468447</td><td>Gene</td><td>Gm51522</td><td>predicted gene, 51522                  </td><td>GRCm39</td><td>115488029</td><td>12</td><td>19296215 </td><td>19298479 </td><td>+</td><td>null</td><td>null</td><td>null</td><td>null</td><td>null</td></tr>\n",
       "\t<tr><td>MGI:6468449</td><td>Gene</td><td>Gm51612</td><td>predicted gene, 51612                  </td><td>GRCm39</td><td>115489115</td><td>X </td><td>135115668</td><td>135116243</td><td>+</td><td>null</td><td>null</td><td>null</td><td>null</td><td>null</td></tr>\n",
       "\t<tr><td>MGI:6468451</td><td>Gene</td><td>Gm51613</td><td>predicted gene, 51613                  </td><td>GRCm39</td><td>115489130</td><td>X </td><td>37531550 </td><td>37545119 </td><td>-</td><td>null</td><td>null</td><td>null</td><td>null</td><td>null</td></tr>\n",
       "\t<tr><td>MGI:6468453</td><td>Gene</td><td>Gm51614</td><td>predicted gene, 51614                  </td><td>GRCm39</td><td>115489152</td><td>X </td><td>5726408  </td><td>5885035  </td><td>-</td><td>null</td><td>null</td><td>null</td><td>null</td><td>null</td></tr>\n",
       "\t<tr><td>MGI:6473275</td><td>Gene</td><td>Gm53172</td><td>predicted gene, 53172                  </td><td>GRCm39</td><td>102640059</td><td>14</td><td>31649997 </td><td>31665058 </td><td>+</td><td>null</td><td>null</td><td>null</td><td>null</td><td>null</td></tr>\n",
       "\t<tr><td>MGI:6508691</td><td>Gene</td><td>Gm53173</td><td>predicted gene, 53173                  </td><td>GRCm39</td><td>102633347</td><td>7 </td><td>83882210 </td><td>83916237 </td><td>+</td><td>null</td><td>null</td><td>null</td><td>null</td><td>null</td></tr>\n",
       "\t<tr><td>MGI:6508695</td><td>Gene</td><td>Gm53174</td><td>predicted gene, 53174                  </td><td>GRCm39</td><td>117997403</td><td>7 </td><td>83801348 </td><td>83916237 </td><td>+</td><td>null</td><td>null</td><td>null</td><td>null</td><td>null</td></tr>\n",
       "\t<tr><td>MGI:6695700</td><td>Gene</td><td>Mascrna</td><td>Malat1-associated small cytoplasmic RNA</td><td>GRCm39</td><td>109146451</td><td>19</td><td>5845952  </td><td>5846009  </td><td>-</td><td>null</td><td>null</td><td>null</td><td>null</td><td>null</td></tr>\n",
       "</tbody>\n",
       "</table>\n"
      ],
      "text/latex": [
       "A spec\\_tbl\\_df: 62369 × 15\n",
       "\\begin{tabular}{lllllllllllllll}\n",
       " 1. MGI accession id & 2. marker type & 3. marker symbol & 4. marker name & 5. genome build & 6. Entrez gene id & 7. NCBI gene chromosome & 8. NCBI gene start & 9. NCBI gene end & 10. NCBI gene strand & 11. Ensembl gene id & 12. Ensembl gene chromosome & 13. Ensembl gene start & 14. Ensembl gene end & 15. Ensembl gene strand\\\\\n",
       " <chr> & <chr> & <chr> & <chr> & <chr> & <chr> & <chr> & <chr> & <chr> & <chr> & <chr> & <chr> & <chr> & <chr> & <chr>\\\\\n",
       "\\hline\n",
       "\t MGI:87853 & Gene & a        & nonagouti                                                                  & GRCm39 & 50518  & 2  & 154792519 & 154892932 & + & ENSMUSG00000027596 & 2  & 154633322 & 154892932 & +\\\\\n",
       "\t MGI:87854 & Gene & Pzp      & PZP, alpha-2-macroglobulin like                                            & GRCm39 & 11287  & 6  & 128460530 & 128503683 & - & ENSMUSG00000030359 & 6  & 128460530 & 128503683 & -\\\\\n",
       "\t MGI:87859 & Gene & Abl1     & c-abl oncogene 1, non-receptor tyrosine kinase                             & GRCm39 & 11350  & 2  & 31578256  & 31697105  & + & ENSMUSG00000026842 & 2  & 31578388  & 31694239  & +\\\\\n",
       "\t MGI:87860 & Gene & Abl2     & v-abl Abelson murine leukemia viral oncogene 2 (arg, Abelson-related gene) & GRCm39 & 11352  & 1  & 156386160 & 156477189 & + & ENSMUSG00000026596 & 1  & 156386356 & 156477138 & +\\\\\n",
       "\t MGI:87862 & Gene & Scgb1b27 & secretoglobin, family 1B, member 27                                        & GRCm39 & 11354  & 7  & 33720906  & 33722306  & + & ENSMUSG00000066583 & 7  & 33720908  & 33722306  & +\\\\\n",
       "\t MGI:87863 & Gene & Scgb2b27 & secretoglobin, family 2B, member 27                                        & GRCm39 & 233099 & 7  & 33711344  & 33713367  & - & ENSMUSG00000066584 & 7  & 33711346  & 33713367  & -\\\\\n",
       "\t MGI:87864 & Gene & Scgb2b26 & secretoglobin, family 2B, member 26                                        & GRCm39 & 110187 & 7  & 33642422  & 33644410  & - & ENSMUSG00000066586 & 7  & 33642427  & 33644465  & -\\\\\n",
       "\t MGI:87866 & Gene & Acadl    & acyl-Coenzyme A dehydrogenase, long-chain                                  & GRCm39 & 11363  & 1  & 66869998  & 66902468  & - & ENSMUSG00000026003 & 1  & 66869998  & 66902436  & -\\\\\n",
       "\t MGI:87867 & Gene & Acadm    & acyl-Coenzyme A dehydrogenase, medium chain                                & GRCm39 & 11364  & 3  & 153627990 & 153650280 & - & ENSMUSG00000062908 & 3  & 153627994 & 153650269 & -\\\\\n",
       "\t MGI:87868 & Gene & Acads    & acyl-Coenzyme A dehydrogenase, short chain                                 & GRCm39 & 11409  & 5  & 115248358 & 115257405 & - & ENSMUSG00000029545 & 5  & 115248358 & 115257405 & -\\\\\n",
       "\t MGI:87870 & Gene & Acat1    & acetyl-Coenzyme A acetyltransferase 1                                      & GRCm39 & 110446 & 9  & 53491822  & 53521650  & - & ENSMUSG00000032047 & 9  & 53491822  & 53521682  & -\\\\\n",
       "\t MGI:87871 & Gene & Acat2    & acetyl-Coenzyme A acetyltransferase 2                                      & GRCm39 & 110460 & 17 & 13161929  & 13179612  & - & ENSMUSG00000023832 & 17 & 13161777  & 13179634  & -\\\\\n",
       "\t MGI:87873 & Gene & Acd      & adrenocortical dysplasia                                                   & GRCm39 & 497652 & 8  & 106424787 & 106427860 & - & ENSMUSG00000038000 & 8  & 106422492 & 106427734 & -\\\\\n",
       "\t MGI:87874 & Gene & Ace      & angiotensin I converting enzyme (peptidyl-dipeptidase A) 1                 & GRCm39 & 11421  & 11 & 105858774 & 105880790 & + & ENSMUSG00000020681 & 11 & 105858771 & 105880790 & +\\\\\n",
       "\t MGI:87876 & Gene & Ache     & acetylcholinesterase                                                       & GRCm39 & 11423  & 5  & 137286516 & 137292728 & + & ENSMUSG00000023328 & 5  & 137285781 & 137292728 & +\\\\\n",
       "\t MGI:87878 & Gene & Apoc4    & apolipoprotein C-IV                                                        & GRCm39 & 11425  & 7  & 19412009  & 19415385  & - & ENSMUSG00000074336 & 7  & 19412008  & 19415404  & -\\\\\n",
       "\t MGI:87879 & Gene & Aco1     & aconitase 1                                                                & GRCm39 & 11428  & 4  & 40143265  & 40199009  & + & ENSMUSG00000028405 & 4  & 40143081  & 40198338  & +\\\\\n",
       "\t MGI:87880 & Gene & Aco2     & aconitase 2, mitochondrial                                                 & GRCm39 & 11429  & 15 & 81756664  & 81799338  & + & ENSMUSG00000022477 & 15 & 81756510  & 81799334  & +\\\\\n",
       "\t MGI:87881 & Gene & Acp1     & acid phosphatase 1, soluble                                                & GRCm39 & 11431  & 12 & 30943325  & 30961616  & - & ENSMUSG00000044573 & 12 & 30943325  & 30961588  & -\\\\\n",
       "\t MGI:87882 & Gene & Acp2     & acid phosphatase 2, lysosomal                                              & GRCm39 & 11432  & 2  & 91033157  & 91044443  & + & ENSMUSG00000002103 & 2  & 91033230  & 91044443  & +\\\\\n",
       "\t MGI:87883 & Gene & Acp5     & acid phosphatase 5, tartrate resistant                                     & GRCm39 & 11433  & 9  & 22038023  & 22047042  & - & ENSMUSG00000001348 & 9  & 22038023  & 22047007  & -\\\\\n",
       "\t MGI:87884 & Gene & Acr      & acrosin prepropeptide                                                      & GRCm39 & 11434  & 15 & 89452529  & 89463056  & + & ENSMUSG00000022622 & 15 & 89452529  & 89458788  & +\\\\\n",
       "\t MGI:87885 & Gene & Chrna1   & cholinergic receptor, nicotinic, alpha polypeptide 1 (muscle)              & GRCm39 & 11435  & 2  & 73393625  & 73410682  & - & ENSMUSG00000027107 & 2  & 73393559  & 73410682  & -\\\\\n",
       "\t MGI:87886 & Gene & Chrna2   & cholinergic receptor, nicotinic, alpha polypeptide 2 (neuronal)            & GRCm39 & 110902 & 14 & 66370685  & 66390397  & + & ENSMUSG00000022041 & 14 & 66372488  & 66390397  & +\\\\\n",
       "\t MGI:87887 & Gene & Chrna3   & cholinergic receptor, nicotinic, alpha polypeptide 3                       & GRCm39 & 110834 & 9  & 54917401  & 54933846  & - & ENSMUSG00000032303 & 9  & 54917395  & 54933846  & -\\\\\n",
       "\t MGI:87888 & Gene & Chrna4   & cholinergic receptor, nicotinic, alpha polypeptide 4                       & GRCm39 & 11438  & 2  & 180664104 & 180685365 & - & ENSMUSG00000027577 & 2  & 180660173 & 180685339 & -\\\\\n",
       "\t MGI:87889 & Gene & Chrna5   & cholinergic receptor, nicotinic, alpha polypeptide 5                       & GRCm39 & 110835 & 9  & 54888112  & 54918704  & + & ENSMUSG00000035594 & 9  & 54888164  & 54915063  & +\\\\\n",
       "\t MGI:87890 & Gene & Chrnb1   & cholinergic receptor, nicotinic, beta polypeptide 1 (muscle)               & GRCm39 & 11443  & 11 & 69674862  & 69686791  & - & ENSMUSG00000041189 & 11 & 69674862  & 69686769  & -\\\\\n",
       "\t MGI:87891 & Gene & Chrnb2   & cholinergic receptor, nicotinic, beta polypeptide 2 (neuronal)             & GRCm39 & 11444  & 3  & 89660755  & 89671939  & - & ENSMUSG00000027950 & 3  & 89653502  & 89671939  & -\\\\\n",
       "\t MGI:87892 & Gene & Chrnb4   & cholinergic receptor, nicotinic, beta polypeptide 4                        & GRCm39 & 108015 & 9  & 54935438  & 54956236  & - & ENSMUSG00000035200 & 9  & 54935438  & 54956063  & -\\\\\n",
       "\t ⋮ & ⋮ & ⋮ & ⋮ & ⋮ & ⋮ & ⋮ & ⋮ & ⋮ & ⋮ & ⋮ & ⋮ & ⋮ & ⋮ & ⋮\\\\\n",
       "\t MGI:6468403 & Gene & Gm50619 & predicted gene, 50619                   & GRCm39 & 108168798 & 2  & 138488164 & 138491046 & + & null & null & null & null & null\\\\\n",
       "\t MGI:6468405 & Gene & Gm50621 & predicted gene, 50621                   & GRCm39 & 108168808 & 2  & 155815195 & 155817591 & - & null & null & null & null & null\\\\\n",
       "\t MGI:6468407 & Gene & Gm50622 & predicted gene, 50622                   & GRCm39 & 108168868 & 3  & 51323804  & 51330757  & + & null & null & null & null & null\\\\\n",
       "\t MGI:6468409 & Gene & Gm50623 & predicted gene, 50623                   & GRCm39 & 108168976 & 4  & 123155511 & 123157151 & + & null & null & null & null & null\\\\\n",
       "\t MGI:6468411 & Gene & Gm50624 & predicted gene, 50624                   & GRCm39 & 108169020 & 5  & 3702884   & 3707188   & - & null & null & null & null & null\\\\\n",
       "\t MGI:6468413 & Gene & Gm50625 & predicted gene, 50625                   & GRCm39 & 108169027 & 5  & 11738948  & 11797478  & - & null & null & null & null & null\\\\\n",
       "\t MGI:6468415 & Gene & Gm50626 & predicted gene, 50626                   & GRCm39 & 108169029 & 5  & 21513458  & 21520131  & + & null & null & null & null & null\\\\\n",
       "\t MGI:6468417 & Gene & Gm50627 & predicted gene, 50627                   & GRCm39 & 108169085 & 5  & 148884577 & 148890006 & - & null & null & null & null & null\\\\\n",
       "\t MGI:6468419 & Gene & Gm50628 & predicted gene, 50628                   & GRCm39 & 108169146 & 6  & 57454753  & 57461164  & + & null & null & null & null & null\\\\\n",
       "\t MGI:6468421 & Gene & Gm50629 & predicted gene, 50629                   & GRCm39 & 108169147 & 6  & 65502319  & 65554145  & + & null & null & null & null & null\\\\\n",
       "\t MGI:6468423 & Gene & Gm50630 & predicted gene, 50630                   & GRCm39 & 108169173 & 6  & 135503541 & 135561258 & + & null & null & null & null & null\\\\\n",
       "\t MGI:6468425 & Gene & Gm51400 & predicted gene, 51400                   & GRCm39 & 114841036 & 19 & 6954953   & 6957808   & - & null & null & null & null & null\\\\\n",
       "\t MGI:6468427 & Gene & Gm51402 & predicted gene, 51402                   & GRCm39 & 115485727 & 10 & 42851756  & 42862082  & - & null & null & null & null & null\\\\\n",
       "\t MGI:6468429 & Gene & Gm51403 & predicted gene, 51403                   & GRCm39 & 115485926 & 14 & 76977283  & 76990500  & + & null & null & null & null & null\\\\\n",
       "\t MGI:6468431 & Gene & Gm51404 & predicted gene, 51404                   & GRCm39 & 115485928 & 14 & 79979760  & 79992843  & + & null & null & null & null & null\\\\\n",
       "\t MGI:6468433 & Gene & Gm51405 & predicted gene, 51405                   & GRCm39 & 115486002 & 16 & 87711868  & 87803243  & + & null & null & null & null & null\\\\\n",
       "\t MGI:6468435 & Gene & Gm51406 & predicted gene, 51406                   & GRCm39 & 115486180 & 3  & 146506030 & 146518385 & - & null & null & null & null & null\\\\\n",
       "\t MGI:6468437 & Gene & Gm51408 & predicted gene, 51408                   & GRCm39 & 115486327 & 6  & 4795223   & 4805994   & - & null & null & null & null & null\\\\\n",
       "\t MGI:6468439 & Gene & Gm51409 & predicted gene, 51409                   & GRCm39 & 115486328 & 6  & 108766925 & 108789469 & + & null & null & null & null & null\\\\\n",
       "\t MGI:6468441 & Gene & Gm51410 & predicted gene, 51410                   & GRCm39 & 115486406 & 5  & 33450956  & 33454817  & - & null & null & null & null & null\\\\\n",
       "\t MGI:6468443 & Gene & Gm51519 & predicted gene, 51519                   & GRCm39 & 115487996 & 12 & 87962273  & 87962510  & - & null & null & null & null & null\\\\\n",
       "\t MGI:6468445 & Gene & Gm51520 & predicted gene, 51520                   & GRCm39 & 115488003 & 12 & 17993828  & 17998241  & + & null & null & null & null & null\\\\\n",
       "\t MGI:6468447 & Gene & Gm51522 & predicted gene, 51522                   & GRCm39 & 115488029 & 12 & 19296215  & 19298479  & + & null & null & null & null & null\\\\\n",
       "\t MGI:6468449 & Gene & Gm51612 & predicted gene, 51612                   & GRCm39 & 115489115 & X  & 135115668 & 135116243 & + & null & null & null & null & null\\\\\n",
       "\t MGI:6468451 & Gene & Gm51613 & predicted gene, 51613                   & GRCm39 & 115489130 & X  & 37531550  & 37545119  & - & null & null & null & null & null\\\\\n",
       "\t MGI:6468453 & Gene & Gm51614 & predicted gene, 51614                   & GRCm39 & 115489152 & X  & 5726408   & 5885035   & - & null & null & null & null & null\\\\\n",
       "\t MGI:6473275 & Gene & Gm53172 & predicted gene, 53172                   & GRCm39 & 102640059 & 14 & 31649997  & 31665058  & + & null & null & null & null & null\\\\\n",
       "\t MGI:6508691 & Gene & Gm53173 & predicted gene, 53173                   & GRCm39 & 102633347 & 7  & 83882210  & 83916237  & + & null & null & null & null & null\\\\\n",
       "\t MGI:6508695 & Gene & Gm53174 & predicted gene, 53174                   & GRCm39 & 117997403 & 7  & 83801348  & 83916237  & + & null & null & null & null & null\\\\\n",
       "\t MGI:6695700 & Gene & Mascrna & Malat1-associated small cytoplasmic RNA & GRCm39 & 109146451 & 19 & 5845952   & 5846009   & - & null & null & null & null & null\\\\\n",
       "\\end{tabular}\n"
      ],
      "text/markdown": [
       "\n",
       "A spec_tbl_df: 62369 × 15\n",
       "\n",
       "| 1. MGI accession id &lt;chr&gt; | 2. marker type &lt;chr&gt; | 3. marker symbol &lt;chr&gt; | 4. marker name &lt;chr&gt; | 5. genome build &lt;chr&gt; | 6. Entrez gene id &lt;chr&gt; | 7. NCBI gene chromosome &lt;chr&gt; | 8. NCBI gene start &lt;chr&gt; | 9. NCBI gene end &lt;chr&gt; | 10. NCBI gene strand &lt;chr&gt; | 11. Ensembl gene id &lt;chr&gt; | 12. Ensembl gene chromosome &lt;chr&gt; | 13. Ensembl gene start &lt;chr&gt; | 14. Ensembl gene end &lt;chr&gt; | 15. Ensembl gene strand &lt;chr&gt; |\n",
       "|---|---|---|---|---|---|---|---|---|---|---|---|---|---|---|\n",
       "| MGI:87853 | Gene | a        | nonagouti                                                                  | GRCm39 | 50518  | 2  | 154792519 | 154892932 | + | ENSMUSG00000027596 | 2  | 154633322 | 154892932 | + |\n",
       "| MGI:87854 | Gene | Pzp      | PZP, alpha-2-macroglobulin like                                            | GRCm39 | 11287  | 6  | 128460530 | 128503683 | - | ENSMUSG00000030359 | 6  | 128460530 | 128503683 | - |\n",
       "| MGI:87859 | Gene | Abl1     | c-abl oncogene 1, non-receptor tyrosine kinase                             | GRCm39 | 11350  | 2  | 31578256  | 31697105  | + | ENSMUSG00000026842 | 2  | 31578388  | 31694239  | + |\n",
       "| MGI:87860 | Gene | Abl2     | v-abl Abelson murine leukemia viral oncogene 2 (arg, Abelson-related gene) | GRCm39 | 11352  | 1  | 156386160 | 156477189 | + | ENSMUSG00000026596 | 1  | 156386356 | 156477138 | + |\n",
       "| MGI:87862 | Gene | Scgb1b27 | secretoglobin, family 1B, member 27                                        | GRCm39 | 11354  | 7  | 33720906  | 33722306  | + | ENSMUSG00000066583 | 7  | 33720908  | 33722306  | + |\n",
       "| MGI:87863 | Gene | Scgb2b27 | secretoglobin, family 2B, member 27                                        | GRCm39 | 233099 | 7  | 33711344  | 33713367  | - | ENSMUSG00000066584 | 7  | 33711346  | 33713367  | - |\n",
       "| MGI:87864 | Gene | Scgb2b26 | secretoglobin, family 2B, member 26                                        | GRCm39 | 110187 | 7  | 33642422  | 33644410  | - | ENSMUSG00000066586 | 7  | 33642427  | 33644465  | - |\n",
       "| MGI:87866 | Gene | Acadl    | acyl-Coenzyme A dehydrogenase, long-chain                                  | GRCm39 | 11363  | 1  | 66869998  | 66902468  | - | ENSMUSG00000026003 | 1  | 66869998  | 66902436  | - |\n",
       "| MGI:87867 | Gene | Acadm    | acyl-Coenzyme A dehydrogenase, medium chain                                | GRCm39 | 11364  | 3  | 153627990 | 153650280 | - | ENSMUSG00000062908 | 3  | 153627994 | 153650269 | - |\n",
       "| MGI:87868 | Gene | Acads    | acyl-Coenzyme A dehydrogenase, short chain                                 | GRCm39 | 11409  | 5  | 115248358 | 115257405 | - | ENSMUSG00000029545 | 5  | 115248358 | 115257405 | - |\n",
       "| MGI:87870 | Gene | Acat1    | acetyl-Coenzyme A acetyltransferase 1                                      | GRCm39 | 110446 | 9  | 53491822  | 53521650  | - | ENSMUSG00000032047 | 9  | 53491822  | 53521682  | - |\n",
       "| MGI:87871 | Gene | Acat2    | acetyl-Coenzyme A acetyltransferase 2                                      | GRCm39 | 110460 | 17 | 13161929  | 13179612  | - | ENSMUSG00000023832 | 17 | 13161777  | 13179634  | - |\n",
       "| MGI:87873 | Gene | Acd      | adrenocortical dysplasia                                                   | GRCm39 | 497652 | 8  | 106424787 | 106427860 | - | ENSMUSG00000038000 | 8  | 106422492 | 106427734 | - |\n",
       "| MGI:87874 | Gene | Ace      | angiotensin I converting enzyme (peptidyl-dipeptidase A) 1                 | GRCm39 | 11421  | 11 | 105858774 | 105880790 | + | ENSMUSG00000020681 | 11 | 105858771 | 105880790 | + |\n",
       "| MGI:87876 | Gene | Ache     | acetylcholinesterase                                                       | GRCm39 | 11423  | 5  | 137286516 | 137292728 | + | ENSMUSG00000023328 | 5  | 137285781 | 137292728 | + |\n",
       "| MGI:87878 | Gene | Apoc4    | apolipoprotein C-IV                                                        | GRCm39 | 11425  | 7  | 19412009  | 19415385  | - | ENSMUSG00000074336 | 7  | 19412008  | 19415404  | - |\n",
       "| MGI:87879 | Gene | Aco1     | aconitase 1                                                                | GRCm39 | 11428  | 4  | 40143265  | 40199009  | + | ENSMUSG00000028405 | 4  | 40143081  | 40198338  | + |\n",
       "| MGI:87880 | Gene | Aco2     | aconitase 2, mitochondrial                                                 | GRCm39 | 11429  | 15 | 81756664  | 81799338  | + | ENSMUSG00000022477 | 15 | 81756510  | 81799334  | + |\n",
       "| MGI:87881 | Gene | Acp1     | acid phosphatase 1, soluble                                                | GRCm39 | 11431  | 12 | 30943325  | 30961616  | - | ENSMUSG00000044573 | 12 | 30943325  | 30961588  | - |\n",
       "| MGI:87882 | Gene | Acp2     | acid phosphatase 2, lysosomal                                              | GRCm39 | 11432  | 2  | 91033157  | 91044443  | + | ENSMUSG00000002103 | 2  | 91033230  | 91044443  | + |\n",
       "| MGI:87883 | Gene | Acp5     | acid phosphatase 5, tartrate resistant                                     | GRCm39 | 11433  | 9  | 22038023  | 22047042  | - | ENSMUSG00000001348 | 9  | 22038023  | 22047007  | - |\n",
       "| MGI:87884 | Gene | Acr      | acrosin prepropeptide                                                      | GRCm39 | 11434  | 15 | 89452529  | 89463056  | + | ENSMUSG00000022622 | 15 | 89452529  | 89458788  | + |\n",
       "| MGI:87885 | Gene | Chrna1   | cholinergic receptor, nicotinic, alpha polypeptide 1 (muscle)              | GRCm39 | 11435  | 2  | 73393625  | 73410682  | - | ENSMUSG00000027107 | 2  | 73393559  | 73410682  | - |\n",
       "| MGI:87886 | Gene | Chrna2   | cholinergic receptor, nicotinic, alpha polypeptide 2 (neuronal)            | GRCm39 | 110902 | 14 | 66370685  | 66390397  | + | ENSMUSG00000022041 | 14 | 66372488  | 66390397  | + |\n",
       "| MGI:87887 | Gene | Chrna3   | cholinergic receptor, nicotinic, alpha polypeptide 3                       | GRCm39 | 110834 | 9  | 54917401  | 54933846  | - | ENSMUSG00000032303 | 9  | 54917395  | 54933846  | - |\n",
       "| MGI:87888 | Gene | Chrna4   | cholinergic receptor, nicotinic, alpha polypeptide 4                       | GRCm39 | 11438  | 2  | 180664104 | 180685365 | - | ENSMUSG00000027577 | 2  | 180660173 | 180685339 | - |\n",
       "| MGI:87889 | Gene | Chrna5   | cholinergic receptor, nicotinic, alpha polypeptide 5                       | GRCm39 | 110835 | 9  | 54888112  | 54918704  | + | ENSMUSG00000035594 | 9  | 54888164  | 54915063  | + |\n",
       "| MGI:87890 | Gene | Chrnb1   | cholinergic receptor, nicotinic, beta polypeptide 1 (muscle)               | GRCm39 | 11443  | 11 | 69674862  | 69686791  | - | ENSMUSG00000041189 | 11 | 69674862  | 69686769  | - |\n",
       "| MGI:87891 | Gene | Chrnb2   | cholinergic receptor, nicotinic, beta polypeptide 2 (neuronal)             | GRCm39 | 11444  | 3  | 89660755  | 89671939  | - | ENSMUSG00000027950 | 3  | 89653502  | 89671939  | - |\n",
       "| MGI:87892 | Gene | Chrnb4   | cholinergic receptor, nicotinic, beta polypeptide 4                        | GRCm39 | 108015 | 9  | 54935438  | 54956236  | - | ENSMUSG00000035200 | 9  | 54935438  | 54956063  | - |\n",
       "| ⋮ | ⋮ | ⋮ | ⋮ | ⋮ | ⋮ | ⋮ | ⋮ | ⋮ | ⋮ | ⋮ | ⋮ | ⋮ | ⋮ | ⋮ |\n",
       "| MGI:6468403 | Gene | Gm50619 | predicted gene, 50619                   | GRCm39 | 108168798 | 2  | 138488164 | 138491046 | + | null | null | null | null | null |\n",
       "| MGI:6468405 | Gene | Gm50621 | predicted gene, 50621                   | GRCm39 | 108168808 | 2  | 155815195 | 155817591 | - | null | null | null | null | null |\n",
       "| MGI:6468407 | Gene | Gm50622 | predicted gene, 50622                   | GRCm39 | 108168868 | 3  | 51323804  | 51330757  | + | null | null | null | null | null |\n",
       "| MGI:6468409 | Gene | Gm50623 | predicted gene, 50623                   | GRCm39 | 108168976 | 4  | 123155511 | 123157151 | + | null | null | null | null | null |\n",
       "| MGI:6468411 | Gene | Gm50624 | predicted gene, 50624                   | GRCm39 | 108169020 | 5  | 3702884   | 3707188   | - | null | null | null | null | null |\n",
       "| MGI:6468413 | Gene | Gm50625 | predicted gene, 50625                   | GRCm39 | 108169027 | 5  | 11738948  | 11797478  | - | null | null | null | null | null |\n",
       "| MGI:6468415 | Gene | Gm50626 | predicted gene, 50626                   | GRCm39 | 108169029 | 5  | 21513458  | 21520131  | + | null | null | null | null | null |\n",
       "| MGI:6468417 | Gene | Gm50627 | predicted gene, 50627                   | GRCm39 | 108169085 | 5  | 148884577 | 148890006 | - | null | null | null | null | null |\n",
       "| MGI:6468419 | Gene | Gm50628 | predicted gene, 50628                   | GRCm39 | 108169146 | 6  | 57454753  | 57461164  | + | null | null | null | null | null |\n",
       "| MGI:6468421 | Gene | Gm50629 | predicted gene, 50629                   | GRCm39 | 108169147 | 6  | 65502319  | 65554145  | + | null | null | null | null | null |\n",
       "| MGI:6468423 | Gene | Gm50630 | predicted gene, 50630                   | GRCm39 | 108169173 | 6  | 135503541 | 135561258 | + | null | null | null | null | null |\n",
       "| MGI:6468425 | Gene | Gm51400 | predicted gene, 51400                   | GRCm39 | 114841036 | 19 | 6954953   | 6957808   | - | null | null | null | null | null |\n",
       "| MGI:6468427 | Gene | Gm51402 | predicted gene, 51402                   | GRCm39 | 115485727 | 10 | 42851756  | 42862082  | - | null | null | null | null | null |\n",
       "| MGI:6468429 | Gene | Gm51403 | predicted gene, 51403                   | GRCm39 | 115485926 | 14 | 76977283  | 76990500  | + | null | null | null | null | null |\n",
       "| MGI:6468431 | Gene | Gm51404 | predicted gene, 51404                   | GRCm39 | 115485928 | 14 | 79979760  | 79992843  | + | null | null | null | null | null |\n",
       "| MGI:6468433 | Gene | Gm51405 | predicted gene, 51405                   | GRCm39 | 115486002 | 16 | 87711868  | 87803243  | + | null | null | null | null | null |\n",
       "| MGI:6468435 | Gene | Gm51406 | predicted gene, 51406                   | GRCm39 | 115486180 | 3  | 146506030 | 146518385 | - | null | null | null | null | null |\n",
       "| MGI:6468437 | Gene | Gm51408 | predicted gene, 51408                   | GRCm39 | 115486327 | 6  | 4795223   | 4805994   | - | null | null | null | null | null |\n",
       "| MGI:6468439 | Gene | Gm51409 | predicted gene, 51409                   | GRCm39 | 115486328 | 6  | 108766925 | 108789469 | + | null | null | null | null | null |\n",
       "| MGI:6468441 | Gene | Gm51410 | predicted gene, 51410                   | GRCm39 | 115486406 | 5  | 33450956  | 33454817  | - | null | null | null | null | null |\n",
       "| MGI:6468443 | Gene | Gm51519 | predicted gene, 51519                   | GRCm39 | 115487996 | 12 | 87962273  | 87962510  | - | null | null | null | null | null |\n",
       "| MGI:6468445 | Gene | Gm51520 | predicted gene, 51520                   | GRCm39 | 115488003 | 12 | 17993828  | 17998241  | + | null | null | null | null | null |\n",
       "| MGI:6468447 | Gene | Gm51522 | predicted gene, 51522                   | GRCm39 | 115488029 | 12 | 19296215  | 19298479  | + | null | null | null | null | null |\n",
       "| MGI:6468449 | Gene | Gm51612 | predicted gene, 51612                   | GRCm39 | 115489115 | X  | 135115668 | 135116243 | + | null | null | null | null | null |\n",
       "| MGI:6468451 | Gene | Gm51613 | predicted gene, 51613                   | GRCm39 | 115489130 | X  | 37531550  | 37545119  | - | null | null | null | null | null |\n",
       "| MGI:6468453 | Gene | Gm51614 | predicted gene, 51614                   | GRCm39 | 115489152 | X  | 5726408   | 5885035   | - | null | null | null | null | null |\n",
       "| MGI:6473275 | Gene | Gm53172 | predicted gene, 53172                   | GRCm39 | 102640059 | 14 | 31649997  | 31665058  | + | null | null | null | null | null |\n",
       "| MGI:6508691 | Gene | Gm53173 | predicted gene, 53173                   | GRCm39 | 102633347 | 7  | 83882210  | 83916237  | + | null | null | null | null | null |\n",
       "| MGI:6508695 | Gene | Gm53174 | predicted gene, 53174                   | GRCm39 | 117997403 | 7  | 83801348  | 83916237  | + | null | null | null | null | null |\n",
       "| MGI:6695700 | Gene | Mascrna | Malat1-associated small cytoplasmic RNA | GRCm39 | 109146451 | 19 | 5845952   | 5846009   | - | null | null | null | null | null |\n",
       "\n"
      ],
      "text/plain": [
       "      1. MGI accession id 2. marker type 3. marker symbol\n",
       "1     MGI:87853           Gene           a               \n",
       "2     MGI:87854           Gene           Pzp             \n",
       "3     MGI:87859           Gene           Abl1            \n",
       "4     MGI:87860           Gene           Abl2            \n",
       "5     MGI:87862           Gene           Scgb1b27        \n",
       "6     MGI:87863           Gene           Scgb2b27        \n",
       "7     MGI:87864           Gene           Scgb2b26        \n",
       "8     MGI:87866           Gene           Acadl           \n",
       "9     MGI:87867           Gene           Acadm           \n",
       "10    MGI:87868           Gene           Acads           \n",
       "11    MGI:87870           Gene           Acat1           \n",
       "12    MGI:87871           Gene           Acat2           \n",
       "13    MGI:87873           Gene           Acd             \n",
       "14    MGI:87874           Gene           Ace             \n",
       "15    MGI:87876           Gene           Ache            \n",
       "16    MGI:87878           Gene           Apoc4           \n",
       "17    MGI:87879           Gene           Aco1            \n",
       "18    MGI:87880           Gene           Aco2            \n",
       "19    MGI:87881           Gene           Acp1            \n",
       "20    MGI:87882           Gene           Acp2            \n",
       "21    MGI:87883           Gene           Acp5            \n",
       "22    MGI:87884           Gene           Acr             \n",
       "23    MGI:87885           Gene           Chrna1          \n",
       "24    MGI:87886           Gene           Chrna2          \n",
       "25    MGI:87887           Gene           Chrna3          \n",
       "26    MGI:87888           Gene           Chrna4          \n",
       "27    MGI:87889           Gene           Chrna5          \n",
       "28    MGI:87890           Gene           Chrnb1          \n",
       "29    MGI:87891           Gene           Chrnb2          \n",
       "30    MGI:87892           Gene           Chrnb4          \n",
       "⋮     ⋮                   ⋮              ⋮               \n",
       "62340 MGI:6468403         Gene           Gm50619         \n",
       "62341 MGI:6468405         Gene           Gm50621         \n",
       "62342 MGI:6468407         Gene           Gm50622         \n",
       "62343 MGI:6468409         Gene           Gm50623         \n",
       "62344 MGI:6468411         Gene           Gm50624         \n",
       "62345 MGI:6468413         Gene           Gm50625         \n",
       "62346 MGI:6468415         Gene           Gm50626         \n",
       "62347 MGI:6468417         Gene           Gm50627         \n",
       "62348 MGI:6468419         Gene           Gm50628         \n",
       "62349 MGI:6468421         Gene           Gm50629         \n",
       "62350 MGI:6468423         Gene           Gm50630         \n",
       "62351 MGI:6468425         Gene           Gm51400         \n",
       "62352 MGI:6468427         Gene           Gm51402         \n",
       "62353 MGI:6468429         Gene           Gm51403         \n",
       "62354 MGI:6468431         Gene           Gm51404         \n",
       "62355 MGI:6468433         Gene           Gm51405         \n",
       "62356 MGI:6468435         Gene           Gm51406         \n",
       "62357 MGI:6468437         Gene           Gm51408         \n",
       "62358 MGI:6468439         Gene           Gm51409         \n",
       "62359 MGI:6468441         Gene           Gm51410         \n",
       "62360 MGI:6468443         Gene           Gm51519         \n",
       "62361 MGI:6468445         Gene           Gm51520         \n",
       "62362 MGI:6468447         Gene           Gm51522         \n",
       "62363 MGI:6468449         Gene           Gm51612         \n",
       "62364 MGI:6468451         Gene           Gm51613         \n",
       "62365 MGI:6468453         Gene           Gm51614         \n",
       "62366 MGI:6473275         Gene           Gm53172         \n",
       "62367 MGI:6508691         Gene           Gm53173         \n",
       "62368 MGI:6508695         Gene           Gm53174         \n",
       "62369 MGI:6695700         Gene           Mascrna         \n",
       "      4. marker name                                                            \n",
       "1     nonagouti                                                                 \n",
       "2     PZP, alpha-2-macroglobulin like                                           \n",
       "3     c-abl oncogene 1, non-receptor tyrosine kinase                            \n",
       "4     v-abl Abelson murine leukemia viral oncogene 2 (arg, Abelson-related gene)\n",
       "5     secretoglobin, family 1B, member 27                                       \n",
       "6     secretoglobin, family 2B, member 27                                       \n",
       "7     secretoglobin, family 2B, member 26                                       \n",
       "8     acyl-Coenzyme A dehydrogenase, long-chain                                 \n",
       "9     acyl-Coenzyme A dehydrogenase, medium chain                               \n",
       "10    acyl-Coenzyme A dehydrogenase, short chain                                \n",
       "11    acetyl-Coenzyme A acetyltransferase 1                                     \n",
       "12    acetyl-Coenzyme A acetyltransferase 2                                     \n",
       "13    adrenocortical dysplasia                                                  \n",
       "14    angiotensin I converting enzyme (peptidyl-dipeptidase A) 1                \n",
       "15    acetylcholinesterase                                                      \n",
       "16    apolipoprotein C-IV                                                       \n",
       "17    aconitase 1                                                               \n",
       "18    aconitase 2, mitochondrial                                                \n",
       "19    acid phosphatase 1, soluble                                               \n",
       "20    acid phosphatase 2, lysosomal                                             \n",
       "21    acid phosphatase 5, tartrate resistant                                    \n",
       "22    acrosin prepropeptide                                                     \n",
       "23    cholinergic receptor, nicotinic, alpha polypeptide 1 (muscle)             \n",
       "24    cholinergic receptor, nicotinic, alpha polypeptide 2 (neuronal)           \n",
       "25    cholinergic receptor, nicotinic, alpha polypeptide 3                      \n",
       "26    cholinergic receptor, nicotinic, alpha polypeptide 4                      \n",
       "27    cholinergic receptor, nicotinic, alpha polypeptide 5                      \n",
       "28    cholinergic receptor, nicotinic, beta polypeptide 1 (muscle)              \n",
       "29    cholinergic receptor, nicotinic, beta polypeptide 2 (neuronal)            \n",
       "30    cholinergic receptor, nicotinic, beta polypeptide 4                       \n",
       "⋮     ⋮                                                                         \n",
       "62340 predicted gene, 50619                                                     \n",
       "62341 predicted gene, 50621                                                     \n",
       "62342 predicted gene, 50622                                                     \n",
       "62343 predicted gene, 50623                                                     \n",
       "62344 predicted gene, 50624                                                     \n",
       "62345 predicted gene, 50625                                                     \n",
       "62346 predicted gene, 50626                                                     \n",
       "62347 predicted gene, 50627                                                     \n",
       "62348 predicted gene, 50628                                                     \n",
       "62349 predicted gene, 50629                                                     \n",
       "62350 predicted gene, 50630                                                     \n",
       "62351 predicted gene, 51400                                                     \n",
       "62352 predicted gene, 51402                                                     \n",
       "62353 predicted gene, 51403                                                     \n",
       "62354 predicted gene, 51404                                                     \n",
       "62355 predicted gene, 51405                                                     \n",
       "62356 predicted gene, 51406                                                     \n",
       "62357 predicted gene, 51408                                                     \n",
       "62358 predicted gene, 51409                                                     \n",
       "62359 predicted gene, 51410                                                     \n",
       "62360 predicted gene, 51519                                                     \n",
       "62361 predicted gene, 51520                                                     \n",
       "62362 predicted gene, 51522                                                     \n",
       "62363 predicted gene, 51612                                                     \n",
       "62364 predicted gene, 51613                                                     \n",
       "62365 predicted gene, 51614                                                     \n",
       "62366 predicted gene, 53172                                                     \n",
       "62367 predicted gene, 53173                                                     \n",
       "62368 predicted gene, 53174                                                     \n",
       "62369 Malat1-associated small cytoplasmic RNA                                   \n",
       "      5. genome build 6. Entrez gene id 7. NCBI gene chromosome\n",
       "1     GRCm39          50518             2                      \n",
       "2     GRCm39          11287             6                      \n",
       "3     GRCm39          11350             2                      \n",
       "4     GRCm39          11352             1                      \n",
       "5     GRCm39          11354             7                      \n",
       "6     GRCm39          233099            7                      \n",
       "7     GRCm39          110187            7                      \n",
       "8     GRCm39          11363             1                      \n",
       "9     GRCm39          11364             3                      \n",
       "10    GRCm39          11409             5                      \n",
       "11    GRCm39          110446            9                      \n",
       "12    GRCm39          110460            17                     \n",
       "13    GRCm39          497652            8                      \n",
       "14    GRCm39          11421             11                     \n",
       "15    GRCm39          11423             5                      \n",
       "16    GRCm39          11425             7                      \n",
       "17    GRCm39          11428             4                      \n",
       "18    GRCm39          11429             15                     \n",
       "19    GRCm39          11431             12                     \n",
       "20    GRCm39          11432             2                      \n",
       "21    GRCm39          11433             9                      \n",
       "22    GRCm39          11434             15                     \n",
       "23    GRCm39          11435             2                      \n",
       "24    GRCm39          110902            14                     \n",
       "25    GRCm39          110834            9                      \n",
       "26    GRCm39          11438             2                      \n",
       "27    GRCm39          110835            9                      \n",
       "28    GRCm39          11443             11                     \n",
       "29    GRCm39          11444             3                      \n",
       "30    GRCm39          108015            9                      \n",
       "⋮     ⋮               ⋮                 ⋮                      \n",
       "62340 GRCm39          108168798         2                      \n",
       "62341 GRCm39          108168808         2                      \n",
       "62342 GRCm39          108168868         3                      \n",
       "62343 GRCm39          108168976         4                      \n",
       "62344 GRCm39          108169020         5                      \n",
       "62345 GRCm39          108169027         5                      \n",
       "62346 GRCm39          108169029         5                      \n",
       "62347 GRCm39          108169085         5                      \n",
       "62348 GRCm39          108169146         6                      \n",
       "62349 GRCm39          108169147         6                      \n",
       "62350 GRCm39          108169173         6                      \n",
       "62351 GRCm39          114841036         19                     \n",
       "62352 GRCm39          115485727         10                     \n",
       "62353 GRCm39          115485926         14                     \n",
       "62354 GRCm39          115485928         14                     \n",
       "62355 GRCm39          115486002         16                     \n",
       "62356 GRCm39          115486180         3                      \n",
       "62357 GRCm39          115486327         6                      \n",
       "62358 GRCm39          115486328         6                      \n",
       "62359 GRCm39          115486406         5                      \n",
       "62360 GRCm39          115487996         12                     \n",
       "62361 GRCm39          115488003         12                     \n",
       "62362 GRCm39          115488029         12                     \n",
       "62363 GRCm39          115489115         X                      \n",
       "62364 GRCm39          115489130         X                      \n",
       "62365 GRCm39          115489152         X                      \n",
       "62366 GRCm39          102640059         14                     \n",
       "62367 GRCm39          102633347         7                      \n",
       "62368 GRCm39          117997403         7                      \n",
       "62369 GRCm39          109146451         19                     \n",
       "      8. NCBI gene start 9. NCBI gene end 10. NCBI gene strand\n",
       "1     154792519          154892932        +                   \n",
       "2     128460530          128503683        -                   \n",
       "3     31578256           31697105         +                   \n",
       "4     156386160          156477189        +                   \n",
       "5     33720906           33722306         +                   \n",
       "6     33711344           33713367         -                   \n",
       "7     33642422           33644410         -                   \n",
       "8     66869998           66902468         -                   \n",
       "9     153627990          153650280        -                   \n",
       "10    115248358          115257405        -                   \n",
       "11    53491822           53521650         -                   \n",
       "12    13161929           13179612         -                   \n",
       "13    106424787          106427860        -                   \n",
       "14    105858774          105880790        +                   \n",
       "15    137286516          137292728        +                   \n",
       "16    19412009           19415385         -                   \n",
       "17    40143265           40199009         +                   \n",
       "18    81756664           81799338         +                   \n",
       "19    30943325           30961616         -                   \n",
       "20    91033157           91044443         +                   \n",
       "21    22038023           22047042         -                   \n",
       "22    89452529           89463056         +                   \n",
       "23    73393625           73410682         -                   \n",
       "24    66370685           66390397         +                   \n",
       "25    54917401           54933846         -                   \n",
       "26    180664104          180685365        -                   \n",
       "27    54888112           54918704         +                   \n",
       "28    69674862           69686791         -                   \n",
       "29    89660755           89671939         -                   \n",
       "30    54935438           54956236         -                   \n",
       "⋮     ⋮                  ⋮                ⋮                   \n",
       "62340 138488164          138491046        +                   \n",
       "62341 155815195          155817591        -                   \n",
       "62342 51323804           51330757         +                   \n",
       "62343 123155511          123157151        +                   \n",
       "62344 3702884            3707188          -                   \n",
       "62345 11738948           11797478         -                   \n",
       "62346 21513458           21520131         +                   \n",
       "62347 148884577          148890006        -                   \n",
       "62348 57454753           57461164         +                   \n",
       "62349 65502319           65554145         +                   \n",
       "62350 135503541          135561258        +                   \n",
       "62351 6954953            6957808          -                   \n",
       "62352 42851756           42862082         -                   \n",
       "62353 76977283           76990500         +                   \n",
       "62354 79979760           79992843         +                   \n",
       "62355 87711868           87803243         +                   \n",
       "62356 146506030          146518385        -                   \n",
       "62357 4795223            4805994          -                   \n",
       "62358 108766925          108789469        +                   \n",
       "62359 33450956           33454817         -                   \n",
       "62360 87962273           87962510         -                   \n",
       "62361 17993828           17998241         +                   \n",
       "62362 19296215           19298479         +                   \n",
       "62363 135115668          135116243        +                   \n",
       "62364 37531550           37545119         -                   \n",
       "62365 5726408            5885035          -                   \n",
       "62366 31649997           31665058         +                   \n",
       "62367 83882210           83916237         +                   \n",
       "62368 83801348           83916237         +                   \n",
       "62369 5845952            5846009          -                   \n",
       "      11. Ensembl gene id 12. Ensembl gene chromosome 13. Ensembl gene start\n",
       "1     ENSMUSG00000027596  2                           154633322             \n",
       "2     ENSMUSG00000030359  6                           128460530             \n",
       "3     ENSMUSG00000026842  2                           31578388              \n",
       "4     ENSMUSG00000026596  1                           156386356             \n",
       "5     ENSMUSG00000066583  7                           33720908              \n",
       "6     ENSMUSG00000066584  7                           33711346              \n",
       "7     ENSMUSG00000066586  7                           33642427              \n",
       "8     ENSMUSG00000026003  1                           66869998              \n",
       "9     ENSMUSG00000062908  3                           153627994             \n",
       "10    ENSMUSG00000029545  5                           115248358             \n",
       "11    ENSMUSG00000032047  9                           53491822              \n",
       "12    ENSMUSG00000023832  17                          13161777              \n",
       "13    ENSMUSG00000038000  8                           106422492             \n",
       "14    ENSMUSG00000020681  11                          105858771             \n",
       "15    ENSMUSG00000023328  5                           137285781             \n",
       "16    ENSMUSG00000074336  7                           19412008              \n",
       "17    ENSMUSG00000028405  4                           40143081              \n",
       "18    ENSMUSG00000022477  15                          81756510              \n",
       "19    ENSMUSG00000044573  12                          30943325              \n",
       "20    ENSMUSG00000002103  2                           91033230              \n",
       "21    ENSMUSG00000001348  9                           22038023              \n",
       "22    ENSMUSG00000022622  15                          89452529              \n",
       "23    ENSMUSG00000027107  2                           73393559              \n",
       "24    ENSMUSG00000022041  14                          66372488              \n",
       "25    ENSMUSG00000032303  9                           54917395              \n",
       "26    ENSMUSG00000027577  2                           180660173             \n",
       "27    ENSMUSG00000035594  9                           54888164              \n",
       "28    ENSMUSG00000041189  11                          69674862              \n",
       "29    ENSMUSG00000027950  3                           89653502              \n",
       "30    ENSMUSG00000035200  9                           54935438              \n",
       "⋮     ⋮                   ⋮                           ⋮                     \n",
       "62340 null                null                        null                  \n",
       "62341 null                null                        null                  \n",
       "62342 null                null                        null                  \n",
       "62343 null                null                        null                  \n",
       "62344 null                null                        null                  \n",
       "62345 null                null                        null                  \n",
       "62346 null                null                        null                  \n",
       "62347 null                null                        null                  \n",
       "62348 null                null                        null                  \n",
       "62349 null                null                        null                  \n",
       "62350 null                null                        null                  \n",
       "62351 null                null                        null                  \n",
       "62352 null                null                        null                  \n",
       "62353 null                null                        null                  \n",
       "62354 null                null                        null                  \n",
       "62355 null                null                        null                  \n",
       "62356 null                null                        null                  \n",
       "62357 null                null                        null                  \n",
       "62358 null                null                        null                  \n",
       "62359 null                null                        null                  \n",
       "62360 null                null                        null                  \n",
       "62361 null                null                        null                  \n",
       "62362 null                null                        null                  \n",
       "62363 null                null                        null                  \n",
       "62364 null                null                        null                  \n",
       "62365 null                null                        null                  \n",
       "62366 null                null                        null                  \n",
       "62367 null                null                        null                  \n",
       "62368 null                null                        null                  \n",
       "62369 null                null                        null                  \n",
       "      14. Ensembl gene end 15. Ensembl gene strand\n",
       "1     154892932            +                      \n",
       "2     128503683            -                      \n",
       "3     31694239             +                      \n",
       "4     156477138            +                      \n",
       "5     33722306             +                      \n",
       "6     33713367             -                      \n",
       "7     33644465             -                      \n",
       "8     66902436             -                      \n",
       "9     153650269            -                      \n",
       "10    115257405            -                      \n",
       "11    53521682             -                      \n",
       "12    13179634             -                      \n",
       "13    106427734            -                      \n",
       "14    105880790            +                      \n",
       "15    137292728            +                      \n",
       "16    19415404             -                      \n",
       "17    40198338             +                      \n",
       "18    81799334             +                      \n",
       "19    30961588             -                      \n",
       "20    91044443             +                      \n",
       "21    22047007             -                      \n",
       "22    89458788             +                      \n",
       "23    73410682             -                      \n",
       "24    66390397             +                      \n",
       "25    54933846             -                      \n",
       "26    180685339            -                      \n",
       "27    54915063             +                      \n",
       "28    69686769             -                      \n",
       "29    89671939             -                      \n",
       "30    54956063             -                      \n",
       "⋮     ⋮                    ⋮                      \n",
       "62340 null                 null                   \n",
       "62341 null                 null                   \n",
       "62342 null                 null                   \n",
       "62343 null                 null                   \n",
       "62344 null                 null                   \n",
       "62345 null                 null                   \n",
       "62346 null                 null                   \n",
       "62347 null                 null                   \n",
       "62348 null                 null                   \n",
       "62349 null                 null                   \n",
       "62350 null                 null                   \n",
       "62351 null                 null                   \n",
       "62352 null                 null                   \n",
       "62353 null                 null                   \n",
       "62354 null                 null                   \n",
       "62355 null                 null                   \n",
       "62356 null                 null                   \n",
       "62357 null                 null                   \n",
       "62358 null                 null                   \n",
       "62359 null                 null                   \n",
       "62360 null                 null                   \n",
       "62361 null                 null                   \n",
       "62362 null                 null                   \n",
       "62363 null                 null                   \n",
       "62364 null                 null                   \n",
       "62365 null                 null                   \n",
       "62366 null                 null                   \n",
       "62367 null                 null                   \n",
       "62368 null                 null                   \n",
       "62369 null                 null                   "
      ]
     },
     "metadata": {},
     "output_type": "display_data"
    }
   ],
   "source": [
    "mgidat "
   ]
  },
  {
   "cell_type": "markdown",
   "id": "07464688",
   "metadata": {},
   "source": [
    "## Get rid of genes listed as \"null\""
   ]
  },
  {
   "cell_type": "code",
   "execution_count": 26,
   "id": "31862f02",
   "metadata": {},
   "outputs": [
    {
     "data": {
      "text/html": [
       "<table class=\"dataframe\">\n",
       "<caption>A spec_tbl_df: 39733 × 15</caption>\n",
       "<thead>\n",
       "\t<tr><th scope=col>1. MGI accession id</th><th scope=col>2. marker type</th><th scope=col>3. marker symbol</th><th scope=col>4. marker name</th><th scope=col>5. genome build</th><th scope=col>6. Entrez gene id</th><th scope=col>7. NCBI gene chromosome</th><th scope=col>8. NCBI gene start</th><th scope=col>9. NCBI gene end</th><th scope=col>10. NCBI gene strand</th><th scope=col>11. Ensembl gene id</th><th scope=col>12. Ensembl gene chromosome</th><th scope=col>13. Ensembl gene start</th><th scope=col>14. Ensembl gene end</th><th scope=col>15. Ensembl gene strand</th></tr>\n",
       "\t<tr><th scope=col>&lt;chr&gt;</th><th scope=col>&lt;chr&gt;</th><th scope=col>&lt;chr&gt;</th><th scope=col>&lt;chr&gt;</th><th scope=col>&lt;chr&gt;</th><th scope=col>&lt;chr&gt;</th><th scope=col>&lt;chr&gt;</th><th scope=col>&lt;chr&gt;</th><th scope=col>&lt;chr&gt;</th><th scope=col>&lt;chr&gt;</th><th scope=col>&lt;chr&gt;</th><th scope=col>&lt;chr&gt;</th><th scope=col>&lt;chr&gt;</th><th scope=col>&lt;chr&gt;</th><th scope=col>&lt;chr&gt;</th></tr>\n",
       "</thead>\n",
       "<tbody>\n",
       "\t<tr><td>MGI:87853</td><td>Gene</td><td>a       </td><td>nonagouti                                                                 </td><td>GRCm39</td><td>50518 </td><td>2 </td><td>154792519</td><td>154892932</td><td>+</td><td>ENSMUSG00000027596</td><td>2 </td><td>154633322</td><td>154892932</td><td>+</td></tr>\n",
       "\t<tr><td>MGI:87854</td><td>Gene</td><td>Pzp     </td><td>PZP, alpha-2-macroglobulin like                                           </td><td>GRCm39</td><td>11287 </td><td>6 </td><td>128460530</td><td>128503683</td><td>-</td><td>ENSMUSG00000030359</td><td>6 </td><td>128460530</td><td>128503683</td><td>-</td></tr>\n",
       "\t<tr><td>MGI:87859</td><td>Gene</td><td>Abl1    </td><td>c-abl oncogene 1, non-receptor tyrosine kinase                            </td><td>GRCm39</td><td>11350 </td><td>2 </td><td>31578256 </td><td>31697105 </td><td>+</td><td>ENSMUSG00000026842</td><td>2 </td><td>31578388 </td><td>31694239 </td><td>+</td></tr>\n",
       "\t<tr><td>MGI:87860</td><td>Gene</td><td>Abl2    </td><td>v-abl Abelson murine leukemia viral oncogene 2 (arg, Abelson-related gene)</td><td>GRCm39</td><td>11352 </td><td>1 </td><td>156386160</td><td>156477189</td><td>+</td><td>ENSMUSG00000026596</td><td>1 </td><td>156386356</td><td>156477138</td><td>+</td></tr>\n",
       "\t<tr><td>MGI:87862</td><td>Gene</td><td>Scgb1b27</td><td>secretoglobin, family 1B, member 27                                       </td><td>GRCm39</td><td>11354 </td><td>7 </td><td>33720906 </td><td>33722306 </td><td>+</td><td>ENSMUSG00000066583</td><td>7 </td><td>33720908 </td><td>33722306 </td><td>+</td></tr>\n",
       "\t<tr><td>MGI:87863</td><td>Gene</td><td>Scgb2b27</td><td>secretoglobin, family 2B, member 27                                       </td><td>GRCm39</td><td>233099</td><td>7 </td><td>33711344 </td><td>33713367 </td><td>-</td><td>ENSMUSG00000066584</td><td>7 </td><td>33711346 </td><td>33713367 </td><td>-</td></tr>\n",
       "\t<tr><td>MGI:87864</td><td>Gene</td><td>Scgb2b26</td><td>secretoglobin, family 2B, member 26                                       </td><td>GRCm39</td><td>110187</td><td>7 </td><td>33642422 </td><td>33644410 </td><td>-</td><td>ENSMUSG00000066586</td><td>7 </td><td>33642427 </td><td>33644465 </td><td>-</td></tr>\n",
       "\t<tr><td>MGI:87866</td><td>Gene</td><td>Acadl   </td><td>acyl-Coenzyme A dehydrogenase, long-chain                                 </td><td>GRCm39</td><td>11363 </td><td>1 </td><td>66869998 </td><td>66902468 </td><td>-</td><td>ENSMUSG00000026003</td><td>1 </td><td>66869998 </td><td>66902436 </td><td>-</td></tr>\n",
       "\t<tr><td>MGI:87867</td><td>Gene</td><td>Acadm   </td><td>acyl-Coenzyme A dehydrogenase, medium chain                               </td><td>GRCm39</td><td>11364 </td><td>3 </td><td>153627990</td><td>153650280</td><td>-</td><td>ENSMUSG00000062908</td><td>3 </td><td>153627994</td><td>153650269</td><td>-</td></tr>\n",
       "\t<tr><td>MGI:87868</td><td>Gene</td><td>Acads   </td><td>acyl-Coenzyme A dehydrogenase, short chain                                </td><td>GRCm39</td><td>11409 </td><td>5 </td><td>115248358</td><td>115257405</td><td>-</td><td>ENSMUSG00000029545</td><td>5 </td><td>115248358</td><td>115257405</td><td>-</td></tr>\n",
       "\t<tr><td>MGI:87870</td><td>Gene</td><td>Acat1   </td><td>acetyl-Coenzyme A acetyltransferase 1                                     </td><td>GRCm39</td><td>110446</td><td>9 </td><td>53491822 </td><td>53521650 </td><td>-</td><td>ENSMUSG00000032047</td><td>9 </td><td>53491822 </td><td>53521682 </td><td>-</td></tr>\n",
       "\t<tr><td>MGI:87871</td><td>Gene</td><td>Acat2   </td><td>acetyl-Coenzyme A acetyltransferase 2                                     </td><td>GRCm39</td><td>110460</td><td>17</td><td>13161929 </td><td>13179612 </td><td>-</td><td>ENSMUSG00000023832</td><td>17</td><td>13161777 </td><td>13179634 </td><td>-</td></tr>\n",
       "\t<tr><td>MGI:87873</td><td>Gene</td><td>Acd     </td><td>adrenocortical dysplasia                                                  </td><td>GRCm39</td><td>497652</td><td>8 </td><td>106424787</td><td>106427860</td><td>-</td><td>ENSMUSG00000038000</td><td>8 </td><td>106422492</td><td>106427734</td><td>-</td></tr>\n",
       "\t<tr><td>MGI:87874</td><td>Gene</td><td>Ace     </td><td>angiotensin I converting enzyme (peptidyl-dipeptidase A) 1                </td><td>GRCm39</td><td>11421 </td><td>11</td><td>105858774</td><td>105880790</td><td>+</td><td>ENSMUSG00000020681</td><td>11</td><td>105858771</td><td>105880790</td><td>+</td></tr>\n",
       "\t<tr><td>MGI:87876</td><td>Gene</td><td>Ache    </td><td>acetylcholinesterase                                                      </td><td>GRCm39</td><td>11423 </td><td>5 </td><td>137286516</td><td>137292728</td><td>+</td><td>ENSMUSG00000023328</td><td>5 </td><td>137285781</td><td>137292728</td><td>+</td></tr>\n",
       "\t<tr><td>MGI:87878</td><td>Gene</td><td>Apoc4   </td><td>apolipoprotein C-IV                                                       </td><td>GRCm39</td><td>11425 </td><td>7 </td><td>19412009 </td><td>19415385 </td><td>-</td><td>ENSMUSG00000074336</td><td>7 </td><td>19412008 </td><td>19415404 </td><td>-</td></tr>\n",
       "\t<tr><td>MGI:87879</td><td>Gene</td><td>Aco1    </td><td>aconitase 1                                                               </td><td>GRCm39</td><td>11428 </td><td>4 </td><td>40143265 </td><td>40199009 </td><td>+</td><td>ENSMUSG00000028405</td><td>4 </td><td>40143081 </td><td>40198338 </td><td>+</td></tr>\n",
       "\t<tr><td>MGI:87880</td><td>Gene</td><td>Aco2    </td><td>aconitase 2, mitochondrial                                                </td><td>GRCm39</td><td>11429 </td><td>15</td><td>81756664 </td><td>81799338 </td><td>+</td><td>ENSMUSG00000022477</td><td>15</td><td>81756510 </td><td>81799334 </td><td>+</td></tr>\n",
       "\t<tr><td>MGI:87881</td><td>Gene</td><td>Acp1    </td><td>acid phosphatase 1, soluble                                               </td><td>GRCm39</td><td>11431 </td><td>12</td><td>30943325 </td><td>30961616 </td><td>-</td><td>ENSMUSG00000044573</td><td>12</td><td>30943325 </td><td>30961588 </td><td>-</td></tr>\n",
       "\t<tr><td>MGI:87882</td><td>Gene</td><td>Acp2    </td><td>acid phosphatase 2, lysosomal                                             </td><td>GRCm39</td><td>11432 </td><td>2 </td><td>91033157 </td><td>91044443 </td><td>+</td><td>ENSMUSG00000002103</td><td>2 </td><td>91033230 </td><td>91044443 </td><td>+</td></tr>\n",
       "\t<tr><td>MGI:87883</td><td>Gene</td><td>Acp5    </td><td>acid phosphatase 5, tartrate resistant                                    </td><td>GRCm39</td><td>11433 </td><td>9 </td><td>22038023 </td><td>22047042 </td><td>-</td><td>ENSMUSG00000001348</td><td>9 </td><td>22038023 </td><td>22047007 </td><td>-</td></tr>\n",
       "\t<tr><td>MGI:87884</td><td>Gene</td><td>Acr     </td><td>acrosin prepropeptide                                                     </td><td>GRCm39</td><td>11434 </td><td>15</td><td>89452529 </td><td>89463056 </td><td>+</td><td>ENSMUSG00000022622</td><td>15</td><td>89452529 </td><td>89458788 </td><td>+</td></tr>\n",
       "\t<tr><td>MGI:87885</td><td>Gene</td><td>Chrna1  </td><td>cholinergic receptor, nicotinic, alpha polypeptide 1 (muscle)             </td><td>GRCm39</td><td>11435 </td><td>2 </td><td>73393625 </td><td>73410682 </td><td>-</td><td>ENSMUSG00000027107</td><td>2 </td><td>73393559 </td><td>73410682 </td><td>-</td></tr>\n",
       "\t<tr><td>MGI:87886</td><td>Gene</td><td>Chrna2  </td><td>cholinergic receptor, nicotinic, alpha polypeptide 2 (neuronal)           </td><td>GRCm39</td><td>110902</td><td>14</td><td>66370685 </td><td>66390397 </td><td>+</td><td>ENSMUSG00000022041</td><td>14</td><td>66372488 </td><td>66390397 </td><td>+</td></tr>\n",
       "\t<tr><td>MGI:87887</td><td>Gene</td><td>Chrna3  </td><td>cholinergic receptor, nicotinic, alpha polypeptide 3                      </td><td>GRCm39</td><td>110834</td><td>9 </td><td>54917401 </td><td>54933846 </td><td>-</td><td>ENSMUSG00000032303</td><td>9 </td><td>54917395 </td><td>54933846 </td><td>-</td></tr>\n",
       "\t<tr><td>MGI:87888</td><td>Gene</td><td>Chrna4  </td><td>cholinergic receptor, nicotinic, alpha polypeptide 4                      </td><td>GRCm39</td><td>11438 </td><td>2 </td><td>180664104</td><td>180685365</td><td>-</td><td>ENSMUSG00000027577</td><td>2 </td><td>180660173</td><td>180685339</td><td>-</td></tr>\n",
       "\t<tr><td>MGI:87889</td><td>Gene</td><td>Chrna5  </td><td>cholinergic receptor, nicotinic, alpha polypeptide 5                      </td><td>GRCm39</td><td>110835</td><td>9 </td><td>54888112 </td><td>54918704 </td><td>+</td><td>ENSMUSG00000035594</td><td>9 </td><td>54888164 </td><td>54915063 </td><td>+</td></tr>\n",
       "\t<tr><td>MGI:87890</td><td>Gene</td><td>Chrnb1  </td><td>cholinergic receptor, nicotinic, beta polypeptide 1 (muscle)              </td><td>GRCm39</td><td>11443 </td><td>11</td><td>69674862 </td><td>69686791 </td><td>-</td><td>ENSMUSG00000041189</td><td>11</td><td>69674862 </td><td>69686769 </td><td>-</td></tr>\n",
       "\t<tr><td>MGI:87891</td><td>Gene</td><td>Chrnb2  </td><td>cholinergic receptor, nicotinic, beta polypeptide 2 (neuronal)            </td><td>GRCm39</td><td>11444 </td><td>3 </td><td>89660755 </td><td>89671939 </td><td>-</td><td>ENSMUSG00000027950</td><td>3 </td><td>89653502 </td><td>89671939 </td><td>-</td></tr>\n",
       "\t<tr><td>MGI:87892</td><td>Gene</td><td>Chrnb4  </td><td>cholinergic receptor, nicotinic, beta polypeptide 4                       </td><td>GRCm39</td><td>108015</td><td>9 </td><td>54935438 </td><td>54956236 </td><td>-</td><td>ENSMUSG00000035200</td><td>9 </td><td>54935438 </td><td>54956063 </td><td>-</td></tr>\n",
       "\t<tr><td>⋮</td><td>⋮</td><td>⋮</td><td>⋮</td><td>⋮</td><td>⋮</td><td>⋮</td><td>⋮</td><td>⋮</td><td>⋮</td><td>⋮</td><td>⋮</td><td>⋮</td><td>⋮</td><td>⋮</td></tr>\n",
       "\t<tr><td>MGI:6367134</td><td>Pseudogene</td><td>Gm52758 </td><td>predicted gene, 52758                       </td><td>GRCm39</td><td>115490073</td><td>4 </td><td>132213196</td><td>132213305</td><td>+</td><td>ENSMUSG00000119534</td><td>4 </td><td>132213196</td><td>132213305</td><td>+</td></tr>\n",
       "\t<tr><td>MGI:6367135</td><td>Pseudogene</td><td>Gm52759 </td><td>predicted gene, 52759                       </td><td>GRCm39</td><td>115490078</td><td>4 </td><td>12588945 </td><td>12589074 </td><td>-</td><td>ENSMUSG00000119850</td><td>4 </td><td>12588945 </td><td>12589074 </td><td>-</td></tr>\n",
       "\t<tr><td>MGI:6367137</td><td>Pseudogene</td><td>Gm52761 </td><td>predicted gene, 52761                       </td><td>GRCm39</td><td>115490081</td><td>4 </td><td>20228805 </td><td>20228948 </td><td>+</td><td>ENSMUSG00000119517</td><td>4 </td><td>20228805 </td><td>20228948 </td><td>+</td></tr>\n",
       "\t<tr><td>MGI:6367138</td><td>Pseudogene</td><td>Gm52762 </td><td>predicted gene, 52762                       </td><td>GRCm39</td><td>115490082</td><td>4 </td><td>69169833 </td><td>69169966 </td><td>+</td><td>ENSMUSG00001118667</td><td>4 </td><td>69169833 </td><td>69169966 </td><td>+</td></tr>\n",
       "\t<tr><td>MGI:6367280</td><td>Pseudogene</td><td>Gm52839 </td><td>predicted gene, 52839                       </td><td>GRCm39</td><td>115490281</td><td>5 </td><td>28930584 </td><td>28930717 </td><td>+</td><td>ENSMUSG00000119337</td><td>5 </td><td>28930584 </td><td>28930717 </td><td>+</td></tr>\n",
       "\t<tr><td>MGI:6367281</td><td>Pseudogene</td><td>Gm52846 </td><td>predicted gene, 52846                       </td><td>GRCm39</td><td>115490308</td><td>5 </td><td>54206466 </td><td>54206603 </td><td>-</td><td>ENSMUSG00000119189</td><td>5 </td><td>54206466 </td><td>54206603 </td><td>-</td></tr>\n",
       "\t<tr><td>MGI:6367283</td><td>Pseudogene</td><td>Gm52849 </td><td>predicted gene, 52849                       </td><td>GRCm39</td><td>115490311</td><td>5 </td><td>59928540 </td><td>59928688 </td><td>+</td><td>ENSMUSG00000118739</td><td>5 </td><td>59928540 </td><td>59928688 </td><td>+</td></tr>\n",
       "\t<tr><td>MGI:6367284</td><td>Pseudogene</td><td>Gm52850 </td><td>predicted gene, 52850                       </td><td>GRCm39</td><td>115490312</td><td>5 </td><td>83386175 </td><td>83386248 </td><td>-</td><td>ENSMUSG00000119514</td><td>5 </td><td>83386175 </td><td>83386248 </td><td>-</td></tr>\n",
       "\t<tr><td>MGI:6367285</td><td>Pseudogene</td><td>Gm52851 </td><td>predicted gene, 52851                       </td><td>GRCm39</td><td>115490313</td><td>5 </td><td>108541109</td><td>108541230</td><td>-</td><td>ENSMUSG00000118791</td><td>5 </td><td>108541109</td><td>108541230</td><td>-</td></tr>\n",
       "\t<tr><td>MGI:6367286</td><td>Pseudogene</td><td>Gm52852 </td><td>predicted gene, 52852                       </td><td>GRCm39</td><td>115490315</td><td>5 </td><td>16053263 </td><td>16053461 </td><td>-</td><td>ENSMUSG00000119060</td><td>5 </td><td>16053263 </td><td>16053461 </td><td>-</td></tr>\n",
       "\t<tr><td>MGI:6367426</td><td>Pseudogene</td><td>Gm52941 </td><td>predicted gene, 52941                       </td><td>GRCm39</td><td>115490502</td><td>6 </td><td>8550209  </td><td>8550382  </td><td>-</td><td>ENSMUSG00000119193</td><td>6 </td><td>8550209  </td><td>8550382  </td><td>-</td></tr>\n",
       "\t<tr><td>MGI:6367427</td><td>Pseudogene</td><td>Gm52942 </td><td>predicted gene, 52942                       </td><td>GRCm39</td><td>115490503</td><td>6 </td><td>4467849  </td><td>4468000  </td><td>+</td><td>ENSMUSG00000119081</td><td>6 </td><td>4467849  </td><td>4468000  </td><td>+</td></tr>\n",
       "\t<tr><td>MGI:6367428</td><td>Pseudogene</td><td>Gm52943 </td><td>predicted gene, 52943                       </td><td>GRCm39</td><td>115490505</td><td>6 </td><td>76609641 </td><td>76609779 </td><td>+</td><td>ENSMUSG00000119319</td><td>6 </td><td>76609641 </td><td>76609779 </td><td>+</td></tr>\n",
       "\t<tr><td>MGI:6367429</td><td>Pseudogene</td><td>Gm52944 </td><td>predicted gene, 52944                       </td><td>GRCm39</td><td>115490506</td><td>6 </td><td>114980008</td><td>114980089</td><td>+</td><td>ENSMUSG00000119854</td><td>6 </td><td>114980008</td><td>114980089</td><td>+</td></tr>\n",
       "\t<tr><td>MGI:6388753</td><td>Gene      </td><td>Fam177b </td><td>family with sequence similarity 177 member B</td><td>GRCm39</td><td>115486412</td><td>1 </td><td>183010580</td><td>183057296</td><td>-</td><td>ENSMUSG00000118599</td><td>1 </td><td>183048156</td><td>183051138</td><td>-</td></tr>\n",
       "\t<tr><td>MGI:6388873</td><td>Pseudogene</td><td>Gm52989 </td><td>predicted gene, 52989                       </td><td>GRCm39</td><td>108169010</td><td>4 </td><td>42586703 </td><td>42590250 </td><td>+</td><td>ENSMUSG00000118603</td><td>4 </td><td>42587458 </td><td>42589768 </td><td>+</td></tr>\n",
       "\t<tr><td>MGI:6388935</td><td>Gene      </td><td>Gm53042 </td><td>predicted gene, 53042                       </td><td>GRCm39</td><td>115487730</td><td>11</td><td>65050704 </td><td>65061086 </td><td>+</td><td>ENSMUSG00000118601</td><td>11</td><td>65050785 </td><td>65062050 </td><td>+</td></tr>\n",
       "\t<tr><td>MGI:6434092</td><td>Pseudogene</td><td>Gm53051 </td><td>predicted gene, 53051                       </td><td>GRCm39</td><td>118567431</td><td>6 </td><td>130655052</td><td>130675979</td><td>-</td><td>ENSMUSG00000107898</td><td>6 </td><td>130654065</td><td>130674944</td><td>-</td></tr>\n",
       "\t<tr><td>MGI:6434099</td><td>Pseudogene</td><td>Gm53052 </td><td>predicted gene, 53052                       </td><td>GRCm39</td><td>115486437</td><td>6 </td><td>130459466</td><td>130498847</td><td>-</td><td>ENSMUSG00000098212</td><td>6 </td><td>130460152</td><td>130480544</td><td>-</td></tr>\n",
       "\t<tr><td>MGI:6435153</td><td>Pseudogene</td><td>Gm53054 </td><td>predicted gene 53054                        </td><td>GRCm39</td><td>118027459</td><td>1 </td><td>102377086</td><td>102424268</td><td>+</td><td>ENSMUSG00000101890</td><td>1 </td><td>102377078</td><td>102465381</td><td>+</td></tr>\n",
       "\t<tr><td>MGI:6435211</td><td>Pseudogene</td><td>Gm53055 </td><td>predicted gene 53055                        </td><td>GRCm39</td><td>117997401</td><td>19</td><td>16141461 </td><td>16142215 </td><td>-</td><td>ENSMUSG00000057990</td><td>19</td><td>16141676 </td><td>16142169 </td><td>-</td></tr>\n",
       "\t<tr><td>MGI:6435214</td><td>Pseudogene</td><td>Gm53056 </td><td>predicted gene 53056                        </td><td>GRCm39</td><td>118027461</td><td>1 </td><td>85016786 </td><td>85019683 </td><td>-</td><td>ENSMUSG00000061852</td><td>1 </td><td>85016786 </td><td>85019679 </td><td>-</td></tr>\n",
       "\t<tr><td>MGI:6435216</td><td>Gene      </td><td>Gm53057 </td><td>predicted gene 53057                        </td><td>GRCm39</td><td>115488140</td><td>13</td><td>65837419 </td><td>65847015 </td><td>-</td><td>ENSMUSG00000113260</td><td>13</td><td>65837427 </td><td>65861268 </td><td>-</td></tr>\n",
       "\t<tr><td>MGI:6435685</td><td>Gene      </td><td>Gm53058 </td><td>predicted gene 53058                        </td><td>GRCm39</td><td>118027462</td><td>16</td><td>13265816 </td><td>13285094 </td><td>+</td><td>ENSMUSG00000109857</td><td>16</td><td>13280410 </td><td>13285101 </td><td>+</td></tr>\n",
       "\t<tr><td>MGI:6436280</td><td>Pseudogene</td><td>Gm53064 </td><td>53064                                       </td><td>GRCm39</td><td>100504039</td><td>X </td><td>52688604 </td><td>52693256 </td><td>+</td><td>ENSMUSG00000071763</td><td>X </td><td>52688604 </td><td>52692886 </td><td>+</td></tr>\n",
       "\t<tr><td>MGI:6436715</td><td>Gene      </td><td>Gm53065 </td><td>predicted gene 53065                        </td><td>GRCm39</td><td>118126071</td><td>1 </td><td>52552438 </td><td>52621832 </td><td>+</td><td>ENSMUSG00000100120</td><td>1 </td><td>52562061 </td><td>52621838 </td><td>+</td></tr>\n",
       "\t<tr><td>MGI:6467476</td><td>Gene      </td><td>Mir12184</td><td>microRNA 12184                              </td><td>GRCm39</td><td>114482816</td><td>13</td><td>25164038 </td><td>25164101 </td><td>+</td><td>ENSMUSG00000119479</td><td>13</td><td>25164038 </td><td>25164101 </td><td>+</td></tr>\n",
       "\t<tr><td>MGI:6468343</td><td>Gene      </td><td>Mir12191</td><td>microRNA 12191                              </td><td>GRCm39</td><td>114482853</td><td>18</td><td>34892572 </td><td>34892650 </td><td>+</td><td>ENSMUSG00000119248</td><td>18</td><td>34892572 </td><td>34892620 </td><td>+</td></tr>\n",
       "\t<tr><td>MGI:6468345</td><td>Gene      </td><td>Mir12188</td><td>microRNA 12188                              </td><td>GRCm39</td><td>114483643</td><td>17</td><td>25379477 </td><td>25379550 </td><td>+</td><td>ENSMUSG00000118985</td><td>17</td><td>25379477 </td><td>25379550 </td><td>+</td></tr>\n",
       "\t<tr><td>MGI:6468350</td><td>Gene      </td><td>Mir12193</td><td>microRNA 12193                              </td><td>GRCm39</td><td>114483358</td><td>19</td><td>6184831  </td><td>6184893  </td><td>-</td><td>ENSMUSG00000118826</td><td>19</td><td>6184831  </td><td>6184893  </td><td>-</td></tr>\n",
       "</tbody>\n",
       "</table>\n"
      ],
      "text/latex": [
       "A spec\\_tbl\\_df: 39733 × 15\n",
       "\\begin{tabular}{lllllllllllllll}\n",
       " 1. MGI accession id & 2. marker type & 3. marker symbol & 4. marker name & 5. genome build & 6. Entrez gene id & 7. NCBI gene chromosome & 8. NCBI gene start & 9. NCBI gene end & 10. NCBI gene strand & 11. Ensembl gene id & 12. Ensembl gene chromosome & 13. Ensembl gene start & 14. Ensembl gene end & 15. Ensembl gene strand\\\\\n",
       " <chr> & <chr> & <chr> & <chr> & <chr> & <chr> & <chr> & <chr> & <chr> & <chr> & <chr> & <chr> & <chr> & <chr> & <chr>\\\\\n",
       "\\hline\n",
       "\t MGI:87853 & Gene & a        & nonagouti                                                                  & GRCm39 & 50518  & 2  & 154792519 & 154892932 & + & ENSMUSG00000027596 & 2  & 154633322 & 154892932 & +\\\\\n",
       "\t MGI:87854 & Gene & Pzp      & PZP, alpha-2-macroglobulin like                                            & GRCm39 & 11287  & 6  & 128460530 & 128503683 & - & ENSMUSG00000030359 & 6  & 128460530 & 128503683 & -\\\\\n",
       "\t MGI:87859 & Gene & Abl1     & c-abl oncogene 1, non-receptor tyrosine kinase                             & GRCm39 & 11350  & 2  & 31578256  & 31697105  & + & ENSMUSG00000026842 & 2  & 31578388  & 31694239  & +\\\\\n",
       "\t MGI:87860 & Gene & Abl2     & v-abl Abelson murine leukemia viral oncogene 2 (arg, Abelson-related gene) & GRCm39 & 11352  & 1  & 156386160 & 156477189 & + & ENSMUSG00000026596 & 1  & 156386356 & 156477138 & +\\\\\n",
       "\t MGI:87862 & Gene & Scgb1b27 & secretoglobin, family 1B, member 27                                        & GRCm39 & 11354  & 7  & 33720906  & 33722306  & + & ENSMUSG00000066583 & 7  & 33720908  & 33722306  & +\\\\\n",
       "\t MGI:87863 & Gene & Scgb2b27 & secretoglobin, family 2B, member 27                                        & GRCm39 & 233099 & 7  & 33711344  & 33713367  & - & ENSMUSG00000066584 & 7  & 33711346  & 33713367  & -\\\\\n",
       "\t MGI:87864 & Gene & Scgb2b26 & secretoglobin, family 2B, member 26                                        & GRCm39 & 110187 & 7  & 33642422  & 33644410  & - & ENSMUSG00000066586 & 7  & 33642427  & 33644465  & -\\\\\n",
       "\t MGI:87866 & Gene & Acadl    & acyl-Coenzyme A dehydrogenase, long-chain                                  & GRCm39 & 11363  & 1  & 66869998  & 66902468  & - & ENSMUSG00000026003 & 1  & 66869998  & 66902436  & -\\\\\n",
       "\t MGI:87867 & Gene & Acadm    & acyl-Coenzyme A dehydrogenase, medium chain                                & GRCm39 & 11364  & 3  & 153627990 & 153650280 & - & ENSMUSG00000062908 & 3  & 153627994 & 153650269 & -\\\\\n",
       "\t MGI:87868 & Gene & Acads    & acyl-Coenzyme A dehydrogenase, short chain                                 & GRCm39 & 11409  & 5  & 115248358 & 115257405 & - & ENSMUSG00000029545 & 5  & 115248358 & 115257405 & -\\\\\n",
       "\t MGI:87870 & Gene & Acat1    & acetyl-Coenzyme A acetyltransferase 1                                      & GRCm39 & 110446 & 9  & 53491822  & 53521650  & - & ENSMUSG00000032047 & 9  & 53491822  & 53521682  & -\\\\\n",
       "\t MGI:87871 & Gene & Acat2    & acetyl-Coenzyme A acetyltransferase 2                                      & GRCm39 & 110460 & 17 & 13161929  & 13179612  & - & ENSMUSG00000023832 & 17 & 13161777  & 13179634  & -\\\\\n",
       "\t MGI:87873 & Gene & Acd      & adrenocortical dysplasia                                                   & GRCm39 & 497652 & 8  & 106424787 & 106427860 & - & ENSMUSG00000038000 & 8  & 106422492 & 106427734 & -\\\\\n",
       "\t MGI:87874 & Gene & Ace      & angiotensin I converting enzyme (peptidyl-dipeptidase A) 1                 & GRCm39 & 11421  & 11 & 105858774 & 105880790 & + & ENSMUSG00000020681 & 11 & 105858771 & 105880790 & +\\\\\n",
       "\t MGI:87876 & Gene & Ache     & acetylcholinesterase                                                       & GRCm39 & 11423  & 5  & 137286516 & 137292728 & + & ENSMUSG00000023328 & 5  & 137285781 & 137292728 & +\\\\\n",
       "\t MGI:87878 & Gene & Apoc4    & apolipoprotein C-IV                                                        & GRCm39 & 11425  & 7  & 19412009  & 19415385  & - & ENSMUSG00000074336 & 7  & 19412008  & 19415404  & -\\\\\n",
       "\t MGI:87879 & Gene & Aco1     & aconitase 1                                                                & GRCm39 & 11428  & 4  & 40143265  & 40199009  & + & ENSMUSG00000028405 & 4  & 40143081  & 40198338  & +\\\\\n",
       "\t MGI:87880 & Gene & Aco2     & aconitase 2, mitochondrial                                                 & GRCm39 & 11429  & 15 & 81756664  & 81799338  & + & ENSMUSG00000022477 & 15 & 81756510  & 81799334  & +\\\\\n",
       "\t MGI:87881 & Gene & Acp1     & acid phosphatase 1, soluble                                                & GRCm39 & 11431  & 12 & 30943325  & 30961616  & - & ENSMUSG00000044573 & 12 & 30943325  & 30961588  & -\\\\\n",
       "\t MGI:87882 & Gene & Acp2     & acid phosphatase 2, lysosomal                                              & GRCm39 & 11432  & 2  & 91033157  & 91044443  & + & ENSMUSG00000002103 & 2  & 91033230  & 91044443  & +\\\\\n",
       "\t MGI:87883 & Gene & Acp5     & acid phosphatase 5, tartrate resistant                                     & GRCm39 & 11433  & 9  & 22038023  & 22047042  & - & ENSMUSG00000001348 & 9  & 22038023  & 22047007  & -\\\\\n",
       "\t MGI:87884 & Gene & Acr      & acrosin prepropeptide                                                      & GRCm39 & 11434  & 15 & 89452529  & 89463056  & + & ENSMUSG00000022622 & 15 & 89452529  & 89458788  & +\\\\\n",
       "\t MGI:87885 & Gene & Chrna1   & cholinergic receptor, nicotinic, alpha polypeptide 1 (muscle)              & GRCm39 & 11435  & 2  & 73393625  & 73410682  & - & ENSMUSG00000027107 & 2  & 73393559  & 73410682  & -\\\\\n",
       "\t MGI:87886 & Gene & Chrna2   & cholinergic receptor, nicotinic, alpha polypeptide 2 (neuronal)            & GRCm39 & 110902 & 14 & 66370685  & 66390397  & + & ENSMUSG00000022041 & 14 & 66372488  & 66390397  & +\\\\\n",
       "\t MGI:87887 & Gene & Chrna3   & cholinergic receptor, nicotinic, alpha polypeptide 3                       & GRCm39 & 110834 & 9  & 54917401  & 54933846  & - & ENSMUSG00000032303 & 9  & 54917395  & 54933846  & -\\\\\n",
       "\t MGI:87888 & Gene & Chrna4   & cholinergic receptor, nicotinic, alpha polypeptide 4                       & GRCm39 & 11438  & 2  & 180664104 & 180685365 & - & ENSMUSG00000027577 & 2  & 180660173 & 180685339 & -\\\\\n",
       "\t MGI:87889 & Gene & Chrna5   & cholinergic receptor, nicotinic, alpha polypeptide 5                       & GRCm39 & 110835 & 9  & 54888112  & 54918704  & + & ENSMUSG00000035594 & 9  & 54888164  & 54915063  & +\\\\\n",
       "\t MGI:87890 & Gene & Chrnb1   & cholinergic receptor, nicotinic, beta polypeptide 1 (muscle)               & GRCm39 & 11443  & 11 & 69674862  & 69686791  & - & ENSMUSG00000041189 & 11 & 69674862  & 69686769  & -\\\\\n",
       "\t MGI:87891 & Gene & Chrnb2   & cholinergic receptor, nicotinic, beta polypeptide 2 (neuronal)             & GRCm39 & 11444  & 3  & 89660755  & 89671939  & - & ENSMUSG00000027950 & 3  & 89653502  & 89671939  & -\\\\\n",
       "\t MGI:87892 & Gene & Chrnb4   & cholinergic receptor, nicotinic, beta polypeptide 4                        & GRCm39 & 108015 & 9  & 54935438  & 54956236  & - & ENSMUSG00000035200 & 9  & 54935438  & 54956063  & -\\\\\n",
       "\t ⋮ & ⋮ & ⋮ & ⋮ & ⋮ & ⋮ & ⋮ & ⋮ & ⋮ & ⋮ & ⋮ & ⋮ & ⋮ & ⋮ & ⋮\\\\\n",
       "\t MGI:6367134 & Pseudogene & Gm52758  & predicted gene, 52758                        & GRCm39 & 115490073 & 4  & 132213196 & 132213305 & + & ENSMUSG00000119534 & 4  & 132213196 & 132213305 & +\\\\\n",
       "\t MGI:6367135 & Pseudogene & Gm52759  & predicted gene, 52759                        & GRCm39 & 115490078 & 4  & 12588945  & 12589074  & - & ENSMUSG00000119850 & 4  & 12588945  & 12589074  & -\\\\\n",
       "\t MGI:6367137 & Pseudogene & Gm52761  & predicted gene, 52761                        & GRCm39 & 115490081 & 4  & 20228805  & 20228948  & + & ENSMUSG00000119517 & 4  & 20228805  & 20228948  & +\\\\\n",
       "\t MGI:6367138 & Pseudogene & Gm52762  & predicted gene, 52762                        & GRCm39 & 115490082 & 4  & 69169833  & 69169966  & + & ENSMUSG00001118667 & 4  & 69169833  & 69169966  & +\\\\\n",
       "\t MGI:6367280 & Pseudogene & Gm52839  & predicted gene, 52839                        & GRCm39 & 115490281 & 5  & 28930584  & 28930717  & + & ENSMUSG00000119337 & 5  & 28930584  & 28930717  & +\\\\\n",
       "\t MGI:6367281 & Pseudogene & Gm52846  & predicted gene, 52846                        & GRCm39 & 115490308 & 5  & 54206466  & 54206603  & - & ENSMUSG00000119189 & 5  & 54206466  & 54206603  & -\\\\\n",
       "\t MGI:6367283 & Pseudogene & Gm52849  & predicted gene, 52849                        & GRCm39 & 115490311 & 5  & 59928540  & 59928688  & + & ENSMUSG00000118739 & 5  & 59928540  & 59928688  & +\\\\\n",
       "\t MGI:6367284 & Pseudogene & Gm52850  & predicted gene, 52850                        & GRCm39 & 115490312 & 5  & 83386175  & 83386248  & - & ENSMUSG00000119514 & 5  & 83386175  & 83386248  & -\\\\\n",
       "\t MGI:6367285 & Pseudogene & Gm52851  & predicted gene, 52851                        & GRCm39 & 115490313 & 5  & 108541109 & 108541230 & - & ENSMUSG00000118791 & 5  & 108541109 & 108541230 & -\\\\\n",
       "\t MGI:6367286 & Pseudogene & Gm52852  & predicted gene, 52852                        & GRCm39 & 115490315 & 5  & 16053263  & 16053461  & - & ENSMUSG00000119060 & 5  & 16053263  & 16053461  & -\\\\\n",
       "\t MGI:6367426 & Pseudogene & Gm52941  & predicted gene, 52941                        & GRCm39 & 115490502 & 6  & 8550209   & 8550382   & - & ENSMUSG00000119193 & 6  & 8550209   & 8550382   & -\\\\\n",
       "\t MGI:6367427 & Pseudogene & Gm52942  & predicted gene, 52942                        & GRCm39 & 115490503 & 6  & 4467849   & 4468000   & + & ENSMUSG00000119081 & 6  & 4467849   & 4468000   & +\\\\\n",
       "\t MGI:6367428 & Pseudogene & Gm52943  & predicted gene, 52943                        & GRCm39 & 115490505 & 6  & 76609641  & 76609779  & + & ENSMUSG00000119319 & 6  & 76609641  & 76609779  & +\\\\\n",
       "\t MGI:6367429 & Pseudogene & Gm52944  & predicted gene, 52944                        & GRCm39 & 115490506 & 6  & 114980008 & 114980089 & + & ENSMUSG00000119854 & 6  & 114980008 & 114980089 & +\\\\\n",
       "\t MGI:6388753 & Gene       & Fam177b  & family with sequence similarity 177 member B & GRCm39 & 115486412 & 1  & 183010580 & 183057296 & - & ENSMUSG00000118599 & 1  & 183048156 & 183051138 & -\\\\\n",
       "\t MGI:6388873 & Pseudogene & Gm52989  & predicted gene, 52989                        & GRCm39 & 108169010 & 4  & 42586703  & 42590250  & + & ENSMUSG00000118603 & 4  & 42587458  & 42589768  & +\\\\\n",
       "\t MGI:6388935 & Gene       & Gm53042  & predicted gene, 53042                        & GRCm39 & 115487730 & 11 & 65050704  & 65061086  & + & ENSMUSG00000118601 & 11 & 65050785  & 65062050  & +\\\\\n",
       "\t MGI:6434092 & Pseudogene & Gm53051  & predicted gene, 53051                        & GRCm39 & 118567431 & 6  & 130655052 & 130675979 & - & ENSMUSG00000107898 & 6  & 130654065 & 130674944 & -\\\\\n",
       "\t MGI:6434099 & Pseudogene & Gm53052  & predicted gene, 53052                        & GRCm39 & 115486437 & 6  & 130459466 & 130498847 & - & ENSMUSG00000098212 & 6  & 130460152 & 130480544 & -\\\\\n",
       "\t MGI:6435153 & Pseudogene & Gm53054  & predicted gene 53054                         & GRCm39 & 118027459 & 1  & 102377086 & 102424268 & + & ENSMUSG00000101890 & 1  & 102377078 & 102465381 & +\\\\\n",
       "\t MGI:6435211 & Pseudogene & Gm53055  & predicted gene 53055                         & GRCm39 & 117997401 & 19 & 16141461  & 16142215  & - & ENSMUSG00000057990 & 19 & 16141676  & 16142169  & -\\\\\n",
       "\t MGI:6435214 & Pseudogene & Gm53056  & predicted gene 53056                         & GRCm39 & 118027461 & 1  & 85016786  & 85019683  & - & ENSMUSG00000061852 & 1  & 85016786  & 85019679  & -\\\\\n",
       "\t MGI:6435216 & Gene       & Gm53057  & predicted gene 53057                         & GRCm39 & 115488140 & 13 & 65837419  & 65847015  & - & ENSMUSG00000113260 & 13 & 65837427  & 65861268  & -\\\\\n",
       "\t MGI:6435685 & Gene       & Gm53058  & predicted gene 53058                         & GRCm39 & 118027462 & 16 & 13265816  & 13285094  & + & ENSMUSG00000109857 & 16 & 13280410  & 13285101  & +\\\\\n",
       "\t MGI:6436280 & Pseudogene & Gm53064  & 53064                                        & GRCm39 & 100504039 & X  & 52688604  & 52693256  & + & ENSMUSG00000071763 & X  & 52688604  & 52692886  & +\\\\\n",
       "\t MGI:6436715 & Gene       & Gm53065  & predicted gene 53065                         & GRCm39 & 118126071 & 1  & 52552438  & 52621832  & + & ENSMUSG00000100120 & 1  & 52562061  & 52621838  & +\\\\\n",
       "\t MGI:6467476 & Gene       & Mir12184 & microRNA 12184                               & GRCm39 & 114482816 & 13 & 25164038  & 25164101  & + & ENSMUSG00000119479 & 13 & 25164038  & 25164101  & +\\\\\n",
       "\t MGI:6468343 & Gene       & Mir12191 & microRNA 12191                               & GRCm39 & 114482853 & 18 & 34892572  & 34892650  & + & ENSMUSG00000119248 & 18 & 34892572  & 34892620  & +\\\\\n",
       "\t MGI:6468345 & Gene       & Mir12188 & microRNA 12188                               & GRCm39 & 114483643 & 17 & 25379477  & 25379550  & + & ENSMUSG00000118985 & 17 & 25379477  & 25379550  & +\\\\\n",
       "\t MGI:6468350 & Gene       & Mir12193 & microRNA 12193                               & GRCm39 & 114483358 & 19 & 6184831   & 6184893   & - & ENSMUSG00000118826 & 19 & 6184831   & 6184893   & -\\\\\n",
       "\\end{tabular}\n"
      ],
      "text/markdown": [
       "\n",
       "A spec_tbl_df: 39733 × 15\n",
       "\n",
       "| 1. MGI accession id &lt;chr&gt; | 2. marker type &lt;chr&gt; | 3. marker symbol &lt;chr&gt; | 4. marker name &lt;chr&gt; | 5. genome build &lt;chr&gt; | 6. Entrez gene id &lt;chr&gt; | 7. NCBI gene chromosome &lt;chr&gt; | 8. NCBI gene start &lt;chr&gt; | 9. NCBI gene end &lt;chr&gt; | 10. NCBI gene strand &lt;chr&gt; | 11. Ensembl gene id &lt;chr&gt; | 12. Ensembl gene chromosome &lt;chr&gt; | 13. Ensembl gene start &lt;chr&gt; | 14. Ensembl gene end &lt;chr&gt; | 15. Ensembl gene strand &lt;chr&gt; |\n",
       "|---|---|---|---|---|---|---|---|---|---|---|---|---|---|---|\n",
       "| MGI:87853 | Gene | a        | nonagouti                                                                  | GRCm39 | 50518  | 2  | 154792519 | 154892932 | + | ENSMUSG00000027596 | 2  | 154633322 | 154892932 | + |\n",
       "| MGI:87854 | Gene | Pzp      | PZP, alpha-2-macroglobulin like                                            | GRCm39 | 11287  | 6  | 128460530 | 128503683 | - | ENSMUSG00000030359 | 6  | 128460530 | 128503683 | - |\n",
       "| MGI:87859 | Gene | Abl1     | c-abl oncogene 1, non-receptor tyrosine kinase                             | GRCm39 | 11350  | 2  | 31578256  | 31697105  | + | ENSMUSG00000026842 | 2  | 31578388  | 31694239  | + |\n",
       "| MGI:87860 | Gene | Abl2     | v-abl Abelson murine leukemia viral oncogene 2 (arg, Abelson-related gene) | GRCm39 | 11352  | 1  | 156386160 | 156477189 | + | ENSMUSG00000026596 | 1  | 156386356 | 156477138 | + |\n",
       "| MGI:87862 | Gene | Scgb1b27 | secretoglobin, family 1B, member 27                                        | GRCm39 | 11354  | 7  | 33720906  | 33722306  | + | ENSMUSG00000066583 | 7  | 33720908  | 33722306  | + |\n",
       "| MGI:87863 | Gene | Scgb2b27 | secretoglobin, family 2B, member 27                                        | GRCm39 | 233099 | 7  | 33711344  | 33713367  | - | ENSMUSG00000066584 | 7  | 33711346  | 33713367  | - |\n",
       "| MGI:87864 | Gene | Scgb2b26 | secretoglobin, family 2B, member 26                                        | GRCm39 | 110187 | 7  | 33642422  | 33644410  | - | ENSMUSG00000066586 | 7  | 33642427  | 33644465  | - |\n",
       "| MGI:87866 | Gene | Acadl    | acyl-Coenzyme A dehydrogenase, long-chain                                  | GRCm39 | 11363  | 1  | 66869998  | 66902468  | - | ENSMUSG00000026003 | 1  | 66869998  | 66902436  | - |\n",
       "| MGI:87867 | Gene | Acadm    | acyl-Coenzyme A dehydrogenase, medium chain                                | GRCm39 | 11364  | 3  | 153627990 | 153650280 | - | ENSMUSG00000062908 | 3  | 153627994 | 153650269 | - |\n",
       "| MGI:87868 | Gene | Acads    | acyl-Coenzyme A dehydrogenase, short chain                                 | GRCm39 | 11409  | 5  | 115248358 | 115257405 | - | ENSMUSG00000029545 | 5  | 115248358 | 115257405 | - |\n",
       "| MGI:87870 | Gene | Acat1    | acetyl-Coenzyme A acetyltransferase 1                                      | GRCm39 | 110446 | 9  | 53491822  | 53521650  | - | ENSMUSG00000032047 | 9  | 53491822  | 53521682  | - |\n",
       "| MGI:87871 | Gene | Acat2    | acetyl-Coenzyme A acetyltransferase 2                                      | GRCm39 | 110460 | 17 | 13161929  | 13179612  | - | ENSMUSG00000023832 | 17 | 13161777  | 13179634  | - |\n",
       "| MGI:87873 | Gene | Acd      | adrenocortical dysplasia                                                   | GRCm39 | 497652 | 8  | 106424787 | 106427860 | - | ENSMUSG00000038000 | 8  | 106422492 | 106427734 | - |\n",
       "| MGI:87874 | Gene | Ace      | angiotensin I converting enzyme (peptidyl-dipeptidase A) 1                 | GRCm39 | 11421  | 11 | 105858774 | 105880790 | + | ENSMUSG00000020681 | 11 | 105858771 | 105880790 | + |\n",
       "| MGI:87876 | Gene | Ache     | acetylcholinesterase                                                       | GRCm39 | 11423  | 5  | 137286516 | 137292728 | + | ENSMUSG00000023328 | 5  | 137285781 | 137292728 | + |\n",
       "| MGI:87878 | Gene | Apoc4    | apolipoprotein C-IV                                                        | GRCm39 | 11425  | 7  | 19412009  | 19415385  | - | ENSMUSG00000074336 | 7  | 19412008  | 19415404  | - |\n",
       "| MGI:87879 | Gene | Aco1     | aconitase 1                                                                | GRCm39 | 11428  | 4  | 40143265  | 40199009  | + | ENSMUSG00000028405 | 4  | 40143081  | 40198338  | + |\n",
       "| MGI:87880 | Gene | Aco2     | aconitase 2, mitochondrial                                                 | GRCm39 | 11429  | 15 | 81756664  | 81799338  | + | ENSMUSG00000022477 | 15 | 81756510  | 81799334  | + |\n",
       "| MGI:87881 | Gene | Acp1     | acid phosphatase 1, soluble                                                | GRCm39 | 11431  | 12 | 30943325  | 30961616  | - | ENSMUSG00000044573 | 12 | 30943325  | 30961588  | - |\n",
       "| MGI:87882 | Gene | Acp2     | acid phosphatase 2, lysosomal                                              | GRCm39 | 11432  | 2  | 91033157  | 91044443  | + | ENSMUSG00000002103 | 2  | 91033230  | 91044443  | + |\n",
       "| MGI:87883 | Gene | Acp5     | acid phosphatase 5, tartrate resistant                                     | GRCm39 | 11433  | 9  | 22038023  | 22047042  | - | ENSMUSG00000001348 | 9  | 22038023  | 22047007  | - |\n",
       "| MGI:87884 | Gene | Acr      | acrosin prepropeptide                                                      | GRCm39 | 11434  | 15 | 89452529  | 89463056  | + | ENSMUSG00000022622 | 15 | 89452529  | 89458788  | + |\n",
       "| MGI:87885 | Gene | Chrna1   | cholinergic receptor, nicotinic, alpha polypeptide 1 (muscle)              | GRCm39 | 11435  | 2  | 73393625  | 73410682  | - | ENSMUSG00000027107 | 2  | 73393559  | 73410682  | - |\n",
       "| MGI:87886 | Gene | Chrna2   | cholinergic receptor, nicotinic, alpha polypeptide 2 (neuronal)            | GRCm39 | 110902 | 14 | 66370685  | 66390397  | + | ENSMUSG00000022041 | 14 | 66372488  | 66390397  | + |\n",
       "| MGI:87887 | Gene | Chrna3   | cholinergic receptor, nicotinic, alpha polypeptide 3                       | GRCm39 | 110834 | 9  | 54917401  | 54933846  | - | ENSMUSG00000032303 | 9  | 54917395  | 54933846  | - |\n",
       "| MGI:87888 | Gene | Chrna4   | cholinergic receptor, nicotinic, alpha polypeptide 4                       | GRCm39 | 11438  | 2  | 180664104 | 180685365 | - | ENSMUSG00000027577 | 2  | 180660173 | 180685339 | - |\n",
       "| MGI:87889 | Gene | Chrna5   | cholinergic receptor, nicotinic, alpha polypeptide 5                       | GRCm39 | 110835 | 9  | 54888112  | 54918704  | + | ENSMUSG00000035594 | 9  | 54888164  | 54915063  | + |\n",
       "| MGI:87890 | Gene | Chrnb1   | cholinergic receptor, nicotinic, beta polypeptide 1 (muscle)               | GRCm39 | 11443  | 11 | 69674862  | 69686791  | - | ENSMUSG00000041189 | 11 | 69674862  | 69686769  | - |\n",
       "| MGI:87891 | Gene | Chrnb2   | cholinergic receptor, nicotinic, beta polypeptide 2 (neuronal)             | GRCm39 | 11444  | 3  | 89660755  | 89671939  | - | ENSMUSG00000027950 | 3  | 89653502  | 89671939  | - |\n",
       "| MGI:87892 | Gene | Chrnb4   | cholinergic receptor, nicotinic, beta polypeptide 4                        | GRCm39 | 108015 | 9  | 54935438  | 54956236  | - | ENSMUSG00000035200 | 9  | 54935438  | 54956063  | - |\n",
       "| ⋮ | ⋮ | ⋮ | ⋮ | ⋮ | ⋮ | ⋮ | ⋮ | ⋮ | ⋮ | ⋮ | ⋮ | ⋮ | ⋮ | ⋮ |\n",
       "| MGI:6367134 | Pseudogene | Gm52758  | predicted gene, 52758                        | GRCm39 | 115490073 | 4  | 132213196 | 132213305 | + | ENSMUSG00000119534 | 4  | 132213196 | 132213305 | + |\n",
       "| MGI:6367135 | Pseudogene | Gm52759  | predicted gene, 52759                        | GRCm39 | 115490078 | 4  | 12588945  | 12589074  | - | ENSMUSG00000119850 | 4  | 12588945  | 12589074  | - |\n",
       "| MGI:6367137 | Pseudogene | Gm52761  | predicted gene, 52761                        | GRCm39 | 115490081 | 4  | 20228805  | 20228948  | + | ENSMUSG00000119517 | 4  | 20228805  | 20228948  | + |\n",
       "| MGI:6367138 | Pseudogene | Gm52762  | predicted gene, 52762                        | GRCm39 | 115490082 | 4  | 69169833  | 69169966  | + | ENSMUSG00001118667 | 4  | 69169833  | 69169966  | + |\n",
       "| MGI:6367280 | Pseudogene | Gm52839  | predicted gene, 52839                        | GRCm39 | 115490281 | 5  | 28930584  | 28930717  | + | ENSMUSG00000119337 | 5  | 28930584  | 28930717  | + |\n",
       "| MGI:6367281 | Pseudogene | Gm52846  | predicted gene, 52846                        | GRCm39 | 115490308 | 5  | 54206466  | 54206603  | - | ENSMUSG00000119189 | 5  | 54206466  | 54206603  | - |\n",
       "| MGI:6367283 | Pseudogene | Gm52849  | predicted gene, 52849                        | GRCm39 | 115490311 | 5  | 59928540  | 59928688  | + | ENSMUSG00000118739 | 5  | 59928540  | 59928688  | + |\n",
       "| MGI:6367284 | Pseudogene | Gm52850  | predicted gene, 52850                        | GRCm39 | 115490312 | 5  | 83386175  | 83386248  | - | ENSMUSG00000119514 | 5  | 83386175  | 83386248  | - |\n",
       "| MGI:6367285 | Pseudogene | Gm52851  | predicted gene, 52851                        | GRCm39 | 115490313 | 5  | 108541109 | 108541230 | - | ENSMUSG00000118791 | 5  | 108541109 | 108541230 | - |\n",
       "| MGI:6367286 | Pseudogene | Gm52852  | predicted gene, 52852                        | GRCm39 | 115490315 | 5  | 16053263  | 16053461  | - | ENSMUSG00000119060 | 5  | 16053263  | 16053461  | - |\n",
       "| MGI:6367426 | Pseudogene | Gm52941  | predicted gene, 52941                        | GRCm39 | 115490502 | 6  | 8550209   | 8550382   | - | ENSMUSG00000119193 | 6  | 8550209   | 8550382   | - |\n",
       "| MGI:6367427 | Pseudogene | Gm52942  | predicted gene, 52942                        | GRCm39 | 115490503 | 6  | 4467849   | 4468000   | + | ENSMUSG00000119081 | 6  | 4467849   | 4468000   | + |\n",
       "| MGI:6367428 | Pseudogene | Gm52943  | predicted gene, 52943                        | GRCm39 | 115490505 | 6  | 76609641  | 76609779  | + | ENSMUSG00000119319 | 6  | 76609641  | 76609779  | + |\n",
       "| MGI:6367429 | Pseudogene | Gm52944  | predicted gene, 52944                        | GRCm39 | 115490506 | 6  | 114980008 | 114980089 | + | ENSMUSG00000119854 | 6  | 114980008 | 114980089 | + |\n",
       "| MGI:6388753 | Gene       | Fam177b  | family with sequence similarity 177 member B | GRCm39 | 115486412 | 1  | 183010580 | 183057296 | - | ENSMUSG00000118599 | 1  | 183048156 | 183051138 | - |\n",
       "| MGI:6388873 | Pseudogene | Gm52989  | predicted gene, 52989                        | GRCm39 | 108169010 | 4  | 42586703  | 42590250  | + | ENSMUSG00000118603 | 4  | 42587458  | 42589768  | + |\n",
       "| MGI:6388935 | Gene       | Gm53042  | predicted gene, 53042                        | GRCm39 | 115487730 | 11 | 65050704  | 65061086  | + | ENSMUSG00000118601 | 11 | 65050785  | 65062050  | + |\n",
       "| MGI:6434092 | Pseudogene | Gm53051  | predicted gene, 53051                        | GRCm39 | 118567431 | 6  | 130655052 | 130675979 | - | ENSMUSG00000107898 | 6  | 130654065 | 130674944 | - |\n",
       "| MGI:6434099 | Pseudogene | Gm53052  | predicted gene, 53052                        | GRCm39 | 115486437 | 6  | 130459466 | 130498847 | - | ENSMUSG00000098212 | 6  | 130460152 | 130480544 | - |\n",
       "| MGI:6435153 | Pseudogene | Gm53054  | predicted gene 53054                         | GRCm39 | 118027459 | 1  | 102377086 | 102424268 | + | ENSMUSG00000101890 | 1  | 102377078 | 102465381 | + |\n",
       "| MGI:6435211 | Pseudogene | Gm53055  | predicted gene 53055                         | GRCm39 | 117997401 | 19 | 16141461  | 16142215  | - | ENSMUSG00000057990 | 19 | 16141676  | 16142169  | - |\n",
       "| MGI:6435214 | Pseudogene | Gm53056  | predicted gene 53056                         | GRCm39 | 118027461 | 1  | 85016786  | 85019683  | - | ENSMUSG00000061852 | 1  | 85016786  | 85019679  | - |\n",
       "| MGI:6435216 | Gene       | Gm53057  | predicted gene 53057                         | GRCm39 | 115488140 | 13 | 65837419  | 65847015  | - | ENSMUSG00000113260 | 13 | 65837427  | 65861268  | - |\n",
       "| MGI:6435685 | Gene       | Gm53058  | predicted gene 53058                         | GRCm39 | 118027462 | 16 | 13265816  | 13285094  | + | ENSMUSG00000109857 | 16 | 13280410  | 13285101  | + |\n",
       "| MGI:6436280 | Pseudogene | Gm53064  | 53064                                        | GRCm39 | 100504039 | X  | 52688604  | 52693256  | + | ENSMUSG00000071763 | X  | 52688604  | 52692886  | + |\n",
       "| MGI:6436715 | Gene       | Gm53065  | predicted gene 53065                         | GRCm39 | 118126071 | 1  | 52552438  | 52621832  | + | ENSMUSG00000100120 | 1  | 52562061  | 52621838  | + |\n",
       "| MGI:6467476 | Gene       | Mir12184 | microRNA 12184                               | GRCm39 | 114482816 | 13 | 25164038  | 25164101  | + | ENSMUSG00000119479 | 13 | 25164038  | 25164101  | + |\n",
       "| MGI:6468343 | Gene       | Mir12191 | microRNA 12191                               | GRCm39 | 114482853 | 18 | 34892572  | 34892650  | + | ENSMUSG00000119248 | 18 | 34892572  | 34892620  | + |\n",
       "| MGI:6468345 | Gene       | Mir12188 | microRNA 12188                               | GRCm39 | 114483643 | 17 | 25379477  | 25379550  | + | ENSMUSG00000118985 | 17 | 25379477  | 25379550  | + |\n",
       "| MGI:6468350 | Gene       | Mir12193 | microRNA 12193                               | GRCm39 | 114483358 | 19 | 6184831   | 6184893   | - | ENSMUSG00000118826 | 19 | 6184831   | 6184893   | - |\n",
       "\n"
      ],
      "text/plain": [
       "      1. MGI accession id 2. marker type 3. marker symbol\n",
       "1     MGI:87853           Gene           a               \n",
       "2     MGI:87854           Gene           Pzp             \n",
       "3     MGI:87859           Gene           Abl1            \n",
       "4     MGI:87860           Gene           Abl2            \n",
       "5     MGI:87862           Gene           Scgb1b27        \n",
       "6     MGI:87863           Gene           Scgb2b27        \n",
       "7     MGI:87864           Gene           Scgb2b26        \n",
       "8     MGI:87866           Gene           Acadl           \n",
       "9     MGI:87867           Gene           Acadm           \n",
       "10    MGI:87868           Gene           Acads           \n",
       "11    MGI:87870           Gene           Acat1           \n",
       "12    MGI:87871           Gene           Acat2           \n",
       "13    MGI:87873           Gene           Acd             \n",
       "14    MGI:87874           Gene           Ace             \n",
       "15    MGI:87876           Gene           Ache            \n",
       "16    MGI:87878           Gene           Apoc4           \n",
       "17    MGI:87879           Gene           Aco1            \n",
       "18    MGI:87880           Gene           Aco2            \n",
       "19    MGI:87881           Gene           Acp1            \n",
       "20    MGI:87882           Gene           Acp2            \n",
       "21    MGI:87883           Gene           Acp5            \n",
       "22    MGI:87884           Gene           Acr             \n",
       "23    MGI:87885           Gene           Chrna1          \n",
       "24    MGI:87886           Gene           Chrna2          \n",
       "25    MGI:87887           Gene           Chrna3          \n",
       "26    MGI:87888           Gene           Chrna4          \n",
       "27    MGI:87889           Gene           Chrna5          \n",
       "28    MGI:87890           Gene           Chrnb1          \n",
       "29    MGI:87891           Gene           Chrnb2          \n",
       "30    MGI:87892           Gene           Chrnb4          \n",
       "⋮     ⋮                   ⋮              ⋮               \n",
       "39704 MGI:6367134         Pseudogene     Gm52758         \n",
       "39705 MGI:6367135         Pseudogene     Gm52759         \n",
       "39706 MGI:6367137         Pseudogene     Gm52761         \n",
       "39707 MGI:6367138         Pseudogene     Gm52762         \n",
       "39708 MGI:6367280         Pseudogene     Gm52839         \n",
       "39709 MGI:6367281         Pseudogene     Gm52846         \n",
       "39710 MGI:6367283         Pseudogene     Gm52849         \n",
       "39711 MGI:6367284         Pseudogene     Gm52850         \n",
       "39712 MGI:6367285         Pseudogene     Gm52851         \n",
       "39713 MGI:6367286         Pseudogene     Gm52852         \n",
       "39714 MGI:6367426         Pseudogene     Gm52941         \n",
       "39715 MGI:6367427         Pseudogene     Gm52942         \n",
       "39716 MGI:6367428         Pseudogene     Gm52943         \n",
       "39717 MGI:6367429         Pseudogene     Gm52944         \n",
       "39718 MGI:6388753         Gene           Fam177b         \n",
       "39719 MGI:6388873         Pseudogene     Gm52989         \n",
       "39720 MGI:6388935         Gene           Gm53042         \n",
       "39721 MGI:6434092         Pseudogene     Gm53051         \n",
       "39722 MGI:6434099         Pseudogene     Gm53052         \n",
       "39723 MGI:6435153         Pseudogene     Gm53054         \n",
       "39724 MGI:6435211         Pseudogene     Gm53055         \n",
       "39725 MGI:6435214         Pseudogene     Gm53056         \n",
       "39726 MGI:6435216         Gene           Gm53057         \n",
       "39727 MGI:6435685         Gene           Gm53058         \n",
       "39728 MGI:6436280         Pseudogene     Gm53064         \n",
       "39729 MGI:6436715         Gene           Gm53065         \n",
       "39730 MGI:6467476         Gene           Mir12184        \n",
       "39731 MGI:6468343         Gene           Mir12191        \n",
       "39732 MGI:6468345         Gene           Mir12188        \n",
       "39733 MGI:6468350         Gene           Mir12193        \n",
       "      4. marker name                                                            \n",
       "1     nonagouti                                                                 \n",
       "2     PZP, alpha-2-macroglobulin like                                           \n",
       "3     c-abl oncogene 1, non-receptor tyrosine kinase                            \n",
       "4     v-abl Abelson murine leukemia viral oncogene 2 (arg, Abelson-related gene)\n",
       "5     secretoglobin, family 1B, member 27                                       \n",
       "6     secretoglobin, family 2B, member 27                                       \n",
       "7     secretoglobin, family 2B, member 26                                       \n",
       "8     acyl-Coenzyme A dehydrogenase, long-chain                                 \n",
       "9     acyl-Coenzyme A dehydrogenase, medium chain                               \n",
       "10    acyl-Coenzyme A dehydrogenase, short chain                                \n",
       "11    acetyl-Coenzyme A acetyltransferase 1                                     \n",
       "12    acetyl-Coenzyme A acetyltransferase 2                                     \n",
       "13    adrenocortical dysplasia                                                  \n",
       "14    angiotensin I converting enzyme (peptidyl-dipeptidase A) 1                \n",
       "15    acetylcholinesterase                                                      \n",
       "16    apolipoprotein C-IV                                                       \n",
       "17    aconitase 1                                                               \n",
       "18    aconitase 2, mitochondrial                                                \n",
       "19    acid phosphatase 1, soluble                                               \n",
       "20    acid phosphatase 2, lysosomal                                             \n",
       "21    acid phosphatase 5, tartrate resistant                                    \n",
       "22    acrosin prepropeptide                                                     \n",
       "23    cholinergic receptor, nicotinic, alpha polypeptide 1 (muscle)             \n",
       "24    cholinergic receptor, nicotinic, alpha polypeptide 2 (neuronal)           \n",
       "25    cholinergic receptor, nicotinic, alpha polypeptide 3                      \n",
       "26    cholinergic receptor, nicotinic, alpha polypeptide 4                      \n",
       "27    cholinergic receptor, nicotinic, alpha polypeptide 5                      \n",
       "28    cholinergic receptor, nicotinic, beta polypeptide 1 (muscle)              \n",
       "29    cholinergic receptor, nicotinic, beta polypeptide 2 (neuronal)            \n",
       "30    cholinergic receptor, nicotinic, beta polypeptide 4                       \n",
       "⋮     ⋮                                                                         \n",
       "39704 predicted gene, 52758                                                     \n",
       "39705 predicted gene, 52759                                                     \n",
       "39706 predicted gene, 52761                                                     \n",
       "39707 predicted gene, 52762                                                     \n",
       "39708 predicted gene, 52839                                                     \n",
       "39709 predicted gene, 52846                                                     \n",
       "39710 predicted gene, 52849                                                     \n",
       "39711 predicted gene, 52850                                                     \n",
       "39712 predicted gene, 52851                                                     \n",
       "39713 predicted gene, 52852                                                     \n",
       "39714 predicted gene, 52941                                                     \n",
       "39715 predicted gene, 52942                                                     \n",
       "39716 predicted gene, 52943                                                     \n",
       "39717 predicted gene, 52944                                                     \n",
       "39718 family with sequence similarity 177 member B                              \n",
       "39719 predicted gene, 52989                                                     \n",
       "39720 predicted gene, 53042                                                     \n",
       "39721 predicted gene, 53051                                                     \n",
       "39722 predicted gene, 53052                                                     \n",
       "39723 predicted gene 53054                                                      \n",
       "39724 predicted gene 53055                                                      \n",
       "39725 predicted gene 53056                                                      \n",
       "39726 predicted gene 53057                                                      \n",
       "39727 predicted gene 53058                                                      \n",
       "39728 53064                                                                     \n",
       "39729 predicted gene 53065                                                      \n",
       "39730 microRNA 12184                                                            \n",
       "39731 microRNA 12191                                                            \n",
       "39732 microRNA 12188                                                            \n",
       "39733 microRNA 12193                                                            \n",
       "      5. genome build 6. Entrez gene id 7. NCBI gene chromosome\n",
       "1     GRCm39          50518             2                      \n",
       "2     GRCm39          11287             6                      \n",
       "3     GRCm39          11350             2                      \n",
       "4     GRCm39          11352             1                      \n",
       "5     GRCm39          11354             7                      \n",
       "6     GRCm39          233099            7                      \n",
       "7     GRCm39          110187            7                      \n",
       "8     GRCm39          11363             1                      \n",
       "9     GRCm39          11364             3                      \n",
       "10    GRCm39          11409             5                      \n",
       "11    GRCm39          110446            9                      \n",
       "12    GRCm39          110460            17                     \n",
       "13    GRCm39          497652            8                      \n",
       "14    GRCm39          11421             11                     \n",
       "15    GRCm39          11423             5                      \n",
       "16    GRCm39          11425             7                      \n",
       "17    GRCm39          11428             4                      \n",
       "18    GRCm39          11429             15                     \n",
       "19    GRCm39          11431             12                     \n",
       "20    GRCm39          11432             2                      \n",
       "21    GRCm39          11433             9                      \n",
       "22    GRCm39          11434             15                     \n",
       "23    GRCm39          11435             2                      \n",
       "24    GRCm39          110902            14                     \n",
       "25    GRCm39          110834            9                      \n",
       "26    GRCm39          11438             2                      \n",
       "27    GRCm39          110835            9                      \n",
       "28    GRCm39          11443             11                     \n",
       "29    GRCm39          11444             3                      \n",
       "30    GRCm39          108015            9                      \n",
       "⋮     ⋮               ⋮                 ⋮                      \n",
       "39704 GRCm39          115490073         4                      \n",
       "39705 GRCm39          115490078         4                      \n",
       "39706 GRCm39          115490081         4                      \n",
       "39707 GRCm39          115490082         4                      \n",
       "39708 GRCm39          115490281         5                      \n",
       "39709 GRCm39          115490308         5                      \n",
       "39710 GRCm39          115490311         5                      \n",
       "39711 GRCm39          115490312         5                      \n",
       "39712 GRCm39          115490313         5                      \n",
       "39713 GRCm39          115490315         5                      \n",
       "39714 GRCm39          115490502         6                      \n",
       "39715 GRCm39          115490503         6                      \n",
       "39716 GRCm39          115490505         6                      \n",
       "39717 GRCm39          115490506         6                      \n",
       "39718 GRCm39          115486412         1                      \n",
       "39719 GRCm39          108169010         4                      \n",
       "39720 GRCm39          115487730         11                     \n",
       "39721 GRCm39          118567431         6                      \n",
       "39722 GRCm39          115486437         6                      \n",
       "39723 GRCm39          118027459         1                      \n",
       "39724 GRCm39          117997401         19                     \n",
       "39725 GRCm39          118027461         1                      \n",
       "39726 GRCm39          115488140         13                     \n",
       "39727 GRCm39          118027462         16                     \n",
       "39728 GRCm39          100504039         X                      \n",
       "39729 GRCm39          118126071         1                      \n",
       "39730 GRCm39          114482816         13                     \n",
       "39731 GRCm39          114482853         18                     \n",
       "39732 GRCm39          114483643         17                     \n",
       "39733 GRCm39          114483358         19                     \n",
       "      8. NCBI gene start 9. NCBI gene end 10. NCBI gene strand\n",
       "1     154792519          154892932        +                   \n",
       "2     128460530          128503683        -                   \n",
       "3     31578256           31697105         +                   \n",
       "4     156386160          156477189        +                   \n",
       "5     33720906           33722306         +                   \n",
       "6     33711344           33713367         -                   \n",
       "7     33642422           33644410         -                   \n",
       "8     66869998           66902468         -                   \n",
       "9     153627990          153650280        -                   \n",
       "10    115248358          115257405        -                   \n",
       "11    53491822           53521650         -                   \n",
       "12    13161929           13179612         -                   \n",
       "13    106424787          106427860        -                   \n",
       "14    105858774          105880790        +                   \n",
       "15    137286516          137292728        +                   \n",
       "16    19412009           19415385         -                   \n",
       "17    40143265           40199009         +                   \n",
       "18    81756664           81799338         +                   \n",
       "19    30943325           30961616         -                   \n",
       "20    91033157           91044443         +                   \n",
       "21    22038023           22047042         -                   \n",
       "22    89452529           89463056         +                   \n",
       "23    73393625           73410682         -                   \n",
       "24    66370685           66390397         +                   \n",
       "25    54917401           54933846         -                   \n",
       "26    180664104          180685365        -                   \n",
       "27    54888112           54918704         +                   \n",
       "28    69674862           69686791         -                   \n",
       "29    89660755           89671939         -                   \n",
       "30    54935438           54956236         -                   \n",
       "⋮     ⋮                  ⋮                ⋮                   \n",
       "39704 132213196          132213305        +                   \n",
       "39705 12588945           12589074         -                   \n",
       "39706 20228805           20228948         +                   \n",
       "39707 69169833           69169966         +                   \n",
       "39708 28930584           28930717         +                   \n",
       "39709 54206466           54206603         -                   \n",
       "39710 59928540           59928688         +                   \n",
       "39711 83386175           83386248         -                   \n",
       "39712 108541109          108541230        -                   \n",
       "39713 16053263           16053461         -                   \n",
       "39714 8550209            8550382          -                   \n",
       "39715 4467849            4468000          +                   \n",
       "39716 76609641           76609779         +                   \n",
       "39717 114980008          114980089        +                   \n",
       "39718 183010580          183057296        -                   \n",
       "39719 42586703           42590250         +                   \n",
       "39720 65050704           65061086         +                   \n",
       "39721 130655052          130675979        -                   \n",
       "39722 130459466          130498847        -                   \n",
       "39723 102377086          102424268        +                   \n",
       "39724 16141461           16142215         -                   \n",
       "39725 85016786           85019683         -                   \n",
       "39726 65837419           65847015         -                   \n",
       "39727 13265816           13285094         +                   \n",
       "39728 52688604           52693256         +                   \n",
       "39729 52552438           52621832         +                   \n",
       "39730 25164038           25164101         +                   \n",
       "39731 34892572           34892650         +                   \n",
       "39732 25379477           25379550         +                   \n",
       "39733 6184831            6184893          -                   \n",
       "      11. Ensembl gene id 12. Ensembl gene chromosome 13. Ensembl gene start\n",
       "1     ENSMUSG00000027596  2                           154633322             \n",
       "2     ENSMUSG00000030359  6                           128460530             \n",
       "3     ENSMUSG00000026842  2                           31578388              \n",
       "4     ENSMUSG00000026596  1                           156386356             \n",
       "5     ENSMUSG00000066583  7                           33720908              \n",
       "6     ENSMUSG00000066584  7                           33711346              \n",
       "7     ENSMUSG00000066586  7                           33642427              \n",
       "8     ENSMUSG00000026003  1                           66869998              \n",
       "9     ENSMUSG00000062908  3                           153627994             \n",
       "10    ENSMUSG00000029545  5                           115248358             \n",
       "11    ENSMUSG00000032047  9                           53491822              \n",
       "12    ENSMUSG00000023832  17                          13161777              \n",
       "13    ENSMUSG00000038000  8                           106422492             \n",
       "14    ENSMUSG00000020681  11                          105858771             \n",
       "15    ENSMUSG00000023328  5                           137285781             \n",
       "16    ENSMUSG00000074336  7                           19412008              \n",
       "17    ENSMUSG00000028405  4                           40143081              \n",
       "18    ENSMUSG00000022477  15                          81756510              \n",
       "19    ENSMUSG00000044573  12                          30943325              \n",
       "20    ENSMUSG00000002103  2                           91033230              \n",
       "21    ENSMUSG00000001348  9                           22038023              \n",
       "22    ENSMUSG00000022622  15                          89452529              \n",
       "23    ENSMUSG00000027107  2                           73393559              \n",
       "24    ENSMUSG00000022041  14                          66372488              \n",
       "25    ENSMUSG00000032303  9                           54917395              \n",
       "26    ENSMUSG00000027577  2                           180660173             \n",
       "27    ENSMUSG00000035594  9                           54888164              \n",
       "28    ENSMUSG00000041189  11                          69674862              \n",
       "29    ENSMUSG00000027950  3                           89653502              \n",
       "30    ENSMUSG00000035200  9                           54935438              \n",
       "⋮     ⋮                   ⋮                           ⋮                     \n",
       "39704 ENSMUSG00000119534  4                           132213196             \n",
       "39705 ENSMUSG00000119850  4                           12588945              \n",
       "39706 ENSMUSG00000119517  4                           20228805              \n",
       "39707 ENSMUSG00001118667  4                           69169833              \n",
       "39708 ENSMUSG00000119337  5                           28930584              \n",
       "39709 ENSMUSG00000119189  5                           54206466              \n",
       "39710 ENSMUSG00000118739  5                           59928540              \n",
       "39711 ENSMUSG00000119514  5                           83386175              \n",
       "39712 ENSMUSG00000118791  5                           108541109             \n",
       "39713 ENSMUSG00000119060  5                           16053263              \n",
       "39714 ENSMUSG00000119193  6                           8550209               \n",
       "39715 ENSMUSG00000119081  6                           4467849               \n",
       "39716 ENSMUSG00000119319  6                           76609641              \n",
       "39717 ENSMUSG00000119854  6                           114980008             \n",
       "39718 ENSMUSG00000118599  1                           183048156             \n",
       "39719 ENSMUSG00000118603  4                           42587458              \n",
       "39720 ENSMUSG00000118601  11                          65050785              \n",
       "39721 ENSMUSG00000107898  6                           130654065             \n",
       "39722 ENSMUSG00000098212  6                           130460152             \n",
       "39723 ENSMUSG00000101890  1                           102377078             \n",
       "39724 ENSMUSG00000057990  19                          16141676              \n",
       "39725 ENSMUSG00000061852  1                           85016786              \n",
       "39726 ENSMUSG00000113260  13                          65837427              \n",
       "39727 ENSMUSG00000109857  16                          13280410              \n",
       "39728 ENSMUSG00000071763  X                           52688604              \n",
       "39729 ENSMUSG00000100120  1                           52562061              \n",
       "39730 ENSMUSG00000119479  13                          25164038              \n",
       "39731 ENSMUSG00000119248  18                          34892572              \n",
       "39732 ENSMUSG00000118985  17                          25379477              \n",
       "39733 ENSMUSG00000118826  19                          6184831               \n",
       "      14. Ensembl gene end 15. Ensembl gene strand\n",
       "1     154892932            +                      \n",
       "2     128503683            -                      \n",
       "3     31694239             +                      \n",
       "4     156477138            +                      \n",
       "5     33722306             +                      \n",
       "6     33713367             -                      \n",
       "7     33644465             -                      \n",
       "8     66902436             -                      \n",
       "9     153650269            -                      \n",
       "10    115257405            -                      \n",
       "11    53521682             -                      \n",
       "12    13179634             -                      \n",
       "13    106427734            -                      \n",
       "14    105880790            +                      \n",
       "15    137292728            +                      \n",
       "16    19415404             -                      \n",
       "17    40198338             +                      \n",
       "18    81799334             +                      \n",
       "19    30961588             -                      \n",
       "20    91044443             +                      \n",
       "21    22047007             -                      \n",
       "22    89458788             +                      \n",
       "23    73410682             -                      \n",
       "24    66390397             +                      \n",
       "25    54933846             -                      \n",
       "26    180685339            -                      \n",
       "27    54915063             +                      \n",
       "28    69686769             -                      \n",
       "29    89671939             -                      \n",
       "30    54956063             -                      \n",
       "⋮     ⋮                    ⋮                      \n",
       "39704 132213305            +                      \n",
       "39705 12589074             -                      \n",
       "39706 20228948             +                      \n",
       "39707 69169966             +                      \n",
       "39708 28930717             +                      \n",
       "39709 54206603             -                      \n",
       "39710 59928688             +                      \n",
       "39711 83386248             -                      \n",
       "39712 108541230            -                      \n",
       "39713 16053461             -                      \n",
       "39714 8550382              -                      \n",
       "39715 4468000              +                      \n",
       "39716 76609779             +                      \n",
       "39717 114980089            +                      \n",
       "39718 183051138            -                      \n",
       "39719 42589768             +                      \n",
       "39720 65062050             +                      \n",
       "39721 130674944            -                      \n",
       "39722 130480544            -                      \n",
       "39723 102465381            +                      \n",
       "39724 16142169             -                      \n",
       "39725 85019679             -                      \n",
       "39726 65861268             -                      \n",
       "39727 13285101             +                      \n",
       "39728 52692886             +                      \n",
       "39729 52621838             +                      \n",
       "39730 25164101             +                      \n",
       "39731 34892620             +                      \n",
       "39732 25379550             +                      \n",
       "39733 6184893              -                      "
      ]
     },
     "metadata": {},
     "output_type": "display_data"
    }
   ],
   "source": [
    "mgidat %>% \n",
    "    dplyr::filter(`6. Entrez gene id` != \"null\" & `11. Ensembl gene id` != \"null\") ->\n",
    "    mgidat\n",
    "\n",
    "mgidat"
   ]
  },
  {
   "cell_type": "markdown",
   "id": "163e8dd1",
   "metadata": {},
   "source": [
    "### Check  if ids are unique`"
   ]
  },
  {
   "cell_type": "code",
   "execution_count": 27,
   "id": "db2a934e",
   "metadata": {},
   "outputs": [
    {
     "data": {
      "text/html": [
       "<table class=\"dataframe\">\n",
       "<caption>A grouped_df: 0 × 15</caption>\n",
       "<thead>\n",
       "\t<tr><th scope=col>1. MGI accession id</th><th scope=col>2. marker type</th><th scope=col>3. marker symbol</th><th scope=col>4. marker name</th><th scope=col>5. genome build</th><th scope=col>6. Entrez gene id</th><th scope=col>7. NCBI gene chromosome</th><th scope=col>8. NCBI gene start</th><th scope=col>9. NCBI gene end</th><th scope=col>10. NCBI gene strand</th><th scope=col>11. Ensembl gene id</th><th scope=col>12. Ensembl gene chromosome</th><th scope=col>13. Ensembl gene start</th><th scope=col>14. Ensembl gene end</th><th scope=col>15. Ensembl gene strand</th></tr>\n",
       "\t<tr><th scope=col>&lt;chr&gt;</th><th scope=col>&lt;chr&gt;</th><th scope=col>&lt;chr&gt;</th><th scope=col>&lt;chr&gt;</th><th scope=col>&lt;chr&gt;</th><th scope=col>&lt;chr&gt;</th><th scope=col>&lt;chr&gt;</th><th scope=col>&lt;chr&gt;</th><th scope=col>&lt;chr&gt;</th><th scope=col>&lt;chr&gt;</th><th scope=col>&lt;chr&gt;</th><th scope=col>&lt;chr&gt;</th><th scope=col>&lt;chr&gt;</th><th scope=col>&lt;chr&gt;</th><th scope=col>&lt;chr&gt;</th></tr>\n",
       "</thead>\n",
       "<tbody>\n",
       "</tbody>\n",
       "</table>\n"
      ],
      "text/latex": [
       "A grouped\\_df: 0 × 15\n",
       "\\begin{tabular}{lllllllllllllll}\n",
       " 1. MGI accession id & 2. marker type & 3. marker symbol & 4. marker name & 5. genome build & 6. Entrez gene id & 7. NCBI gene chromosome & 8. NCBI gene start & 9. NCBI gene end & 10. NCBI gene strand & 11. Ensembl gene id & 12. Ensembl gene chromosome & 13. Ensembl gene start & 14. Ensembl gene end & 15. Ensembl gene strand\\\\\n",
       " <chr> & <chr> & <chr> & <chr> & <chr> & <chr> & <chr> & <chr> & <chr> & <chr> & <chr> & <chr> & <chr> & <chr> & <chr>\\\\\n",
       "\\hline\n",
       "\\end{tabular}\n"
      ],
      "text/markdown": [
       "\n",
       "A grouped_df: 0 × 15\n",
       "\n",
       "| 1. MGI accession id &lt;chr&gt; | 2. marker type &lt;chr&gt; | 3. marker symbol &lt;chr&gt; | 4. marker name &lt;chr&gt; | 5. genome build &lt;chr&gt; | 6. Entrez gene id &lt;chr&gt; | 7. NCBI gene chromosome &lt;chr&gt; | 8. NCBI gene start &lt;chr&gt; | 9. NCBI gene end &lt;chr&gt; | 10. NCBI gene strand &lt;chr&gt; | 11. Ensembl gene id &lt;chr&gt; | 12. Ensembl gene chromosome &lt;chr&gt; | 13. Ensembl gene start &lt;chr&gt; | 14. Ensembl gene end &lt;chr&gt; | 15. Ensembl gene strand &lt;chr&gt; |\n",
       "|---|---|---|---|---|---|---|---|---|---|---|---|---|---|---|\n",
       "\n"
      ],
      "text/plain": [
       "     1. MGI accession id 2. marker type 3. marker symbol 4. marker name\n",
       "     5. genome build 6. Entrez gene id 7. NCBI gene chromosome\n",
       "     8. NCBI gene start 9. NCBI gene end 10. NCBI gene strand\n",
       "     11. Ensembl gene id 12. Ensembl gene chromosome 13. Ensembl gene start\n",
       "     14. Ensembl gene end 15. Ensembl gene strand"
      ]
     },
     "metadata": {},
     "output_type": "display_data"
    }
   ],
   "source": [
    "mgidat %>% \n",
    "    dplyr::group_by(`6. Entrez gene id`) %>%\n",
    "    dplyr::filter(n()>1)"
   ]
  },
  {
   "cell_type": "code",
   "execution_count": 28,
   "id": "a67333d9",
   "metadata": {},
   "outputs": [
    {
     "data": {
      "text/html": [
       "<table class=\"dataframe\">\n",
       "<caption>A grouped_df: 0 × 15</caption>\n",
       "<thead>\n",
       "\t<tr><th scope=col>1. MGI accession id</th><th scope=col>2. marker type</th><th scope=col>3. marker symbol</th><th scope=col>4. marker name</th><th scope=col>5. genome build</th><th scope=col>6. Entrez gene id</th><th scope=col>7. NCBI gene chromosome</th><th scope=col>8. NCBI gene start</th><th scope=col>9. NCBI gene end</th><th scope=col>10. NCBI gene strand</th><th scope=col>11. Ensembl gene id</th><th scope=col>12. Ensembl gene chromosome</th><th scope=col>13. Ensembl gene start</th><th scope=col>14. Ensembl gene end</th><th scope=col>15. Ensembl gene strand</th></tr>\n",
       "\t<tr><th scope=col>&lt;chr&gt;</th><th scope=col>&lt;chr&gt;</th><th scope=col>&lt;chr&gt;</th><th scope=col>&lt;chr&gt;</th><th scope=col>&lt;chr&gt;</th><th scope=col>&lt;chr&gt;</th><th scope=col>&lt;chr&gt;</th><th scope=col>&lt;chr&gt;</th><th scope=col>&lt;chr&gt;</th><th scope=col>&lt;chr&gt;</th><th scope=col>&lt;chr&gt;</th><th scope=col>&lt;chr&gt;</th><th scope=col>&lt;chr&gt;</th><th scope=col>&lt;chr&gt;</th><th scope=col>&lt;chr&gt;</th></tr>\n",
       "</thead>\n",
       "<tbody>\n",
       "</tbody>\n",
       "</table>\n"
      ],
      "text/latex": [
       "A grouped\\_df: 0 × 15\n",
       "\\begin{tabular}{lllllllllllllll}\n",
       " 1. MGI accession id & 2. marker type & 3. marker symbol & 4. marker name & 5. genome build & 6. Entrez gene id & 7. NCBI gene chromosome & 8. NCBI gene start & 9. NCBI gene end & 10. NCBI gene strand & 11. Ensembl gene id & 12. Ensembl gene chromosome & 13. Ensembl gene start & 14. Ensembl gene end & 15. Ensembl gene strand\\\\\n",
       " <chr> & <chr> & <chr> & <chr> & <chr> & <chr> & <chr> & <chr> & <chr> & <chr> & <chr> & <chr> & <chr> & <chr> & <chr>\\\\\n",
       "\\hline\n",
       "\\end{tabular}\n"
      ],
      "text/markdown": [
       "\n",
       "A grouped_df: 0 × 15\n",
       "\n",
       "| 1. MGI accession id &lt;chr&gt; | 2. marker type &lt;chr&gt; | 3. marker symbol &lt;chr&gt; | 4. marker name &lt;chr&gt; | 5. genome build &lt;chr&gt; | 6. Entrez gene id &lt;chr&gt; | 7. NCBI gene chromosome &lt;chr&gt; | 8. NCBI gene start &lt;chr&gt; | 9. NCBI gene end &lt;chr&gt; | 10. NCBI gene strand &lt;chr&gt; | 11. Ensembl gene id &lt;chr&gt; | 12. Ensembl gene chromosome &lt;chr&gt; | 13. Ensembl gene start &lt;chr&gt; | 14. Ensembl gene end &lt;chr&gt; | 15. Ensembl gene strand &lt;chr&gt; |\n",
       "|---|---|---|---|---|---|---|---|---|---|---|---|---|---|---|\n",
       "\n"
      ],
      "text/plain": [
       "     1. MGI accession id 2. marker type 3. marker symbol 4. marker name\n",
       "     5. genome build 6. Entrez gene id 7. NCBI gene chromosome\n",
       "     8. NCBI gene start 9. NCBI gene end 10. NCBI gene strand\n",
       "     11. Ensembl gene id 12. Ensembl gene chromosome 13. Ensembl gene start\n",
       "     14. Ensembl gene end 15. Ensembl gene strand"
      ]
     },
     "metadata": {},
     "output_type": "display_data"
    }
   ],
   "source": [
    "mgidat %>% \n",
    "    dplyr::group_by(`11. Ensembl gene id`) %>%\n",
    "    dplyr::filter(n()>1)"
   ]
  },
  {
   "cell_type": "markdown",
   "id": "6d385581",
   "metadata": {},
   "source": [
    "### Number of pathway genes  not in annotation file"
   ]
  },
  {
   "cell_type": "code",
   "execution_count": 29,
   "id": "4c8f109a",
   "metadata": {},
   "outputs": [
    {
     "data": {
      "text/html": [
       "29"
      ],
      "text/latex": [
       "29"
      ],
      "text/markdown": [
       "29"
      ],
      "text/plain": [
       "[1] 29"
      ]
     },
     "metadata": {},
     "output_type": "display_data"
    }
   ],
   "source": [
    "length(setdiff(unlist(Mm.H), mgidat[[\"6. Entrez gene id\"]]))"
   ]
  },
  {
   "cell_type": "markdown",
   "id": "599c684d",
   "metadata": {},
   "source": [
    "### Set location of analysis results"
   ]
  },
  {
   "cell_type": "code",
   "execution_count": 30,
   "id": "f33cedf1",
   "metadata": {},
   "outputs": [
    {
     "data": {
      "text/html": [
       "<strong>./proc/PRJNA668393-DESeq2-additive.RDS:</strong> '8b018e13da79d6c7c60adf0c5a785ca0'"
      ],
      "text/latex": [
       "\\textbf{./proc/PRJNA668393-DESeq2-additive.RDS:} '8b018e13da79d6c7c60adf0c5a785ca0'"
      ],
      "text/markdown": [
       "**./proc/PRJNA668393-DESeq2-additive.RDS:** '8b018e13da79d6c7c60adf0c5a785ca0'"
      ],
      "text/plain": [
       "./proc/PRJNA668393-DESeq2-additive.RDS \n",
       "    \"8b018e13da79d6c7c60adf0c5a785ca0\" "
      ]
     },
     "metadata": {},
     "output_type": "display_data"
    },
    {
     "data": {
      "text/html": [
       "<strong>./proc/PRJNA668393-DESeq2-multiplicative.RDS:</strong> 'd32c9161b7a17c3e427b82eb604a61b0'"
      ],
      "text/latex": [
       "\\textbf{./proc/PRJNA668393-DESeq2-multiplicative.RDS:} 'd32c9161b7a17c3e427b82eb604a61b0'"
      ],
      "text/markdown": [
       "**./proc/PRJNA668393-DESeq2-multiplicative.RDS:** 'd32c9161b7a17c3e427b82eb604a61b0'"
      ],
      "text/plain": [
       "./proc/PRJNA668393-DESeq2-multiplicative.RDS \n",
       "          \"d32c9161b7a17c3e427b82eb604a61b0\" "
      ]
     },
     "metadata": {},
     "output_type": "display_data"
    }
   ],
   "source": [
    "procdir <- \"./proc\"\n",
    "\n",
    "addfile <- file.path(procdir, \"PRJNA668393-DESeq2-additive.RDS\")\n",
    "multfile <- file.path(procdir, \"PRJNA668393-DESeq2-multiplicative.RDS\")\n",
    "\n",
    "tools::md5sum(addfile)\n",
    "tools::md5sum(multfile)"
   ]
  },
  {
   "cell_type": "markdown",
   "id": "3e0984c0",
   "metadata": {},
   "source": [
    "### "
   ]
  },
  {
   "cell_type": "code",
   "execution_count": 31,
   "id": "51fd5e31",
   "metadata": {},
   "outputs": [
    {
     "data": {
      "text/html": [
       "'ENSMUSG12345'"
      ],
      "text/latex": [
       "'ENSMUSG12345'"
      ],
      "text/markdown": [
       "'ENSMUSG12345'"
      ],
      "text/plain": [
       "[1] \"ENSMUSG12345\""
      ]
     },
     "metadata": {},
     "output_type": "display_data"
    },
    {
     "data": {
      "text/html": [
       "'ENSMUSG12345'"
      ],
      "text/latex": [
       "'ENSMUSG12345'"
      ],
      "text/markdown": [
       "'ENSMUSG12345'"
      ],
      "text/plain": [
       "[1] \"ENSMUSG12345\""
      ]
     },
     "metadata": {},
     "output_type": "display_data"
    }
   ],
   "source": [
    "### The ensembl ids from the gtf file end with version numbers\n",
    "### One can use str_remove to remove the ensemble version from id\n",
    "stringr::str_remove(\"ENSMUSG12345.01\",\".[0-9][0-9]{0,2}$\")\n",
    "stringr::str_remove(\"ENSMUSG12345.1\",\".[0-9][0-9]{0,2}$\")\n",
    "\n"
   ]
  },
  {
   "cell_type": "markdown",
   "id": "cdf7d12a",
   "metadata": {},
   "source": [
    "### Create a named vector (using entrez ids) for statistics from additive model"
   ]
  },
  {
   "cell_type": "code",
   "execution_count": 43,
   "id": "540d5161",
   "metadata": {},
   "outputs": [],
   "source": [
    "### drop genes with na statistics\n",
    "### clean ensembl id by dropping version number\n",
    "### Merge the results by the clean ensemble id using an inner join\n",
    "### Only keep \n",
    "\n",
    "readRDS(addfile) %>%\n",
    "    DESeq2::results(tidy = TRUE) %>%\n",
    "    tidyr:: drop_na(stat) %>%\n",
    "    dplyr::mutate(ensid = str_remove(row, \".[0-9][0-9]{0,2}$\")) %>%\n",
    "    dplyr::inner_join(mgidat, by = c(\"ensid\" = \"11. Ensembl gene id\")) %>%\n",
    "    dplyr::filter(`6. Entrez gene id` %in% unique(unlist(Mm.H))) %>% \n",
    "    dplyr::pull(stat, name = \"6. Entrez gene id\") ->\n",
    "    addstat"
   ]
  },
  {
   "cell_type": "markdown",
   "id": "3e8120cd",
   "metadata": {},
   "source": [
    "#### spot check the conversion for three genes"
   ]
  },
  {
   "cell_type": "code",
   "execution_count": 34,
   "id": "28c5b6a4",
   "metadata": {},
   "outputs": [
    {
     "data": {
      "text/html": [
       "<style>\n",
       ".list-inline {list-style: none; margin:0; padding: 0}\n",
       ".list-inline>li {display: inline-block}\n",
       ".list-inline>li:not(:last-child)::after {content: \"\\00b7\"; padding: 0 .5ex}\n",
       "</style>\n",
       "<ol class=list-inline><li>5341</li><li>1564</li><li>2338</li></ol>\n"
      ],
      "text/latex": [
       "\\begin{enumerate*}\n",
       "\\item 5341\n",
       "\\item 1564\n",
       "\\item 2338\n",
       "\\end{enumerate*}\n"
      ],
      "text/markdown": [
       "1. 5341\n",
       "2. 1564\n",
       "3. 2338\n",
       "\n",
       "\n"
      ],
      "text/plain": [
       "[1] 5341 1564 2338"
      ]
     },
     "metadata": {},
     "output_type": "display_data"
    }
   ],
   "source": [
    "idx <- sample(1:length(addstat), 3)\n",
    "idx"
   ]
  },
  {
   "cell_type": "code",
   "execution_count": 35,
   "id": "22640fe9",
   "metadata": {},
   "outputs": [
    {
     "data": {
      "text/html": [
       "<table class=\"dataframe\">\n",
       "<caption>A tibble: 3 × 2</caption>\n",
       "<thead>\n",
       "\t<tr><th scope=col>6. Entrez gene id</th><th scope=col>11. Ensembl gene id</th></tr>\n",
       "\t<tr><th scope=col>&lt;chr&gt;</th><th scope=col>&lt;chr&gt;</th></tr>\n",
       "</thead>\n",
       "<tbody>\n",
       "\t<tr><td>16186</td><td>ENSMUSG00000031304</td></tr>\n",
       "\t<tr><td>19047</td><td>ENSMUSG00000004455</td></tr>\n",
       "\t<tr><td>78914</td><td>ENSMUSG00000031090</td></tr>\n",
       "</tbody>\n",
       "</table>\n"
      ],
      "text/latex": [
       "A tibble: 3 × 2\n",
       "\\begin{tabular}{ll}\n",
       " 6. Entrez gene id & 11. Ensembl gene id\\\\\n",
       " <chr> & <chr>\\\\\n",
       "\\hline\n",
       "\t 16186 & ENSMUSG00000031304\\\\\n",
       "\t 19047 & ENSMUSG00000004455\\\\\n",
       "\t 78914 & ENSMUSG00000031090\\\\\n",
       "\\end{tabular}\n"
      ],
      "text/markdown": [
       "\n",
       "A tibble: 3 × 2\n",
       "\n",
       "| 6. Entrez gene id &lt;chr&gt; | 11. Ensembl gene id &lt;chr&gt; |\n",
       "|---|---|\n",
       "| 16186 | ENSMUSG00000031304 |\n",
       "| 19047 | ENSMUSG00000004455 |\n",
       "| 78914 | ENSMUSG00000031090 |\n",
       "\n"
      ],
      "text/plain": [
       "  6. Entrez gene id 11. Ensembl gene id\n",
       "1 16186             ENSMUSG00000031304 \n",
       "2 19047             ENSMUSG00000004455 \n",
       "3 78914             ENSMUSG00000031090 "
      ]
     },
     "metadata": {},
     "output_type": "display_data"
    }
   ],
   "source": [
    "mgidat %>% \n",
    "    dplyr::filter(`6. Entrez gene id` %in% names(addstat[idx])) %>%\n",
    "    dplyr::select(`6. Entrez gene id`, `11. Ensembl gene id`) ->\n",
    "    testres\n",
    "    \n",
    "testres"
   ]
  },
  {
   "cell_type": "code",
   "execution_count": 36,
   "id": "9fd451e0",
   "metadata": {},
   "outputs": [
    {
     "data": {
      "text/html": [
       "<style>\n",
       ".dl-inline {width: auto; margin:0; padding: 0}\n",
       ".dl-inline>dt, .dl-inline>dd {float: none; width: auto; display: inline-block}\n",
       ".dl-inline>dt::after {content: \":\\0020\"; padding-right: .5ex}\n",
       ".dl-inline>dt:not(:first-of-type) {padding-left: .5ex}\n",
       "</style><dl class=dl-inline><dt>16186</dt><dd>1.42948977103995</dd><dt>19047</dt><dd>0.24023479241551</dd><dt>78914</dt><dd>0.0666698106237796</dd></dl>\n"
      ],
      "text/latex": [
       "\\begin{description*}\n",
       "\\item[16186] 1.42948977103995\n",
       "\\item[19047] 0.24023479241551\n",
       "\\item[78914] 0.0666698106237796\n",
       "\\end{description*}\n"
      ],
      "text/markdown": [
       "16186\n",
       ":   1.4294897710399519047\n",
       ":   0.2402347924155178914\n",
       ":   0.0666698106237796\n",
       "\n"
      ],
      "text/plain": [
       "     16186      19047      78914 \n",
       "1.42948977 0.24023479 0.06666981 "
      ]
     },
     "metadata": {},
     "output_type": "display_data"
    },
    {
     "data": {
      "text/html": [
       "<table class=\"dataframe\">\n",
       "<caption>A data.frame: 3 × 7</caption>\n",
       "<thead>\n",
       "\t<tr><th scope=col>row</th><th scope=col>baseMean</th><th scope=col>log2FoldChange</th><th scope=col>lfcSE</th><th scope=col>stat</th><th scope=col>pvalue</th><th scope=col>padj</th></tr>\n",
       "\t<tr><th scope=col>&lt;chr&gt;</th><th scope=col>&lt;dbl&gt;</th><th scope=col>&lt;dbl&gt;</th><th scope=col>&lt;dbl&gt;</th><th scope=col>&lt;dbl&gt;</th><th scope=col>&lt;dbl&gt;</th><th scope=col>&lt;dbl&gt;</th></tr>\n",
       "</thead>\n",
       "<tbody>\n",
       "\t<tr><td>ENSMUSG00000004455.17</td><td>862.3320</td><td>0.014542808</td><td>0.06053581</td><td>0.24023479</td><td>0.8101482</td><td>0.9992186</td></tr>\n",
       "\t<tr><td>ENSMUSG00000031090.15</td><td>104.2565</td><td>0.009030826</td><td>0.13545600</td><td>0.06666981</td><td>0.9468446</td><td>0.9992186</td></tr>\n",
       "\t<tr><td>ENSMUSG00000031304.19</td><td>667.4633</td><td>0.457236966</td><td>0.31986026</td><td>1.42948977</td><td>0.1528635</td><td>0.9992186</td></tr>\n",
       "</tbody>\n",
       "</table>\n"
      ],
      "text/latex": [
       "A data.frame: 3 × 7\n",
       "\\begin{tabular}{lllllll}\n",
       " row & baseMean & log2FoldChange & lfcSE & stat & pvalue & padj\\\\\n",
       " <chr> & <dbl> & <dbl> & <dbl> & <dbl> & <dbl> & <dbl>\\\\\n",
       "\\hline\n",
       "\t ENSMUSG00000004455.17 & 862.3320 & 0.014542808 & 0.06053581 & 0.24023479 & 0.8101482 & 0.9992186\\\\\n",
       "\t ENSMUSG00000031090.15 & 104.2565 & 0.009030826 & 0.13545600 & 0.06666981 & 0.9468446 & 0.9992186\\\\\n",
       "\t ENSMUSG00000031304.19 & 667.4633 & 0.457236966 & 0.31986026 & 1.42948977 & 0.1528635 & 0.9992186\\\\\n",
       "\\end{tabular}\n"
      ],
      "text/markdown": [
       "\n",
       "A data.frame: 3 × 7\n",
       "\n",
       "| row &lt;chr&gt; | baseMean &lt;dbl&gt; | log2FoldChange &lt;dbl&gt; | lfcSE &lt;dbl&gt; | stat &lt;dbl&gt; | pvalue &lt;dbl&gt; | padj &lt;dbl&gt; |\n",
       "|---|---|---|---|---|---|---|\n",
       "| ENSMUSG00000004455.17 | 862.3320 | 0.014542808 | 0.06053581 | 0.24023479 | 0.8101482 | 0.9992186 |\n",
       "| ENSMUSG00000031090.15 | 104.2565 | 0.009030826 | 0.13545600 | 0.06666981 | 0.9468446 | 0.9992186 |\n",
       "| ENSMUSG00000031304.19 | 667.4633 | 0.457236966 | 0.31986026 | 1.42948977 | 0.1528635 | 0.9992186 |\n",
       "\n"
      ],
      "text/plain": [
       "  row                   baseMean log2FoldChange lfcSE      stat       pvalue   \n",
       "1 ENSMUSG00000004455.17 862.3320 0.014542808    0.06053581 0.24023479 0.8101482\n",
       "2 ENSMUSG00000031090.15 104.2565 0.009030826    0.13545600 0.06666981 0.9468446\n",
       "3 ENSMUSG00000031304.19 667.4633 0.457236966    0.31986026 1.42948977 0.1528635\n",
       "  padj     \n",
       "1 0.9992186\n",
       "2 0.9992186\n",
       "3 0.9992186"
      ]
     },
     "metadata": {},
     "output_type": "display_data"
    }
   ],
   "source": [
    "addstat[idx]\n",
    "readRDS(addfile) %>%\n",
    "    DESeq2::results(tidy = TRUE) %>%\n",
    "    dplyr::filter(str_detect(row, paste0(testres[[\"11. Ensembl gene id\"]], collapse = \"|\")))"
   ]
  },
  {
   "cell_type": "markdown",
   "id": "44d53000",
   "metadata": {},
   "source": [
    "### Create a named vector (using entrez ids) for statistics from additive model"
   ]
  },
  {
   "cell_type": "code",
   "execution_count": 44,
   "id": "826976bc",
   "metadata": {},
   "outputs": [],
   "source": [
    "### drop genes with na statistics\n",
    "### clean ensembl id by dropping version number\n",
    "### Merge the results by the clean ensemble id using an inner join\n",
    "### Only keep \n",
    "\n",
    "readRDS(multfile) %>%\n",
    "    DESeq2::results(tidy = TRUE) %>%\n",
    "    tidyr:: drop_na(stat) %>%\n",
    "    dplyr::mutate(ensid = str_remove(row, \".[0-9][0-9]{0,2}$\")) %>%\n",
    "    dplyr::inner_join(mgidat, by = c(\"ensid\" = \"11. Ensembl gene id\")) %>%\n",
    "    dplyr::filter(`6. Entrez gene id` %in% unique(unlist(Mm.H))) %>% \n",
    "    dplyr::pull(stat, name = \"6. Entrez gene id\") ->\n",
    "    multstat"
   ]
  },
  {
   "cell_type": "markdown",
   "id": "aebb4668",
   "metadata": {},
   "source": [
    "#### Spot check"
   ]
  },
  {
   "cell_type": "code",
   "execution_count": 39,
   "id": "e78595ff",
   "metadata": {},
   "outputs": [
    {
     "data": {
      "text/html": [
       "<style>\n",
       ".list-inline {list-style: none; margin:0; padding: 0}\n",
       ".list-inline>li {display: inline-block}\n",
       ".list-inline>li:not(:last-child)::after {content: \"\\00b7\"; padding: 0 .5ex}\n",
       "</style>\n",
       "<ol class=list-inline><li>4018</li><li>5245</li><li>5096</li></ol>\n"
      ],
      "text/latex": [
       "\\begin{enumerate*}\n",
       "\\item 4018\n",
       "\\item 5245\n",
       "\\item 5096\n",
       "\\end{enumerate*}\n"
      ],
      "text/markdown": [
       "1. 4018\n",
       "2. 5245\n",
       "3. 5096\n",
       "\n",
       "\n"
      ],
      "text/plain": [
       "[1] 4018 5245 5096"
      ]
     },
     "metadata": {},
     "output_type": "display_data"
    }
   ],
   "source": [
    "idx <- sample(1:length(addstat), 3)\n",
    "idx"
   ]
  },
  {
   "cell_type": "code",
   "execution_count": 40,
   "id": "30727d48",
   "metadata": {},
   "outputs": [
    {
     "data": {
      "text/html": [
       "<table class=\"dataframe\">\n",
       "<caption>A tibble: 3 × 2</caption>\n",
       "<thead>\n",
       "\t<tr><th scope=col>6. Entrez gene id</th><th scope=col>11. Ensembl gene id</th></tr>\n",
       "\t<tr><th scope=col>&lt;chr&gt;</th><th scope=col>&lt;chr&gt;</th></tr>\n",
       "</thead>\n",
       "<tbody>\n",
       "\t<tr><td>13058</td><td>ENSMUSG00000015340</td></tr>\n",
       "\t<tr><td>14313</td><td>ENSMUSG00000021765</td></tr>\n",
       "\t<tr><td>22287</td><td>ENSMUSG00000024653</td></tr>\n",
       "</tbody>\n",
       "</table>\n"
      ],
      "text/latex": [
       "A tibble: 3 × 2\n",
       "\\begin{tabular}{ll}\n",
       " 6. Entrez gene id & 11. Ensembl gene id\\\\\n",
       " <chr> & <chr>\\\\\n",
       "\\hline\n",
       "\t 13058 & ENSMUSG00000015340\\\\\n",
       "\t 14313 & ENSMUSG00000021765\\\\\n",
       "\t 22287 & ENSMUSG00000024653\\\\\n",
       "\\end{tabular}\n"
      ],
      "text/markdown": [
       "\n",
       "A tibble: 3 × 2\n",
       "\n",
       "| 6. Entrez gene id &lt;chr&gt; | 11. Ensembl gene id &lt;chr&gt; |\n",
       "|---|---|\n",
       "| 13058 | ENSMUSG00000015340 |\n",
       "| 14313 | ENSMUSG00000021765 |\n",
       "| 22287 | ENSMUSG00000024653 |\n",
       "\n"
      ],
      "text/plain": [
       "  6. Entrez gene id 11. Ensembl gene id\n",
       "1 13058             ENSMUSG00000015340 \n",
       "2 14313             ENSMUSG00000021765 \n",
       "3 22287             ENSMUSG00000024653 "
      ]
     },
     "metadata": {},
     "output_type": "display_data"
    }
   ],
   "source": [
    "mgidat %>% \n",
    "    dplyr::filter(`6. Entrez gene id` %in% names(multstat[idx])) %>%\n",
    "    dplyr::select(`6. Entrez gene id`, `11. Ensembl gene id`) ->\n",
    "    testres\n",
    "    \n",
    "testres"
   ]
  },
  {
   "cell_type": "code",
   "execution_count": 41,
   "id": "19546a0d",
   "metadata": {},
   "outputs": [
    {
     "data": {
      "text/html": [
       "<style>\n",
       ".dl-inline {width: auto; margin:0; padding: 0}\n",
       ".dl-inline>dt, .dl-inline>dd {float: none; width: auto; display: inline-block}\n",
       ".dl-inline>dt::after {content: \":\\0020\"; padding-right: .5ex}\n",
       ".dl-inline>dt:not(:first-of-type) {padding-left: .5ex}\n",
       "</style><dl class=dl-inline><dt>14313</dt><dd>1.13457526725014</dd><dt>13058</dt><dd>0.707364092026658</dd><dt>22287</dt><dd>-0.126065607160724</dd></dl>\n"
      ],
      "text/latex": [
       "\\begin{description*}\n",
       "\\item[14313] 1.13457526725014\n",
       "\\item[13058] 0.707364092026658\n",
       "\\item[22287] -0.126065607160724\n",
       "\\end{description*}\n"
      ],
      "text/markdown": [
       "14313\n",
       ":   1.1345752672501413058\n",
       ":   0.70736409202665822287\n",
       ":   -0.126065607160724\n",
       "\n"
      ],
      "text/plain": [
       "     14313      13058      22287 \n",
       " 1.1345753  0.7073641 -0.1260656 "
      ]
     },
     "metadata": {},
     "output_type": "display_data"
    },
    {
     "data": {
      "text/html": [
       "<table class=\"dataframe\">\n",
       "<caption>A data.frame: 3 × 7</caption>\n",
       "<thead>\n",
       "\t<tr><th scope=col>row</th><th scope=col>baseMean</th><th scope=col>log2FoldChange</th><th scope=col>lfcSE</th><th scope=col>stat</th><th scope=col>pvalue</th><th scope=col>padj</th></tr>\n",
       "\t<tr><th scope=col>&lt;chr&gt;</th><th scope=col>&lt;dbl&gt;</th><th scope=col>&lt;dbl&gt;</th><th scope=col>&lt;dbl&gt;</th><th scope=col>&lt;dbl&gt;</th><th scope=col>&lt;dbl&gt;</th><th scope=col>&lt;dbl&gt;</th></tr>\n",
       "</thead>\n",
       "<tbody>\n",
       "\t<tr><td>ENSMUSG00000021765.10</td><td>8.741861e+02</td><td> 0.5903011</td><td>0.5202837</td><td> 1.1345753</td><td>0.2565533</td><td>0.9973621</td></tr>\n",
       "\t<tr><td>ENSMUSG00000024653.3 </td><td>6.057904e-02</td><td>-0.7857388</td><td>6.2327766</td><td>-0.1260656</td><td>0.8996800</td><td>0.9973621</td></tr>\n",
       "\t<tr><td>ENSMUSG00000015340.11</td><td>2.878452e+03</td><td> 0.3434075</td><td>0.4854748</td><td> 0.7073641</td><td>0.4793402</td><td>0.9973621</td></tr>\n",
       "</tbody>\n",
       "</table>\n"
      ],
      "text/latex": [
       "A data.frame: 3 × 7\n",
       "\\begin{tabular}{lllllll}\n",
       " row & baseMean & log2FoldChange & lfcSE & stat & pvalue & padj\\\\\n",
       " <chr> & <dbl> & <dbl> & <dbl> & <dbl> & <dbl> & <dbl>\\\\\n",
       "\\hline\n",
       "\t ENSMUSG00000021765.10 & 8.741861e+02 &  0.5903011 & 0.5202837 &  1.1345753 & 0.2565533 & 0.9973621\\\\\n",
       "\t ENSMUSG00000024653.3  & 6.057904e-02 & -0.7857388 & 6.2327766 & -0.1260656 & 0.8996800 & 0.9973621\\\\\n",
       "\t ENSMUSG00000015340.11 & 2.878452e+03 &  0.3434075 & 0.4854748 &  0.7073641 & 0.4793402 & 0.9973621\\\\\n",
       "\\end{tabular}\n"
      ],
      "text/markdown": [
       "\n",
       "A data.frame: 3 × 7\n",
       "\n",
       "| row &lt;chr&gt; | baseMean &lt;dbl&gt; | log2FoldChange &lt;dbl&gt; | lfcSE &lt;dbl&gt; | stat &lt;dbl&gt; | pvalue &lt;dbl&gt; | padj &lt;dbl&gt; |\n",
       "|---|---|---|---|---|---|---|\n",
       "| ENSMUSG00000021765.10 | 8.741861e+02 |  0.5903011 | 0.5202837 |  1.1345753 | 0.2565533 | 0.9973621 |\n",
       "| ENSMUSG00000024653.3  | 6.057904e-02 | -0.7857388 | 6.2327766 | -0.1260656 | 0.8996800 | 0.9973621 |\n",
       "| ENSMUSG00000015340.11 | 2.878452e+03 |  0.3434075 | 0.4854748 |  0.7073641 | 0.4793402 | 0.9973621 |\n",
       "\n"
      ],
      "text/plain": [
       "  row                   baseMean     log2FoldChange lfcSE     stat      \n",
       "1 ENSMUSG00000021765.10 8.741861e+02  0.5903011     0.5202837  1.1345753\n",
       "2 ENSMUSG00000024653.3  6.057904e-02 -0.7857388     6.2327766 -0.1260656\n",
       "3 ENSMUSG00000015340.11 2.878452e+03  0.3434075     0.4854748  0.7073641\n",
       "  pvalue    padj     \n",
       "1 0.2565533 0.9973621\n",
       "2 0.8996800 0.9973621\n",
       "3 0.4793402 0.9973621"
      ]
     },
     "metadata": {},
     "output_type": "display_data"
    }
   ],
   "source": [
    "multstat[idx]\n",
    "readRDS(multfile) %>%\n",
    "    DESeq2::results(tidy = TRUE) %>%\n",
    "    dplyr::filter(str_detect(row, paste0(testres[[\"11. Ensembl gene id\"]], collapse = \"|\")))"
   ]
  },
  {
   "cell_type": "code",
   "execution_count": 42,
   "id": "750adf5e",
   "metadata": {},
   "outputs": [
    {
     "data": {
      "text/html": [
       "<strong>./proc/PRJNA668393-DESeq2-addstat.RDS:</strong> '97047ff20524890a16b5084d93bbc233'"
      ],
      "text/latex": [
       "\\textbf{./proc/PRJNA668393-DESeq2-addstat.RDS:} '97047ff20524890a16b5084d93bbc233'"
      ],
      "text/markdown": [
       "**./proc/PRJNA668393-DESeq2-addstat.RDS:** '97047ff20524890a16b5084d93bbc233'"
      ],
      "text/plain": [
       "./proc/PRJNA668393-DESeq2-addstat.RDS \n",
       "   \"97047ff20524890a16b5084d93bbc233\" "
      ]
     },
     "metadata": {},
     "output_type": "display_data"
    },
    {
     "data": {
      "text/html": [
       "<strong>./proc/PRJNA668393-DESeq2-multstat.RDS:</strong> '0be7f424f8ff7fcb665b4b4ac47d4197'"
      ],
      "text/latex": [
       "\\textbf{./proc/PRJNA668393-DESeq2-multstat.RDS:} '0be7f424f8ff7fcb665b4b4ac47d4197'"
      ],
      "text/markdown": [
       "**./proc/PRJNA668393-DESeq2-multstat.RDS:** '0be7f424f8ff7fcb665b4b4ac47d4197'"
      ],
      "text/plain": [
       "./proc/PRJNA668393-DESeq2-multstat.RDS \n",
       "    \"0be7f424f8ff7fcb665b4b4ac47d4197\" "
      ]
     },
     "metadata": {},
     "output_type": "display_data"
    }
   ],
   "source": [
    "outdir <- \"./proc\"\n",
    "\n",
    "addstatfile <- file.path(outdir, \"PRJNA668393-DESeq2-addstat.RDS\")\n",
    "multstatfile <- file.path(outdir, \"PRJNA668393-DESeq2-multstat.RDS\")\n",
    "\n",
    "saveRDS(addstat, addstatfile)\n",
    "saveRDS(multstat, multstatfile)\n",
    "\n",
    "tools::md5sum(addstatfile)\n",
    "tools::md5sum(multstatfile)"
   ]
  },
  {
   "cell_type": "code",
   "execution_count": null,
   "id": "59dab72d",
   "metadata": {},
   "outputs": [],
   "source": [
    "sessionInfo()"
   ]
  }
 ],
 "metadata": {
  "jupytext": {
   "formats": "ipynb,Rmd",
   "text_representation": {
    "extension": ".Rmd",
    "format_name": "rmarkdown",
    "format_version": "1.2",
    "jupytext_version": "1.11.2"
   }
  },
  "kernelspec": {
   "display_name": "R",
   "language": "R",
   "name": "ir"
  },
  "language_info": {
   "codemirror_mode": "r",
   "file_extension": ".r",
   "mimetype": "text/x-r-source",
   "name": "R",
   "pygments_lexer": "r",
   "version": "4.1.0"
  }
 },
 "nbformat": 4,
 "nbformat_minor": 5
}
